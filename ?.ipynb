{
 "cells": [
  {
   "cell_type": "code",
   "execution_count": 1,
   "metadata": {},
   "outputs": [
    {
     "name": "stderr",
     "output_type": "stream",
     "text": [
      "/home/aleespa/anaconda2/lib/python2.7/site-packages/sklearn/cross_validation.py:41: DeprecationWarning: This module was deprecated in version 0.18 in favor of the model_selection module into which all the refactored classes and functions are moved. Also note that the interface of the new CV iterators are different from that of this module. This module will be removed in 0.20.\n",
      "  \"This module will be removed in 0.20.\", DeprecationWarning)\n"
     ]
    }
   ],
   "source": [
    "import pandas as pd\n",
    "from sklearn.neighbors import KNeighborsClassifier\n",
    "from sklearn.linear_model import LogisticRegression\n",
    "import numpy as np\n",
    "from sklearn.tree import DecisionTreeClassifier\n",
    "from sklearn.model_selection import train_test_split\n",
    "from sklearn.metrics import roc_auc_score,accuracy_score,confusion_matrix\n",
    "from sklearn.decomposition import PCA\n",
    "from sklearn.neural_network import MLPClassifier\n",
    "from sklearn.model_selection import GridSearchCV,RandomizedSearchCV\n",
    "from sklearn.manifold import MDS\n",
    "from sklearn.preprocessing import Imputer,StandardScaler,MinMaxScaler, OneHotEncoder\n",
    "from sklearn.pipeline import make_pipeline\n",
    "import seaborn as sns\n",
    "from xgboost.sklearn import XGBClassifier\n",
    "from WeightofEvidence import WoE\n",
    "from __future__ import division\n",
    "%matplotlib inline"
   ]
  },
  {
   "cell_type": "code",
   "execution_count": 2,
   "metadata": {
    "collapsed": true
   },
   "outputs": [],
   "source": [
    "X = pd.read_csv('S&P500_2017.csv')\n",
    "X = X.drop(['Date'],axis=1)"
   ]
  },
  {
   "cell_type": "code",
   "execution_count": 3,
   "metadata": {},
   "outputs": [
    {
     "data": {
      "text/html": [
       "<div>\n",
       "<style>\n",
       "    .dataframe thead tr:only-child th {\n",
       "        text-align: right;\n",
       "    }\n",
       "\n",
       "    .dataframe thead th {\n",
       "        text-align: left;\n",
       "    }\n",
       "\n",
       "    .dataframe tbody tr th {\n",
       "        vertical-align: top;\n",
       "    }\n",
       "</style>\n",
       "<table border=\"1\" class=\"dataframe\">\n",
       "  <thead>\n",
       "    <tr style=\"text-align: right;\">\n",
       "      <th></th>\n",
       "      <th>A</th>\n",
       "      <th>AAL</th>\n",
       "      <th>AAP</th>\n",
       "      <th>AAPL</th>\n",
       "      <th>ABBV</th>\n",
       "      <th>ABC</th>\n",
       "      <th>ABT</th>\n",
       "      <th>ACN</th>\n",
       "      <th>ADBE</th>\n",
       "      <th>ADI</th>\n",
       "      <th>...</th>\n",
       "      <th>XL</th>\n",
       "      <th>XLNX</th>\n",
       "      <th>XOM</th>\n",
       "      <th>XRAY</th>\n",
       "      <th>XRX</th>\n",
       "      <th>XYL</th>\n",
       "      <th>YUM</th>\n",
       "      <th>ZBH</th>\n",
       "      <th>ZION</th>\n",
       "      <th>ZTS</th>\n",
       "    </tr>\n",
       "  </thead>\n",
       "  <tbody>\n",
       "    <tr>\n",
       "      <th>0</th>\n",
       "      <td>46.074703</td>\n",
       "      <td>45.816051</td>\n",
       "      <td>170.237915</td>\n",
       "      <td>113.847588</td>\n",
       "      <td>59.784031</td>\n",
       "      <td>80.855621</td>\n",
       "      <td>37.982937</td>\n",
       "      <td>114.158501</td>\n",
       "      <td>103.480003</td>\n",
       "      <td>70.577911</td>\n",
       "      <td>...</td>\n",
       "      <td>36.900692</td>\n",
       "      <td>57.513260</td>\n",
       "      <td>86.670731</td>\n",
       "      <td>58.296070</td>\n",
       "      <td>26.833357</td>\n",
       "      <td>48.875042</td>\n",
       "      <td>61.848686</td>\n",
       "      <td>102.513084</td>\n",
       "      <td>42.586197</td>\n",
       "      <td>53.118965</td>\n",
       "    </tr>\n",
       "    <tr>\n",
       "      <th>1</th>\n",
       "      <td>46.679256</td>\n",
       "      <td>46.211868</td>\n",
       "      <td>171.634933</td>\n",
       "      <td>113.720161</td>\n",
       "      <td>60.626999</td>\n",
       "      <td>82.862099</td>\n",
       "      <td>38.284462</td>\n",
       "      <td>114.432961</td>\n",
       "      <td>104.139999</td>\n",
       "      <td>70.431908</td>\n",
       "      <td>...</td>\n",
       "      <td>37.027840</td>\n",
       "      <td>57.094593</td>\n",
       "      <td>85.717155</td>\n",
       "      <td>58.773418</td>\n",
       "      <td>27.845938</td>\n",
       "      <td>49.603493</td>\n",
       "      <td>62.073734</td>\n",
       "      <td>103.455551</td>\n",
       "      <td>43.197666</td>\n",
       "      <td>53.634392</td>\n",
       "    </tr>\n",
       "    <tr>\n",
       "      <th>2</th>\n",
       "      <td>46.124260</td>\n",
       "      <td>45.410336</td>\n",
       "      <td>171.515182</td>\n",
       "      <td>114.298462</td>\n",
       "      <td>61.086800</td>\n",
       "      <td>81.902901</td>\n",
       "      <td>38.615170</td>\n",
       "      <td>112.717552</td>\n",
       "      <td>105.910004</td>\n",
       "      <td>69.419624</td>\n",
       "      <td>...</td>\n",
       "      <td>36.607288</td>\n",
       "      <td>56.403305</td>\n",
       "      <td>84.439362</td>\n",
       "      <td>58.007671</td>\n",
       "      <td>27.729099</td>\n",
       "      <td>49.150673</td>\n",
       "      <td>62.279217</td>\n",
       "      <td>104.120262</td>\n",
       "      <td>42.497429</td>\n",
       "      <td>53.455975</td>\n",
       "    </tr>\n",
       "    <tr>\n",
       "      <th>3</th>\n",
       "      <td>47.561314</td>\n",
       "      <td>45.726990</td>\n",
       "      <td>169.269974</td>\n",
       "      <td>115.572708</td>\n",
       "      <td>61.105961</td>\n",
       "      <td>82.999107</td>\n",
       "      <td>39.665661</td>\n",
       "      <td>114.001671</td>\n",
       "      <td>108.300003</td>\n",
       "      <td>69.692154</td>\n",
       "      <td>...</td>\n",
       "      <td>36.568165</td>\n",
       "      <td>57.493786</td>\n",
       "      <td>84.391678</td>\n",
       "      <td>57.967899</td>\n",
       "      <td>27.300703</td>\n",
       "      <td>48.806133</td>\n",
       "      <td>63.032623</td>\n",
       "      <td>104.130180</td>\n",
       "      <td>42.773582</td>\n",
       "      <td>53.624477</td>\n",
       "    </tr>\n",
       "    <tr>\n",
       "      <th>4</th>\n",
       "      <td>47.709969</td>\n",
       "      <td>46.587898</td>\n",
       "      <td>169.170197</td>\n",
       "      <td>116.631294</td>\n",
       "      <td>61.508286</td>\n",
       "      <td>83.664680</td>\n",
       "      <td>39.626755</td>\n",
       "      <td>112.727356</td>\n",
       "      <td>108.570000</td>\n",
       "      <td>70.023094</td>\n",
       "      <td>...</td>\n",
       "      <td>35.952015</td>\n",
       "      <td>57.503525</td>\n",
       "      <td>82.999451</td>\n",
       "      <td>58.146900</td>\n",
       "      <td>27.144920</td>\n",
       "      <td>48.599411</td>\n",
       "      <td>63.208748</td>\n",
       "      <td>106.154053</td>\n",
       "      <td>42.310051</td>\n",
       "      <td>53.475800</td>\n",
       "    </tr>\n",
       "  </tbody>\n",
       "</table>\n",
       "<p>5 rows × 503 columns</p>\n",
       "</div>"
      ],
      "text/plain": [
       "           A        AAL         AAP        AAPL       ABBV        ABC  \\\n",
       "0  46.074703  45.816051  170.237915  113.847588  59.784031  80.855621   \n",
       "1  46.679256  46.211868  171.634933  113.720161  60.626999  82.862099   \n",
       "2  46.124260  45.410336  171.515182  114.298462  61.086800  81.902901   \n",
       "3  47.561314  45.726990  169.269974  115.572708  61.105961  82.999107   \n",
       "4  47.709969  46.587898  169.170197  116.631294  61.508286  83.664680   \n",
       "\n",
       "         ABT         ACN        ADBE        ADI    ...             XL  \\\n",
       "0  37.982937  114.158501  103.480003  70.577911    ...      36.900692   \n",
       "1  38.284462  114.432961  104.139999  70.431908    ...      37.027840   \n",
       "2  38.615170  112.717552  105.910004  69.419624    ...      36.607288   \n",
       "3  39.665661  114.001671  108.300003  69.692154    ...      36.568165   \n",
       "4  39.626755  112.727356  108.570000  70.023094    ...      35.952015   \n",
       "\n",
       "        XLNX        XOM       XRAY        XRX        XYL        YUM  \\\n",
       "0  57.513260  86.670731  58.296070  26.833357  48.875042  61.848686   \n",
       "1  57.094593  85.717155  58.773418  27.845938  49.603493  62.073734   \n",
       "2  56.403305  84.439362  58.007671  27.729099  49.150673  62.279217   \n",
       "3  57.493786  84.391678  57.967899  27.300703  48.806133  63.032623   \n",
       "4  57.503525  82.999451  58.146900  27.144920  48.599411  63.208748   \n",
       "\n",
       "          ZBH       ZION        ZTS  \n",
       "0  102.513084  42.586197  53.118965  \n",
       "1  103.455551  43.197666  53.634392  \n",
       "2  104.120262  42.497429  53.455975  \n",
       "3  104.130180  42.773582  53.624477  \n",
       "4  106.154053  42.310051  53.475800  \n",
       "\n",
       "[5 rows x 503 columns]"
      ]
     },
     "execution_count": 3,
     "metadata": {},
     "output_type": "execute_result"
    }
   ],
   "source": [
    "X.head()"
   ]
  },
  {
   "cell_type": "code",
   "execution_count": 4,
   "metadata": {
    "collapsed": true
   },
   "outputs": [],
   "source": [
    "r = 0.035/365\n",
    "n = 2000"
   ]
  },
  {
   "cell_type": "code",
   "execution_count": 5,
   "metadata": {},
   "outputs": [],
   "source": [
    "Times = [(t1,t1+np.random.choice(range(1,30))) for t1 in [np.random.choice(range(220))for _ in range(n)] ]"
   ]
  },
  {
   "cell_type": "code",
   "execution_count": 6,
   "metadata": {
    "collapsed": true
   },
   "outputs": [],
   "source": [
    "M=X.fillna(X.mean())\n",
    "M = M.pct_change()\n",
    "Z = pd.DataFrame(columns=M.columns)\n",
    "Z = Z.T\n",
    "Z['Mean'] = M.mean()\n",
    "Z['Std'] = M.std()\n",
    "Z['Skew'] = M.skew()\n",
    "Z['Kurt'] = M.kurt()"
   ]
  },
  {
   "cell_type": "markdown",
   "metadata": {},
   "source": [
    "$$K=S_0e^{rt}$$"
   ]
  },
  {
   "cell_type": "code",
   "execution_count": 7,
   "metadata": {},
   "outputs": [],
   "source": [
    "Y = pd.DataFrame(columns=['Mean','Std','Skew','Kurt','I','F','D'],index=range(n))\n",
    "for i in range(n):\n",
    "    ran = np.random.choice(503)\n",
    "    t = (Times[i][1]-Times[i][0])/365\n",
    "    S0 = X.T.iloc[ran][Times[i][0]]\n",
    "    K = S0*np.e**(r*t)\n",
    "    St =  X.T.iloc[ran][Times[i][1]] \n",
    "    d=  (K <=St)*1\n",
    "    Y.iloc[i]=list(Z.iloc[ran])+[Times[i][0],Times[i][1],d]"
   ]
  },
  {
   "cell_type": "code",
   "execution_count": 8,
   "metadata": {},
   "outputs": [
    {
     "data": {
      "text/html": [
       "<div>\n",
       "<style>\n",
       "    .dataframe thead tr:only-child th {\n",
       "        text-align: right;\n",
       "    }\n",
       "\n",
       "    .dataframe thead th {\n",
       "        text-align: left;\n",
       "    }\n",
       "\n",
       "    .dataframe tbody tr th {\n",
       "        vertical-align: top;\n",
       "    }\n",
       "</style>\n",
       "<table border=\"1\" class=\"dataframe\">\n",
       "  <thead>\n",
       "    <tr style=\"text-align: right;\">\n",
       "      <th></th>\n",
       "      <th>Mean</th>\n",
       "      <th>Std</th>\n",
       "      <th>Skew</th>\n",
       "      <th>Kurt</th>\n",
       "      <th>I</th>\n",
       "      <th>F</th>\n",
       "      <th>D</th>\n",
       "    </tr>\n",
       "  </thead>\n",
       "  <tbody>\n",
       "    <tr>\n",
       "      <th>0</th>\n",
       "      <td>-0.000372193</td>\n",
       "      <td>0.0134632</td>\n",
       "      <td>-0.267986</td>\n",
       "      <td>2.01296</td>\n",
       "      <td>155</td>\n",
       "      <td>157</td>\n",
       "      <td>0</td>\n",
       "    </tr>\n",
       "    <tr>\n",
       "      <th>1</th>\n",
       "      <td>0.000950856</td>\n",
       "      <td>0.0147576</td>\n",
       "      <td>2.54903</td>\n",
       "      <td>17.8483</td>\n",
       "      <td>56</td>\n",
       "      <td>73</td>\n",
       "      <td>0</td>\n",
       "    </tr>\n",
       "    <tr>\n",
       "      <th>2</th>\n",
       "      <td>0.00158491</td>\n",
       "      <td>0.0128383</td>\n",
       "      <td>1.22225</td>\n",
       "      <td>10.1325</td>\n",
       "      <td>79</td>\n",
       "      <td>84</td>\n",
       "      <td>1</td>\n",
       "    </tr>\n",
       "    <tr>\n",
       "      <th>3</th>\n",
       "      <td>0.000946472</td>\n",
       "      <td>0.0100483</td>\n",
       "      <td>-0.228912</td>\n",
       "      <td>1.10139</td>\n",
       "      <td>130</td>\n",
       "      <td>144</td>\n",
       "      <td>0</td>\n",
       "    </tr>\n",
       "    <tr>\n",
       "      <th>4</th>\n",
       "      <td>0.000309427</td>\n",
       "      <td>0.00984987</td>\n",
       "      <td>-1.60136</td>\n",
       "      <td>10.0893</td>\n",
       "      <td>54</td>\n",
       "      <td>76</td>\n",
       "      <td>1</td>\n",
       "    </tr>\n",
       "  </tbody>\n",
       "</table>\n",
       "</div>"
      ],
      "text/plain": [
       "          Mean         Std      Skew     Kurt    I    F  D\n",
       "0 -0.000372193   0.0134632 -0.267986  2.01296  155  157  0\n",
       "1  0.000950856   0.0147576   2.54903  17.8483   56   73  0\n",
       "2   0.00158491   0.0128383   1.22225  10.1325   79   84  1\n",
       "3  0.000946472   0.0100483 -0.228912  1.10139  130  144  0\n",
       "4  0.000309427  0.00984987  -1.60136  10.0893   54   76  1"
      ]
     },
     "execution_count": 8,
     "metadata": {},
     "output_type": "execute_result"
    }
   ],
   "source": [
    "Y.head()"
   ]
  },
  {
   "cell_type": "code",
   "execution_count": 9,
   "metadata": {},
   "outputs": [],
   "source": [
    "for col in Y.columns:\n",
    "    Y[col] = Y[col].apply(pd.to_numeric, errors='coerce')"
   ]
  },
  {
   "cell_type": "code",
   "execution_count": 10,
   "metadata": {
    "collapsed": true
   },
   "outputs": [],
   "source": [
    "W = Y[['Mean','Std','Skew','Kurt','I','F']]\n",
    "y = Y[['D']]"
   ]
  },
  {
   "cell_type": "code",
   "execution_count": 11,
   "metadata": {},
   "outputs": [
    {
     "data": {
      "text/html": [
       "<div>\n",
       "<style>\n",
       "    .dataframe thead tr:only-child th {\n",
       "        text-align: right;\n",
       "    }\n",
       "\n",
       "    .dataframe thead th {\n",
       "        text-align: left;\n",
       "    }\n",
       "\n",
       "    .dataframe tbody tr th {\n",
       "        vertical-align: top;\n",
       "    }\n",
       "</style>\n",
       "<table border=\"1\" class=\"dataframe\">\n",
       "  <thead>\n",
       "    <tr style=\"text-align: right;\">\n",
       "      <th></th>\n",
       "      <th>Mean</th>\n",
       "      <th>Std</th>\n",
       "      <th>Skew</th>\n",
       "      <th>Kurt</th>\n",
       "      <th>I</th>\n",
       "      <th>F</th>\n",
       "    </tr>\n",
       "  </thead>\n",
       "  <tbody>\n",
       "    <tr>\n",
       "      <th>0</th>\n",
       "      <td>0.009425</td>\n",
       "      <td>0.009424</td>\n",
       "      <td>0.003889</td>\n",
       "      <td>0.000002</td>\n",
       "      <td>0.526838</td>\n",
       "      <td>0.568693</td>\n",
       "    </tr>\n",
       "  </tbody>\n",
       "</table>\n",
       "</div>"
      ],
      "text/plain": [
       "       Mean       Std      Skew      Kurt         I         F\n",
       "0  0.009425  0.009424  0.003889  0.000002  0.526838  0.568693"
      ]
     },
     "execution_count": 11,
     "metadata": {},
     "output_type": "execute_result"
    }
   ],
   "source": [
    "woe = WoE(['I','F'],['Mean','Std','Skew','Kurt'])\n",
    "woe.fit(W,y,bins=range(2,30))\n",
    "Ww = woe.transform(W)\n",
    "woe.IV"
   ]
  },
  {
   "cell_type": "code",
   "execution_count": 12,
   "metadata": {},
   "outputs": [
    {
     "name": "stdout",
     "output_type": "stream",
     "text": [
      "(1400, 6)\n",
      "(600, 6)\n",
      "(1400, 1)\n",
      "(600, 1)\n"
     ]
    },
    {
     "name": "stderr",
     "output_type": "stream",
     "text": [
      "/home/aleespa/anaconda2/lib/python2.7/site-packages/sklearn/model_selection/_split.py:2026: FutureWarning: From version 0.21, test_size will always complement train_size unless both are specified.\n",
      "  FutureWarning)\n"
     ]
    }
   ],
   "source": [
    "Xt,Xv,yt,yv =train_test_split(Ww,y,train_size=0.7)\n",
    "for d in [Xt,Xv,yt,yv]:\n",
    "    print d.shape"
   ]
  },
  {
   "cell_type": "code",
   "execution_count": 13,
   "metadata": {
    "collapsed": true
   },
   "outputs": [],
   "source": [
    "def metricas(model,Xt,Xv,yt,yv):\n",
    "    print roc_auc_score(y_score=model.predict_proba(Xt)[:,1],y_true=yt)\n",
    "    print roc_auc_score(y_score=model.predict_proba(Xv)[:,1],y_true=yv)\n",
    "    print accuracy_score(y_pred=model.predict(Xt),y_true=yt)\n",
    "    print accuracy_score(y_pred=model.predict(Xv),y_true=yv)\n",
    "    print confusion_matrix(y_pred=model.predict(Xt),y_true=yt)\n",
    "    print confusion_matrix(y_pred=model.predict(Xv),y_true=yv)"
   ]
  },
  {
   "cell_type": "code",
   "execution_count": null,
   "metadata": {},
   "outputs": [
    {
     "name": "stdout",
     "output_type": "stream",
     "text": [
      "0.762519448468\n",
      "0.730909345663\n",
      "0.72\n",
      "0.69\n",
      "[[289 256]\n",
      " [136 719]]\n",
      "[[115 119]\n",
      " [ 67 299]]\n"
     ]
    },
    {
     "name": "stderr",
     "output_type": "stream",
     "text": [
      "/home/aleespa/anaconda2/lib/python2.7/site-packages/sklearn/utils/validation.py:578: DataConversionWarning: A column-vector y was passed when a 1d array was expected. Please change the shape of y to (n_samples, ), for example using ravel().\n",
      "  y = column_or_1d(y, warn=True)\n"
     ]
    }
   ],
   "source": [
    "model =LogisticRegression()\n",
    "model.fit(Xt,yt)\n",
    "metricas(model,Xt,Xv,yt,yv)"
   ]
  },
  {
   "cell_type": "code",
   "execution_count": null,
   "metadata": {},
   "outputs": [],
   "source": [
    "from sklearn.tree import DecisionTreeClassifier\n",
    "param_grid = dict(criterion=['gini','entropy'],\n",
    "                 max_depth=range(1,11),\n",
    "                 min_samples_split = range(100,210,10)\n",
    "                 )\n",
    "model = DecisionTreeClassifier()\n",
    "grid = GridSearchCV(cv=10,n_jobs=-1,scoring='roc_auc',\n",
    "                    estimator=model,\n",
    "                    param_grid=param_grid)\n",
    "\n",
    "\n",
    "grid.fit(Ww,y)\n",
    "\n",
    "print grid.best_estimator_\n",
    "print grid.best_params_\n",
    "print grid.best_score_"
   ]
  },
  {
   "cell_type": "code",
   "execution_count": null,
   "metadata": {},
   "outputs": [],
   "source": [
    "model = grid.best_estimator_\n",
    "metricas(model,Xt,Xv,yt,yv)"
   ]
  },
  {
   "cell_type": "code",
   "execution_count": null,
   "metadata": {},
   "outputs": [],
   "source": [
    "xgb = XGBClassifier()\n",
    "xgb.fit(Ww,y)\n",
    "metricas(xgb,Xt,Xv,yt,yv)"
   ]
  }
 ],
 "metadata": {
  "kernelspec": {
   "display_name": "Python 2",
   "language": "python",
   "name": "python2"
  },
  "language_info": {
   "codemirror_mode": {
    "name": "ipython",
    "version": 2
   },
   "file_extension": ".py",
   "mimetype": "text/x-python",
   "name": "python",
   "nbconvert_exporter": "python",
   "pygments_lexer": "ipython2",
   "version": "2.7.14"
  }
 },
 "nbformat": 4,
 "nbformat_minor": 2
}
