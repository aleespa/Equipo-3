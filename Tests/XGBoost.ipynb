{
 "cells": [
  {
   "cell_type": "code",
   "execution_count": 6,
   "metadata": {},
   "outputs": [],
   "source": [
    "import quandl\n",
    "import pandas as pd\n",
    "import numpy as np\n",
    "from sklearn.neural_network import MLPRegressor\n",
    "from sklearn.tree import DecisionTreeRegressor\n",
    "from sklearn.ensemble import GradientBoostingRegressor\n",
    "from sklearn.neighbors import KNeighborsRegressor\n",
    "from sklearn.naive_bayes import GaussianNB\n",
    "from sklearn.linear_model import SGDClassifier\n",
    "from sklearn import preprocessing, cross_validation\n",
    "from sklearn.preprocessing import MinMaxScaler\n",
    "from sklearn.model_selection import GridSearchCV\n",
    "quandl.ApiConfig.api_key = 'DEN8cmx6MYrtzyeUdDeh'"
   ]
  },
  {
   "cell_type": "code",
   "execution_count": 8,
   "metadata": {},
   "outputs": [
    {
     "name": "stdout",
     "output_type": "stream",
     "text": [
      "FB\n",
      "ACC Validate 99.67%\n",
      "ACC Train    99.58%\n",
      "GOOGL\n",
      "ACC Validate 99.79%\n",
      "ACC Train    99.73%\n",
      "AAPl\n",
      "ACC Validate 99.43%\n",
      "ACC Train    99.69%\n",
      "AMZN\n",
      "ACC Validate 99.95%\n",
      "ACC Train    99.94%\n",
      "TSLA\n",
      "ACC Validate 98.11%\n",
      "ACC Train    98.35%\n",
      "MSFT\n",
      "ACC Validate 99.90%\n",
      "ACC Train    99.92%\n",
      "AMD\n",
      "ACC Validate 98.62%\n",
      "ACC Train    98.51%\n",
      "INTC\n",
      "ACC Validate 99.90%\n",
      "ACC Train    99.90%\n",
      "T\n",
      "ACC Validate 99.00%\n",
      "ACC Train    98.87%\n",
      "NFLX\n",
      "ACC Validate 99.93%\n",
      "ACC Train    99.94%\n",
      "Promedio Validate  99.43%\n",
      "Promedio Train     99.44%\n",
      "CPU times: user 1min 35s, sys: 759 ms, total: 1min 35s\n",
      "Wall time: 1min 58s\n"
     ]
    }
   ],
   "source": [
    "%%time\n",
    "tickers = ['FB','GOOGL','AAPl','AMZN','TSLA','MSFT','AMD','INTC','T','NFLX']\n",
    "Validate = []\n",
    "Train = []\n",
    "for ticker in tickers:\n",
    "    df = quandl.get(\"WIKI/\"+ticker)\n",
    "    df = df.iloc[-500:]\n",
    "    func = ['mean','std','skew','kurt']\n",
    "    time = [2,4,7,30,60,120,250]\n",
    "    Z = pd.DataFrame()\n",
    "    for f in func:\n",
    "        for t in time:\n",
    "            aux = pd.DataFrame()\n",
    "            for i in range(249):\n",
    "                aux[df.index[i+251]] = list(df.iloc[i-t+251:i+251]['Adj. Close'])\n",
    "            Z[f+str(t)] = aux.apply(f,axis=0)  \n",
    "    Z.drop(['skew2','kurt2'],axis=1, inplace =True)\n",
    "    W = pd.merge(Z, df[['Adj. Close']],left_index=True,right_index=True)\n",
    "    X = W.drop(['Adj. Close'],1).fillna(0)\n",
    "    y = W[['Adj. Close']]\n",
    "    mm1 = MinMaxScaler()\n",
    "    mm2 = MinMaxScaler()\n",
    "    mm1.fit(X)\n",
    "    mm2.fit(y)\n",
    "    Xm = pd.DataFrame(mm1.transform(X))\n",
    "    ym = pd.DataFrame(mm2.transform(y))\n",
    "    Xt, Xv, yt, yv = cross_validation.train_test_split(Xm, ym, test_size = 0.3)\n",
    "    model =  GradientBoostingRegressor()\n",
    "    model.fit(Xm,ym)\n",
    "    print ticker\n",
    "    print 'ACC Validate {:.2%}'.format(model.score(Xv,yv))\n",
    "    print 'ACC Train    {:.2%}'.format(model.score(Xt,yt))\n",
    "    Validate.append(model.score(Xv,yv))\n",
    "    Train.append(model.score(Xt,yt))\n",
    "print 'Promedio Validate  {:.2%}'.format(np.array(Validate).mean())\n",
    "print 'Promedio Train     {:.2%}'.format(np.array(Train).mean())"
   ]
  },
  {
   "cell_type": "code",
   "execution_count": null,
   "metadata": {
    "collapsed": true
   },
   "outputs": [],
   "source": []
  }
 ],
 "metadata": {
  "kernelspec": {
   "display_name": "Python 2",
   "language": "python",
   "name": "python2"
  },
  "language_info": {
   "codemirror_mode": {
    "name": "ipython",
    "version": 2
   },
   "file_extension": ".py",
   "mimetype": "text/x-python",
   "name": "python",
   "nbconvert_exporter": "python",
   "pygments_lexer": "ipython2",
   "version": "2.7.13"
  }
 },
 "nbformat": 4,
 "nbformat_minor": 2
}
