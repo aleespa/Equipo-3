{
 "cells": [
  {
   "cell_type": "code",
   "execution_count": 1,
   "metadata": {
    "scrolled": false
   },
   "outputs": [],
   "source": [
    "import quandl\n",
    "import pandas as pd\n",
    "import numpy as np\n",
    "from sklearn.ensemble import AdaBoostRegressor        #AdaBoostClassifier,RandomForestClassifier\n",
    "from sklearn.preprocessing import MinMaxScaler\n",
    "from sklearn.metrics import accuracy_score,roc_auc_score\n",
    "from sklearn.model_selection import GridSearchCV, train_test_split,RandomizedSearchCV #Hiperparametrización\n",
    "quandl.ApiConfig.api_key = 'DEN8cmx6MYrtzyeUdDeh' #????"
   ]
  },
  {
   "cell_type": "code",
   "execution_count": 2,
   "metadata": {},
   "outputs": [
    {
     "name": "stderr",
     "output_type": "stream",
     "text": [
      "/home/ciprian/.local/lib/python2.7/site-packages/sklearn/utils/validation.py:578: DataConversionWarning: A column-vector y was passed when a 1d array was expected. Please change the shape of y to (n_samples, ), for example using ravel().\n",
      "  y = column_or_1d(y, warn=True)\n"
     ]
    },
    {
     "name": "stdout",
     "output_type": "stream",
     "text": [
      "FB\n",
      "ACC Validate 96.22%\n",
      "ACC Train    98.29%\n",
      "GOOGL\n",
      "ACC Validate 95.91%\n",
      "ACC Train    98.35%\n",
      "AAPl\n",
      "ACC Validate 95.24%\n",
      "ACC Train    98.15%\n",
      "AMZN\n",
      "ACC Validate 99.08%\n",
      "ACC Train    99.55%\n",
      "TSLA\n",
      "ACC Validate 77.34%\n",
      "ACC Train    93.58%\n",
      "MSFT\n",
      "ACC Validate 98.02%\n",
      "ACC Train    99.37%\n",
      "AMD\n",
      "ACC Validate 89.35%\n",
      "ACC Train    91.75%\n",
      "INTC\n",
      "ACC Validate 97.22%\n",
      "ACC Train    99.30%\n",
      "T\n",
      "ACC Validate 89.29%\n",
      "ACC Train    93.87%\n",
      "NFLX\n",
      "ACC Validate 98.20%\n",
      "ACC Train    99.40%\n",
      "\n",
      "\n",
      "Promedio Validate  93.59%\n",
      "Promedio Train     97.16%\n",
      "CPU times: user 2min 54s, sys: 1.21 s, total: 2min 55s\n",
      "Wall time: 3min 19s\n"
     ]
    }
   ],
   "source": [
    "%%time\n",
    "tickers = ['FB','GOOGL','AAPl','AMZN','TSLA','MSFT','AMD','INTC','T','NFLX']\n",
    "Validate = [] #Conjunto para validación \n",
    "Train = [] #Conjunto de entrenamiento\n",
    "\n",
    "for ticker in tickers:\n",
    "    df = quandl.get(\"WIKI/\"+ticker)\n",
    "    #print (df)\n",
    "    df = df.iloc[-500:]\n",
    "    func = ['mean','std','skew','kurt'] #Estadísticos de interés\n",
    "    time = [2,4,7,30,60,120,250] #Días tomados artibatriamente  \n",
    "    Z = pd.DataFrame()  \n",
    "    for f in func: \n",
    "        for t in time:\n",
    "            aux = pd.DataFrame()\n",
    "            for i in range(249):\n",
    "                aux[ df.index[i+251] ] = list( df.iloc[i-t+251:i+251]['Adj. Close'] ) #\n",
    "            Z[f+str(t)] = aux.apply(f,axis=0)  \n",
    "    Z.drop(['skew2','kurt2'],axis=1, inplace =True)\n",
    "    W = pd.merge(Z, df[['Adj. Close']],left_index=True,right_index=True)    \n",
    "    X = W.drop(['Adj. Close'],1).fillna(0)\n",
    "    y = W[['Adj. Close']]    \n",
    "    mm1 = MinMaxScaler()\n",
    "    mm2 = MinMaxScaler()\n",
    "    mm1.fit(X)\n",
    "    mm2.fit(y)\n",
    "    Xm = pd.DataFrame(mm1.transform(X))\n",
    "    ym = pd.DataFrame(mm2.transform(y))\n",
    "    Xt, Xv, yt, yv = train_test_split(Xm, ym, test_size = 0.3)\n",
    "    model = AdaBoostRegressor()\n",
    "    model.fit(Xt,yt)   \n",
    "    print ticker\n",
    "    print 'ACC Validate {:.2%}'.format(model.score(Xv,yv))\n",
    "    print 'ACC Train    {:.2%}'.format(model.score(Xt,yt))\n",
    "    Validate.append(model.score(Xv,yv))\n",
    "    Train.append(model.score(Xt,yt))\n",
    "print '\\n'\n",
    "print 'Promedio Validate  {:.2%}'.format(np.array(Validate).mean())\n",
    "print 'Promedio Train     {:.2%}'.format(np.array(Train).mean())"
   ]
  },
  {
   "cell_type": "markdown",
   "metadata": {},
   "source": [
    "Observación: Los datos que estaban dando como Target son continuos entonces se debía cambiar la SVM en modo regresión "
   ]
  },
  {
   "cell_type": "code",
   "execution_count": null,
   "metadata": {},
   "outputs": [],
   "source": []
  }
 ],
 "metadata": {
  "kernelspec": {
   "display_name": "Python 2",
   "language": "python",
   "name": "python2"
  },
  "language_info": {
   "codemirror_mode": {
    "name": "ipython",
    "version": 2
   },
   "file_extension": ".py",
   "mimetype": "text/x-python",
   "name": "python",
   "nbconvert_exporter": "python",
   "pygments_lexer": "ipython2",
   "version": "2.7.14"
  }
 },
 "nbformat": 4,
 "nbformat_minor": 2
}
