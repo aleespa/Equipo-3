{
 "cells": [
  {
   "cell_type": "code",
   "execution_count": 5,
   "metadata": {
    "collapsed": true
   },
   "outputs": [],
   "source": [
    "import quandl\n",
    "import pandas as pd\n",
    "import numpy as np\n",
    "from sklearn.neural_network import MLPRegressor\n",
    "from sklearn.linear_model import SGDRegressor\n",
    "from sklearn.tree import DecisionTreeRegressor\n",
    "from sklearn.neighbors import KNeighborsRegressor\n",
    "\n",
    "from sklearn import preprocessing, cross_validation\n",
    "from sklearn.preprocessing import MinMaxScaler\n",
    "from sklearn.model_selection import GridSearchCV\n",
    "quandl.ApiConfig.api_key = 'DEN8cmx6MYrtzyeUdDeh'"
   ]
  },
  {
   "cell_type": "code",
   "execution_count": 8,
   "metadata": {},
   "outputs": [
    {
     "name": "stderr",
     "output_type": "stream",
     "text": [
      "/home/carla/anaconda2/lib/python2.7/site-packages/sklearn/utils/validation.py:547: DataConversionWarning: A column-vector y was passed when a 1d array was expected. Please change the shape of y to (n_samples, ), for example using ravel().\n",
      "  y = column_or_1d(y, warn=True)\n",
      "/home/carla/anaconda2/lib/python2.7/site-packages/sklearn/utils/validation.py:547: DataConversionWarning: A column-vector y was passed when a 1d array was expected. Please change the shape of y to (n_samples, ), for example using ravel().\n",
      "  y = column_or_1d(y, warn=True)\n",
      "/home/carla/anaconda2/lib/python2.7/site-packages/sklearn/utils/validation.py:547: DataConversionWarning: A column-vector y was passed when a 1d array was expected. Please change the shape of y to (n_samples, ), for example using ravel().\n",
      "  y = column_or_1d(y, warn=True)\n",
      "/home/carla/anaconda2/lib/python2.7/site-packages/sklearn/utils/validation.py:547: DataConversionWarning: A column-vector y was passed when a 1d array was expected. Please change the shape of y to (n_samples, ), for example using ravel().\n",
      "  y = column_or_1d(y, warn=True)\n",
      "/home/carla/anaconda2/lib/python2.7/site-packages/sklearn/utils/validation.py:547: DataConversionWarning: A column-vector y was passed when a 1d array was expected. Please change the shape of y to (n_samples, ), for example using ravel().\n",
      "  y = column_or_1d(y, warn=True)\n"
     ]
    },
    {
     "name": "stdout",
     "output_type": "stream",
     "text": [
      "FB\n",
      "ACC Validate 95.20%\n",
      "ACC Train    97.24%\n",
      "GOOGL\n",
      "ACC Validate 95.48%\n",
      "ACC Train    95.63%\n",
      "AAPl\n",
      "ACC Validate 95.62%\n",
      "ACC Train    96.56%\n",
      "AMZN\n",
      "ACC Validate 99.52%\n",
      "ACC Train    98.87%\n",
      "TSLA\n",
      "ACC Validate 79.24%\n",
      "ACC Train    85.75%\n",
      "MSFT\n",
      "ACC Validate 98.13%\n",
      "ACC Train    98.29%\n",
      "AMD\n",
      "ACC Validate 79.39%\n",
      "ACC Train    85.47%\n",
      "INTC\n",
      "ACC Validate 97.35%\n",
      "ACC Train    98.76%\n",
      "T\n",
      "ACC Validate 78.88%\n",
      "ACC Train    89.56%\n",
      "NFLX\n",
      "ACC Validate 98.12%\n",
      "ACC Train    98.50%\n",
      "Promedio Validate  91.69%\n",
      "Promedio Train     94.46%\n",
      "CPU times: user 1min 40s, sys: 1.19 s, total: 1min 41s\n",
      "Wall time: 2min 12s\n"
     ]
    }
   ],
   "source": [
    "%%time\n",
    "tickers = ['FB','GOOGL','AAPl','AMZN','TSLA','MSFT','AMD','INTC','T','NFLX']\n",
    "Validate = []\n",
    "Train = []\n",
    "for ticker in tickers:\n",
    "    df = quandl.get(\"WIKI/\"+ticker)\n",
    "    df = df.iloc[-500:]\n",
    "    func = ['mean','std','skew','kurt']\n",
    "    time = [2,4,7,30,60,120,250]\n",
    "    Z = pd.DataFrame()\n",
    "    for f in func:\n",
    "        for t in time:\n",
    "            aux = pd.DataFrame()\n",
    "            for i in range(249):\n",
    "                aux[df.index[i+251]] = list(df.iloc[i-t+251:i+251]['Adj. Close'])\n",
    "            Z[f+str(t)] = aux.apply(f,axis=0)  \n",
    "    Z.drop(['skew2','kurt2'],axis=1, inplace =True)\n",
    "    W = pd.merge(Z, df[['Adj. Close']],left_index=True,right_index=True)\n",
    "    X = W.drop(['Adj. Close'],1).fillna(0)\n",
    "    y = W[['Adj. Close']]\n",
    "    mm1 = MinMaxScaler()\n",
    "    mm2 = MinMaxScaler()\n",
    "    mm1.fit(X)\n",
    "    mm2.fit(y)\n",
    "    Xm = pd.DataFrame(mm1.transform(X))\n",
    "    ym = pd.DataFrame(mm2.transform(y))\n",
    "    Xt, Xv, yt, yv = cross_validation.train_test_split(Xm, ym, test_size = 0.3)\n",
    "    model =  SGDRegressor()\n",
    "     \n",
    "    param_grid = dict(alpha = np.arange(0.0001,0.001),\n",
    "                      #loss = ['log']\n",
    "                      penalty =['l2', 'l1', 'elasticnet'],\n",
    "                      max_iter=[500],\n",
    "                      epsilon =np.arange(0.0001,0.001),\n",
    "                      loss = ['squared_loss', 'huber', 'epsilon_insensitive','squared_epsilon_insensitive'])\n",
    "                      #'perceptron']\n",
    "                 \n",
    "    grid = GridSearchCV(cv = 3, \n",
    "                        estimator = model,\n",
    "                        n_jobs = -1,\n",
    "                        param_grid=param_grid)\n",
    "    grid.fit(Xm,ym)\n",
    "    model = grid.best_estimator_\n",
    "    model.fit(Xt,yt)\n",
    "    print ticker\n",
    "    print 'ACC Validate {:.2%}'.format(model.score(Xv,yv))\n",
    "    print 'ACC Train    {:.2%}'.format(model.score(Xt,yt))\n",
    "    Validate.append(model.score(Xv,yv))\n",
    "    Train.append(model.score(Xt,yt))\n",
    "print 'Promedio Validate  {:.2%}'.format(np.array(Validate).mean())\n",
    "print 'Promedio Train     {:.2%}'.format(np.array(Train).mean())"
   ]
  },
  {
   "cell_type": "code",
   "execution_count": null,
   "metadata": {
    "collapsed": true
   },
   "outputs": [],
   "source": []
  }
 ],
 "metadata": {
  "kernelspec": {
   "display_name": "Python 2",
   "language": "python",
   "name": "python2"
  },
  "language_info": {
   "codemirror_mode": {
    "name": "ipython",
    "version": 2
   },
   "file_extension": ".py",
   "mimetype": "text/x-python",
   "name": "python",
   "nbconvert_exporter": "python",
   "pygments_lexer": "ipython2",
   "version": "2.7.13"
  }
 },
 "nbformat": 4,
 "nbformat_minor": 2
}
