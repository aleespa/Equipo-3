{
 "cells": [
  {
   "cell_type": "code",
   "execution_count": 1,
   "metadata": {
    "scrolled": false
   },
   "outputs": [],
   "source": [
    "import quandl\n",
    "import pandas as pd\n",
    "import numpy as np\n",
    "from xgboost.sklearn import XGBRegressor\n",
    "from sklearn.preprocessing import MinMaxScaler\n",
    "from sklearn.metrics import accuracy_score,roc_auc_score\n",
    "from sklearn.model_selection import GridSearchCV, train_test_split,RandomizedSearchCV #Hiperparametrización\n",
    "quandl.ApiConfig.api_key = 'DEN8cmx6MYrtzyeUdDeh' #????"
   ]
  },
  {
   "cell_type": "code",
   "execution_count": 2,
   "metadata": {},
   "outputs": [
    {
     "name": "stdout",
     "output_type": "stream",
     "text": [
      "FB\n",
      "ACC Validate 95.29%\n",
      "ACC Train    99.77%\n",
      "GOOGL\n",
      "ACC Validate 96.37%\n",
      "ACC Train    99.77%\n",
      "AAPl\n",
      "ACC Validate 95.82%\n",
      "ACC Train    99.80%\n",
      "AMZN\n",
      "ACC Validate 99.19%\n",
      "ACC Train    99.95%\n",
      "TSLA\n",
      "ACC Validate 82.88%\n",
      "ACC Train    98.97%\n",
      "MSFT\n",
      "ACC Validate 97.88%\n",
      "ACC Train    99.95%\n",
      "AMD\n",
      "ACC Validate 71.46%\n",
      "ACC Train    99.32%\n",
      "INTC\n",
      "ACC Validate 98.56%\n",
      "ACC Train    99.91%\n",
      "T\n",
      "ACC Validate 84.68%\n",
      "ACC Train    99.26%\n",
      "NFLX\n",
      "ACC Validate 99.14%\n",
      "ACC Train    99.94%\n",
      "\n",
      "\n",
      "Promedio Validate  92.13%\n",
      "Promedio Train     99.67%\n",
      "CPU times: user 2min 57s, sys: 1.2 s, total: 2min 58s\n",
      "Wall time: 3min 24s\n"
     ]
    }
   ],
   "source": [
    "%%time\n",
    "tickers = ['FB','GOOGL','AAPl','AMZN','TSLA','MSFT','AMD','INTC','T','NFLX']\n",
    "Validate = [] #Conjunto para validación \n",
    "Train = [] #Conjunto de entrenamiento\n",
    "\n",
    "for ticker in tickers:\n",
    "    df = quandl.get(\"WIKI/\"+ticker)\n",
    "    #print (df)\n",
    "    df = df.iloc[-500:]\n",
    "    func = ['mean','std','skew','kurt'] #Estadísticos de interés\n",
    "    time = [2,4,7,30,60,120,250] #Días tomados artibatriamente  \n",
    "    Z = pd.DataFrame()  \n",
    "    for f in func: \n",
    "        for t in time:\n",
    "            aux = pd.DataFrame()\n",
    "            for i in range(249):\n",
    "                aux[ df.index[i+251] ] = list( df.iloc[i-t+251:i+251]['Adj. Close'] ) #\n",
    "            Z[f+str(t)] = aux.apply(f,axis=0)  \n",
    "    Z.drop(['skew2','kurt2'],axis=1, inplace =True)\n",
    "    W = pd.merge(Z, df[['Adj. Close']],left_index=True,right_index=True)    \n",
    "    X = W.drop(['Adj. Close'],1).fillna(0)\n",
    "    y = W[['Adj. Close']]    \n",
    "    mm1 = MinMaxScaler()\n",
    "    mm2 = MinMaxScaler()\n",
    "    mm1.fit(X)\n",
    "    mm2.fit(y)\n",
    "    Xm = pd.DataFrame(mm1.transform(X))\n",
    "    ym = pd.DataFrame(mm2.transform(y))\n",
    "    Xt, Xv, yt, yv = train_test_split(Xm, ym, test_size = 0.3)\n",
    "    model = XGBRegressor()\n",
    "    model.fit(Xt,yt)   \n",
    "    print ticker\n",
    "    print 'ACC Validate {:.2%}'.format(model.score(Xv,yv))\n",
    "    print 'ACC Train    {:.2%}'.format(model.score(Xt,yt))\n",
    "    Validate.append(model.score(Xv,yv))\n",
    "    Train.append(model.score(Xt,yt))\n",
    "print '\\n'\n",
    "print 'Promedio Validate  {:.2%}'.format(np.array(Validate).mean())\n",
    "print 'Promedio Train     {:.2%}'.format(np.array(Train).mean())"
   ]
  },
  {
   "cell_type": "markdown",
   "metadata": {},
   "source": [
    "Observación: Los datos que estaban dando como Target son continuos entonces se debía cambiar la SVM en modo regresión "
   ]
  },
  {
   "cell_type": "code",
   "execution_count": null,
   "metadata": {},
   "outputs": [],
   "source": []
  }
 ],
 "metadata": {
  "kernelspec": {
   "display_name": "Python 2",
   "language": "python",
   "name": "python2"
  },
  "language_info": {
   "codemirror_mode": {
    "name": "ipython",
    "version": 2
   },
   "file_extension": ".py",
   "mimetype": "text/x-python",
   "name": "python",
   "nbconvert_exporter": "python",
   "pygments_lexer": "ipython2",
   "version": "2.7.14"
  }
 },
 "nbformat": 4,
 "nbformat_minor": 2
}
