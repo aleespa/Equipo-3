{
 "cells": [
  {
   "cell_type": "code",
   "execution_count": 135,
   "metadata": {
    "scrolled": false
   },
   "outputs": [],
   "source": [
    "import quandl\n",
    "import pandas as pd\n",
    "import numpy as np\n",
    "from sklearn.svm import SVR # Máquina soporte vectorial \n",
    "from sklearn.preprocessing import MinMaxScaler\n",
    "from sklearn.metrics import accuracy_score,roc_auc_score\n",
    "from sklearn.model_selection import GridSearchCV, train_test_split,RandomizedSearchCV #Hiperparametrización\n",
    "quandl.ApiConfig.api_key = 'DEN8cmx6MYrtzyeUdDeh' #????"
   ]
  },
  {
   "cell_type": "code",
   "execution_count": 136,
   "metadata": {},
   "outputs": [
    {
     "name": "stdout",
     "output_type": "stream",
     "text": [
      "Fitting 3 folds for each of 1620 candidates, totalling 4860 fits\n"
     ]
    },
    {
     "name": "stderr",
     "output_type": "stream",
     "text": [
      "[Parallel(n_jobs=-1)]: Done 436 tasks      | elapsed:    6.0s\n",
      "/home/ciprian/.local/lib/python2.7/site-packages/sklearn/svm/base.py:218: ConvergenceWarning: Solver terminated early (max_iter=500).  Consider pre-processing your data with StandardScaler or MinMaxScaler.\n",
      "  % self.max_iter, ConvergenceWarning)\n",
      "[Parallel(n_jobs=-1)]: Done 2236 tasks      | elapsed:   24.2s\n",
      "/home/ciprian/.local/lib/python2.7/site-packages/sklearn/svm/base.py:218: ConvergenceWarning: Solver terminated early (max_iter=500).  Consider pre-processing your data with StandardScaler or MinMaxScaler.\n",
      "  % self.max_iter, ConvergenceWarning)\n",
      "[Parallel(n_jobs=-1)]: Done 4860 out of 4860 | elapsed:   50.5s finished\n"
     ]
    },
    {
     "name": "stdout",
     "output_type": "stream",
     "text": [
      "FB\n",
      "ACC Validate 83.17%\n",
      "ACC Train    81.00%\n",
      "Fitting 3 folds for each of 1620 candidates, totalling 4860 fits\n"
     ]
    },
    {
     "name": "stderr",
     "output_type": "stream",
     "text": [
      "[Parallel(n_jobs=-1)]: Done 324 tasks      | elapsed:    3.8s\n",
      "[Parallel(n_jobs=-1)]: Done 1524 tasks      | elapsed:   15.6s\n",
      "[Parallel(n_jobs=-1)]: Done 3524 tasks      | elapsed:   35.3s\n",
      "[Parallel(n_jobs=-1)]: Done 4860 out of 4860 | elapsed:   50.6s finished\n"
     ]
    },
    {
     "name": "stdout",
     "output_type": "stream",
     "text": [
      "GOOGL\n",
      "ACC Validate 91.45%\n",
      "ACC Train    90.66%\n",
      "Fitting 3 folds for each of 1620 candidates, totalling 4860 fits\n"
     ]
    },
    {
     "name": "stderr",
     "output_type": "stream",
     "text": [
      "[Parallel(n_jobs=-1)]: Done 552 tasks      | elapsed:    6.4s\n",
      "[Parallel(n_jobs=-1)]: Done 2652 tasks      | elapsed:   28.1s\n",
      "[Parallel(n_jobs=-1)]: Done 4860 out of 4860 | elapsed:   53.9s finished\n"
     ]
    },
    {
     "name": "stdout",
     "output_type": "stream",
     "text": [
      "AAPl\n",
      "ACC Validate 92.94%\n",
      "ACC Train    94.24%\n",
      "Fitting 3 folds for each of 1620 candidates, totalling 4860 fits\n"
     ]
    },
    {
     "name": "stderr",
     "output_type": "stream",
     "text": [
      "[Parallel(n_jobs=-1)]: Done 720 tasks      | elapsed:    7.0s\n",
      "[Parallel(n_jobs=-1)]: Done 3420 tasks      | elapsed:   42.9s\n",
      "[Parallel(n_jobs=-1)]: Done 4860 out of 4860 | elapsed:  1.1min finished\n"
     ]
    },
    {
     "name": "stdout",
     "output_type": "stream",
     "text": [
      "AMZN\n",
      "ACC Validate 92.33%\n",
      "ACC Train    94.79%\n",
      "Fitting 3 folds for each of 1620 candidates, totalling 4860 fits\n"
     ]
    },
    {
     "name": "stderr",
     "output_type": "stream",
     "text": [
      "[Parallel(n_jobs=-1)]: Done 368 tasks      | elapsed:    6.1s\n",
      "[Parallel(n_jobs=-1)]: Done 1868 tasks      | elapsed:   29.8s\n",
      "[Parallel(n_jobs=-1)]: Done 4368 tasks      | elapsed:  1.1min\n",
      "[Parallel(n_jobs=-1)]: Done 4860 out of 4860 | elapsed:  1.2min finished\n"
     ]
    },
    {
     "name": "stdout",
     "output_type": "stream",
     "text": [
      "TSLA\n",
      "ACC Validate 2.22%\n",
      "ACC Train    -3.85%\n",
      "Fitting 3 folds for each of 1620 candidates, totalling 4860 fits\n"
     ]
    },
    {
     "name": "stderr",
     "output_type": "stream",
     "text": [
      "[Parallel(n_jobs=-1)]: Done 280 tasks      | elapsed:    3.8s\n",
      "[Parallel(n_jobs=-1)]: Done 1480 tasks      | elapsed:   20.2s\n",
      "[Parallel(n_jobs=-1)]: Done 4860 out of 4860 | elapsed:   49.5s finished\n"
     ]
    },
    {
     "name": "stdout",
     "output_type": "stream",
     "text": [
      "MSFT\n",
      "ACC Validate 90.39%\n",
      "ACC Train    90.88%\n",
      "Fitting 3 folds for each of 1620 candidates, totalling 4860 fits\n"
     ]
    },
    {
     "name": "stderr",
     "output_type": "stream",
     "text": [
      "[Parallel(n_jobs=-1)]: Done 720 tasks      | elapsed:    5.7s\n",
      "[Parallel(n_jobs=-1)]: Done 3420 tasks      | elapsed:   25.3s\n",
      "[Parallel(n_jobs=-1)]: Done 4860 out of 4860 | elapsed:   36.5s finished\n"
     ]
    },
    {
     "name": "stdout",
     "output_type": "stream",
     "text": [
      "AMD\n",
      "ACC Validate 37.33%\n",
      "ACC Train    40.20%\n",
      "Fitting 3 folds for each of 1620 candidates, totalling 4860 fits\n"
     ]
    },
    {
     "name": "stderr",
     "output_type": "stream",
     "text": [
      "[Parallel(n_jobs=-1)]: Done 424 tasks      | elapsed:    3.5s\n",
      "[Parallel(n_jobs=-1)]: Done 1924 tasks      | elapsed:   15.8s\n",
      "[Parallel(n_jobs=-1)]: Done 4424 tasks      | elapsed:   39.4s\n",
      "[Parallel(n_jobs=-1)]: Done 4860 out of 4860 | elapsed:   43.0s finished\n"
     ]
    },
    {
     "name": "stdout",
     "output_type": "stream",
     "text": [
      "INTC\n",
      "ACC Validate 85.81%\n",
      "ACC Train    88.55%\n",
      "Fitting 3 folds for each of 1620 candidates, totalling 4860 fits\n"
     ]
    },
    {
     "name": "stderr",
     "output_type": "stream",
     "text": [
      "[Parallel(n_jobs=-1)]: Done 244 tasks      | elapsed:    4.5s\n",
      "[Parallel(n_jobs=-1)]: Done 1444 tasks      | elapsed:   22.7s\n",
      "[Parallel(n_jobs=-1)]: Done 4388 tasks      | elapsed:   53.4s\n",
      "[Parallel(n_jobs=-1)]: Done 4860 out of 4860 | elapsed:   58.7s finished\n"
     ]
    },
    {
     "name": "stdout",
     "output_type": "stream",
     "text": [
      "T\n",
      "ACC Validate 26.48%\n",
      "ACC Train    25.03%\n",
      "Fitting 3 folds for each of 1620 candidates, totalling 4860 fits\n"
     ]
    },
    {
     "name": "stderr",
     "output_type": "stream",
     "text": [
      "[Parallel(n_jobs=-1)]: Done 340 tasks      | elapsed:    5.3s\n",
      "[Parallel(n_jobs=-1)]: Done 1540 tasks      | elapsed:   24.1s\n"
     ]
    },
    {
     "name": "stdout",
     "output_type": "stream",
     "text": [
      "NFLX\n",
      "ACC Validate 96.97%\n",
      "ACC Train    95.80%\n",
      "\n",
      "\n",
      "Promedio Validate  69.91%\n",
      "Promedio Train     69.73%\n",
      "CPU times: user 6min 6s, sys: 10.7 s, total: 6min 17s\n",
      "Wall time: 12min 22s\n"
     ]
    },
    {
     "name": "stderr",
     "output_type": "stream",
     "text": [
      "[Parallel(n_jobs=-1)]: Done 4860 out of 4860 | elapsed:   48.3s finished\n"
     ]
    }
   ],
   "source": [
    "%%time\n",
    "tickers = ['FB','GOOGL','AAPl','AMZN','TSLA','MSFT','AMD','INTC','T','NFLX']\n",
    "Validate = [] #Conjunto para validación \n",
    "Train = [] #Conjunto de entrenamiento\n",
    "\n",
    "for ticker in tickers:\n",
    "    df = quandl.get(\"WIKI/\"+ticker)\n",
    "    #print (df)\n",
    "    df = df.iloc[-500:]\n",
    "    func = ['mean','std','skew','kurt'] #Estadísticos de interés\n",
    "    time = [2,4,7,30,60,120,250] #Días tomados artibatriamente  \n",
    "    Z = pd.DataFrame()  \n",
    "    for f in func: \n",
    "        for t in time:\n",
    "            aux = pd.DataFrame()\n",
    "            for i in range(249):\n",
    "                aux[ df.index[i+251] ] = list( df.iloc[i-t+251:i+251]['Adj. Close'] ) #\n",
    "            Z[f+str(t)] = aux.apply(f,axis=0)  \n",
    "            \n",
    "\n",
    "    Z.drop(['skew2','kurt2'],axis=1, inplace =True)\n",
    "    W = pd.merge(Z, df[['Adj. Close']],left_index=True,right_index=True)    \n",
    "    X = W.drop(['Adj. Close'],1).fillna(0)\n",
    "    mm1 = MinMaxScaler()\n",
    "    mm2 = MinMaxScaler()\n",
    "    mm1.fit(X)\n",
    "    mm2.fit(y)\n",
    "    Xm = pd.DataFrame(mm1.transform(X))\n",
    "    ym = pd.DataFrame(mm2.transform(y))\n",
    "    Xt, Xv, yt, yv = train_test_split(Xm, ym, test_size = 0.3)\n",
    "    model =SVR()\n",
    "    model.fit(Xt,yt)\n",
    "    # Hiperparametrizando\n",
    "    param_grid = dict( C = np.arange(0.1,1,0.1),\n",
    "                  epsilon=np.arange(0.1,1,0.1),\n",
    "                  kernel = ['linear', 'poly', 'rbf', 'sigmoid'],\n",
    "                  degree = range(1,6),\n",
    "                  max_iter= [500])\n",
    "    grid = GridSearchCV(cv=3,\n",
    "                  verbose=True,\n",
    "                  estimator=model,\n",
    "                  n_jobs=-1,\n",
    "                  param_grid=param_grid)\n",
    "    grid.fit(Xm,ym)\n",
    "    model = grid.best_estimator_\n",
    "    model.fit(Xt,yt)\n",
    "    print ticker\n",
    "    print 'ACC Validate {:.2%}'.format(model.score(Xv,yv))\n",
    "    print 'ACC Train    {:.2%}'.format(model.score(Xt,yt))\n",
    "    Validate.append(model.score(Xv,yv))\n",
    "    Train.append(model.score(Xt,yt))\n",
    "print '\\n'\n",
    "print 'Promedio Validate  {:.2%}'.format(np.array(Validate).mean())\n",
    "print 'Promedio Train     {:.2%}'.format(np.array(Train).mean())"
   ]
  },
  {
   "cell_type": "markdown",
   "metadata": {},
   "source": [
    "Observación: Los datos que estaban dando como Target son continuos entonces se debía cambiar la SVM en modo regresión "
   ]
  },
  {
   "cell_type": "code",
   "execution_count": null,
   "metadata": {},
   "outputs": [],
   "source": []
  }
 ],
 "metadata": {
  "kernelspec": {
   "display_name": "Python 2",
   "language": "python",
   "name": "python2"
  },
  "language_info": {
   "codemirror_mode": {
    "name": "ipython",
    "version": 2
   },
   "file_extension": ".py",
   "mimetype": "text/x-python",
   "name": "python",
   "nbconvert_exporter": "python",
   "pygments_lexer": "ipython2",
   "version": "2.7.14"
  }
 },
 "nbformat": 4,
 "nbformat_minor": 2
}
