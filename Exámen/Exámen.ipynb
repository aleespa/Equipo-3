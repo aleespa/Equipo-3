{
 "cells": [
  {
   "cell_type": "code",
   "execution_count": 33,
   "metadata": {},
   "outputs": [],
   "source": [
    "from sklearn.preprocessing import MinMaxScaler\n",
    "from xgboost import XGBRegressor\n",
    "from sklearn import cross_validation\n",
    "from sklearn.model_selection import RandomizedSearchCV\n",
    "import numpy as np\n",
    "import pandas as pd\n",
    "%matplotlib inline"
   ]
  },
  {
   "cell_type": "code",
   "execution_count": 2,
   "metadata": {
    "collapsed": true
   },
   "outputs": [],
   "source": [
    "df = pd.read_csv('train.csv')\n",
    "df = df.dropna(subset=['target'])\n",
    "var = df.columns\n",
    "df = df.fillna(df.mean(),inplace=True)\n",
    "var_disc = [x for x in var if x[:2]=='c_']\n",
    "var_cont = [x for x in var if x[:1]=='v']"
   ]
  },
  {
   "cell_type": "code",
   "execution_count": 3,
   "metadata": {},
   "outputs": [],
   "source": [
    "dummys = [pd.get_dummies(df[x],prefix =x) for x in var_disc]\n",
    "X = pd.concat(dummys+[df[var_cont]],axis=1)"
   ]
  },
  {
   "cell_type": "code",
   "execution_count": 4,
   "metadata": {},
   "outputs": [],
   "source": [
    "y = df[['target']]\n",
    "mm1 = MinMaxScaler()\n",
    "mm2 = MinMaxScaler()\n",
    "mm1.fit(X)\n",
    "mm2.fit(y)\n",
    "Xm = pd.DataFrame(mm1.transform(X))\n",
    "ym = pd.DataFrame(mm2.transform(y))\n",
    "Xt, Xv, yt, yv = cross_validation.train_test_split(Xm, ym, test_size = 0.3)"
   ]
  },
  {
   "cell_type": "code",
   "execution_count": null,
   "metadata": {},
   "outputs": [
    {
     "name": "stdout",
     "output_type": "stream",
     "text": [
      "Fitting 3 folds for each of 300 candidates, totalling 900 fits\n"
     ]
    }
   ],
   "source": [
    "model = XGBRegressor()\n",
    "model.fit(Xm,ym)"
   ]
  },
  {
   "cell_type": "code",
   "execution_count": 28,
   "metadata": {},
   "outputs": [
    {
     "name": "stdout",
     "output_type": "stream",
     "text": [
      "ACC Validate 29.67%\n",
      "ACC Train    92.69%\n"
     ]
    }
   ],
   "source": [
    "model  = grid.best_estimator_\n",
    "model.fit(Xt,yt)\n",
    "\n",
    "print 'ACC Validate {:.2%}'.format(model.score(Xv,yv))\n",
    "print 'ACC Train    {:.2%}'.format(model.score(Xt,yt))"
   ]
  }
 ],
 "metadata": {
  "kernelspec": {
   "display_name": "Python 2",
   "language": "python",
   "name": "python2"
  },
  "language_info": {
   "codemirror_mode": {
    "name": "ipython",
    "version": 2
   },
   "file_extension": ".py",
   "mimetype": "text/x-python",
   "name": "python",
   "nbconvert_exporter": "python",
   "pygments_lexer": "ipython2",
   "version": "2.7.14"
  }
 },
 "nbformat": 4,
 "nbformat_minor": 2
}
