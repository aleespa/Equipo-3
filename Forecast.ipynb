{
 "cells": [
  {
   "cell_type": "code",
   "execution_count": 119,
   "metadata": {},
   "outputs": [],
   "source": [
    "import quandl\n",
    "import pandas as pd\n",
    "import numpy as np\n",
    "import datetime\n",
    "\n",
    "from sklearn.neural_network import MLPRegressor\n",
    "from sklearn import preprocessing, cross_validation, svm\n",
    "from sklearn.metrics import accuracy_score,roc_auc_score\n",
    "\n",
    "%matplotlib inline"
   ]
  },
  {
   "cell_type": "code",
   "execution_count": 117,
   "metadata": {
    "collapsed": true
   },
   "outputs": [],
   "source": [
    "def metricas(model,Xt,Xv,yt,yv):\n",
    "    print \"ROC train:%.3f | ROC test:%.3f \" %(roc_auc_score(y_true=yt,y_score=model.predict_proba(Xt)[:,1]),roc_auc_score(y_true=yv,y_score=model.predict_proba(Xv)[:,1]))\n",
    "    print \"ACC train:%.3f | ACC test:%.3f \" %(accuracy_score(y_true=yt,y_pred=model.predict(Xt)),accuracy_score(y_true=yv,y_pred=model.predict(Xv)))"
   ]
  },
  {
   "cell_type": "code",
   "execution_count": 144,
   "metadata": {},
   "outputs": [],
   "source": [
    "df = quandl.get(\"WIKI/GOOGL\")"
   ]
  },
  {
   "cell_type": "code",
   "execution_count": 184,
   "metadata": {},
   "outputs": [],
   "source": [
    "df = df[['Adj. Close']].iloc[-450:]"
   ]
  },
  {
   "cell_type": "code",
   "execution_count": 185,
   "metadata": {
    "collapsed": true
   },
   "outputs": [],
   "source": [
    "forecast_out = 30\n",
    "df['Prediction'] = df[['Adj. Close']].shift(-forecast_out)"
   ]
  },
  {
   "cell_type": "code",
   "execution_count": 186,
   "metadata": {},
   "outputs": [
    {
     "data": {
      "text/html": [
       "<div>\n",
       "<style>\n",
       "    .dataframe thead tr:only-child th {\n",
       "        text-align: right;\n",
       "    }\n",
       "\n",
       "    .dataframe thead th {\n",
       "        text-align: left;\n",
       "    }\n",
       "\n",
       "    .dataframe tbody tr th {\n",
       "        vertical-align: top;\n",
       "    }\n",
       "</style>\n",
       "<table border=\"1\" class=\"dataframe\">\n",
       "  <thead>\n",
       "    <tr style=\"text-align: right;\">\n",
       "      <th></th>\n",
       "      <th>Adj. Close</th>\n",
       "      <th>Prediction</th>\n",
       "    </tr>\n",
       "    <tr>\n",
       "      <th>Date</th>\n",
       "      <th></th>\n",
       "      <th></th>\n",
       "    </tr>\n",
       "  </thead>\n",
       "  <tbody>\n",
       "    <tr>\n",
       "      <th>2018-03-14</th>\n",
       "      <td>1148.89</td>\n",
       "      <td>NaN</td>\n",
       "    </tr>\n",
       "    <tr>\n",
       "      <th>2018-03-15</th>\n",
       "      <td>1150.61</td>\n",
       "      <td>NaN</td>\n",
       "    </tr>\n",
       "    <tr>\n",
       "      <th>2018-03-16</th>\n",
       "      <td>1134.42</td>\n",
       "      <td>NaN</td>\n",
       "    </tr>\n",
       "    <tr>\n",
       "      <th>2018-03-19</th>\n",
       "      <td>1100.07</td>\n",
       "      <td>NaN</td>\n",
       "    </tr>\n",
       "    <tr>\n",
       "      <th>2018-03-20</th>\n",
       "      <td>1095.80</td>\n",
       "      <td>NaN</td>\n",
       "    </tr>\n",
       "    <tr>\n",
       "      <th>2018-03-21</th>\n",
       "      <td>1094.00</td>\n",
       "      <td>NaN</td>\n",
       "    </tr>\n",
       "    <tr>\n",
       "      <th>2018-03-22</th>\n",
       "      <td>1053.15</td>\n",
       "      <td>NaN</td>\n",
       "    </tr>\n",
       "    <tr>\n",
       "      <th>2018-03-23</th>\n",
       "      <td>1026.55</td>\n",
       "      <td>NaN</td>\n",
       "    </tr>\n",
       "    <tr>\n",
       "      <th>2018-03-26</th>\n",
       "      <td>1054.09</td>\n",
       "      <td>NaN</td>\n",
       "    </tr>\n",
       "    <tr>\n",
       "      <th>2018-03-27</th>\n",
       "      <td>1006.94</td>\n",
       "      <td>NaN</td>\n",
       "    </tr>\n",
       "  </tbody>\n",
       "</table>\n",
       "</div>"
      ],
      "text/plain": [
       "            Adj. Close  Prediction\n",
       "Date                              \n",
       "2018-03-14     1148.89         NaN\n",
       "2018-03-15     1150.61         NaN\n",
       "2018-03-16     1134.42         NaN\n",
       "2018-03-19     1100.07         NaN\n",
       "2018-03-20     1095.80         NaN\n",
       "2018-03-21     1094.00         NaN\n",
       "2018-03-22     1053.15         NaN\n",
       "2018-03-23     1026.55         NaN\n",
       "2018-03-26     1054.09         NaN\n",
       "2018-03-27     1006.94         NaN"
      ]
     },
     "execution_count": 186,
     "metadata": {},
     "output_type": "execute_result"
    }
   ],
   "source": [
    "df.tail(10)"
   ]
  },
  {
   "cell_type": "code",
   "execution_count": 187,
   "metadata": {},
   "outputs": [],
   "source": [
    "X = np.array(df.drop(['Prediction'], axis = 1))"
   ]
  },
  {
   "cell_type": "code",
   "execution_count": 188,
   "metadata": {},
   "outputs": [],
   "source": [
    "X_forecast = X[-forecast_out:] #Ultimos 30\n",
    "X = X[:-forecast_out] # Excluir los ultimos 30"
   ]
  },
  {
   "cell_type": "code",
   "execution_count": 189,
   "metadata": {
    "collapsed": true
   },
   "outputs": [],
   "source": [
    "y = np.array(df['Prediction'])\n",
    "y = y[:-forecast_out]"
   ]
  },
  {
   "cell_type": "code",
   "execution_count": 190,
   "metadata": {},
   "outputs": [
    {
     "name": "stdout",
     "output_type": "stream",
     "text": [
      "(154, 1)\n"
     ]
    }
   ],
   "source": [
    "Xt, Xv, yt, yv = cross_validation.train_test_split(X, y, test_size = 0.3)\n",
    "print Xt.shape"
   ]
  },
  {
   "cell_type": "code",
   "execution_count": 191,
   "metadata": {},
   "outputs": [
    {
     "name": "stdout",
     "output_type": "stream",
     "text": [
      "('confidence: ', 0.39320938639027925)\n"
     ]
    }
   ],
   "source": [
    "model = MLPRegressor()\n",
    "model.fit(Xt,yt)\n",
    "confidence = model.score(Xv, yv)\n",
    "print(\"confidence: \", confidence)"
   ]
  },
  {
   "cell_type": "code",
   "execution_count": 192,
   "metadata": {},
   "outputs": [
    {
     "data": {
      "text/plain": [
       "array([[ 1054.14],\n",
       "       [ 1072.7 ],\n",
       "       [ 1091.36],\n",
       "       [ 1095.5 ],\n",
       "       [ 1103.59],\n",
       "       [ 1113.75],\n",
       "       [ 1109.9 ],\n",
       "       [ 1128.09],\n",
       "       [ 1143.7 ],\n",
       "       [ 1117.51],\n",
       "       [ 1103.92],\n",
       "       [ 1071.41],\n",
       "       [ 1084.14],\n",
       "       [ 1094.76],\n",
       "       [ 1100.9 ],\n",
       "       [ 1115.04],\n",
       "       [ 1129.38],\n",
       "       [ 1160.84],\n",
       "       [ 1165.93],\n",
       "       [ 1139.91],\n",
       "       [ 1148.89],\n",
       "       [ 1150.61],\n",
       "       [ 1134.42],\n",
       "       [ 1100.07],\n",
       "       [ 1095.8 ],\n",
       "       [ 1094.  ],\n",
       "       [ 1053.15],\n",
       "       [ 1026.55],\n",
       "       [ 1054.09],\n",
       "       [ 1006.94]])"
      ]
     },
     "execution_count": 192,
     "metadata": {},
     "output_type": "execute_result"
    }
   ],
   "source": [
    "X_forecast"
   ]
  },
  {
   "cell_type": "code",
   "execution_count": 193,
   "metadata": {},
   "outputs": [
    {
     "name": "stdout",
     "output_type": "stream",
     "text": [
      "[ 1084.13739129  1103.20770656  1122.38077137  1126.63460247  1134.94704053\n",
      "  1145.38639415  1141.43053673  1160.12067868  1176.15988242  1149.24977698\n",
      "  1135.28611403  1101.88223744  1114.96225433  1125.87425584  1132.18307781\n",
      "  1146.71186326  1161.44614779  1193.77115417  1199.00110593  1172.26567472\n",
      "  1181.49258372  1183.25987587  1166.62472478  1131.3302566   1126.9428511\n",
      "  1125.09335931  1083.12017081  1055.78879225  1084.08601652  1035.63960677]\n"
     ]
    }
   ],
   "source": [
    "forecast_prediction = model.predict(X_forecast)\n",
    "print(forecast_prediction)"
   ]
  },
  {
   "cell_type": "code",
   "execution_count": 194,
   "metadata": {},
   "outputs": [
    {
     "data": {
      "text/plain": [
       "<matplotlib.axes._subplots.AxesSubplot at 0x7f7266938ad0>"
      ]
     },
     "execution_count": 194,
     "metadata": {},
     "output_type": "execute_result"
    },
    {
     "data": {
      "image/png": "[encoded data removed]",
      "text/plain": [
       "<matplotlib.figure.Figure at 0x7f726684c150>"
      ]
     },
     "metadata": {},
     "output_type": "display_data"
    }
   ],
   "source": [
    "pd.DataFrame(forecast_prediction).plot()"
   ]
  },
  {
   "cell_type": "code",
   "execution_count": 195,
   "metadata": {},
   "outputs": [
    {
     "data": {
      "text/plain": [
       "<matplotlib.axes._subplots.AxesSubplot at 0x7f726685d7d0>"
      ]
     },
     "execution_count": 195,
     "metadata": {},
     "output_type": "execute_result"
    },
    {
     "data": {
      "image/png": "[encoded data removed]",
      "text/plain": [
       "<matplotlib.figure.Figure at 0x7f72667c4150>"
      ]
     },
     "metadata": {},
     "output_type": "display_data"
    }
   ],
   "source": [
    "df['Adj. Close'].iloc[-forecast_out:].plot()"
   ]
  }
 ],
 "metadata": {
  "kernelspec": {
   "display_name": "Python 2",
   "language": "python",
   "name": "python2"
  },
  "language_info": {
   "codemirror_mode": {
    "name": "ipython",
    "version": 2
   },
   "file_extension": ".py",
   "mimetype": "text/x-python",
   "name": "python",
   "nbconvert_exporter": "python",
   "pygments_lexer": "ipython2",
   "version": "2.7.14"
  }
 },
 "nbformat": 4,
 "nbformat_minor": 2
}
