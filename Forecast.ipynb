{
 "cells": [
  {
   "cell_type": "code",
   "execution_count": 1,
   "metadata": {},
   "outputs": [
    {
     "name": "stderr",
     "output_type": "stream",
     "text": [
      "/home/aleespa/anaconda2/lib/python2.7/site-packages/sklearn/cross_validation.py:41: DeprecationWarning: This module was deprecated in version 0.18 in favor of the model_selection module into which all the refactored classes and functions are moved. Also note that the interface of the new CV iterators are different from that of this module. This module will be removed in 0.20.\n",
      "  \"This module will be removed in 0.20.\", DeprecationWarning)\n"
     ]
    }
   ],
   "source": [
    "import quandl\n",
    "import pandas as pd\n",
    "import numpy as np\n",
    "import datetime\n",
    "from sklearn.neural_network import MLPRegressor\n",
    "from sklearn import preprocessing, cross_validation, svm\n",
    "from sklearn.metrics import r2_score\n",
    "from sklearn.pipeline import make_pipeline\n",
    "from sklearn.preprocessing import MinMaxScaler,StandardScaler\n",
    "from sklearn.decomposition import PCA\n",
    "from sklearn.model_selection import GridSearchCV\n",
    "import matplotlib.pyplot as plt\n",
    "%matplotlib inline"
   ]
  },
  {
   "cell_type": "code",
   "execution_count": 2,
   "metadata": {
    "collapsed": true
   },
   "outputs": [],
   "source": [
    "df = quandl.get(\"WIKI/MSFT\")"
   ]
  },
  {
   "cell_type": "code",
   "execution_count": 3,
   "metadata": {},
   "outputs": [
    {
     "data": {
      "text/html": [
       "<div>\n",
       "<style>\n",
       "    .dataframe thead tr:only-child th {\n",
       "        text-align: right;\n",
       "    }\n",
       "\n",
       "    .dataframe thead th {\n",
       "        text-align: left;\n",
       "    }\n",
       "\n",
       "    .dataframe tbody tr th {\n",
       "        vertical-align: top;\n",
       "    }\n",
       "</style>\n",
       "<table border=\"1\" class=\"dataframe\">\n",
       "  <thead>\n",
       "    <tr style=\"text-align: right;\">\n",
       "      <th></th>\n",
       "      <th>mean2</th>\n",
       "      <th>mean7</th>\n",
       "      <th>mean30</th>\n",
       "      <th>mean60</th>\n",
       "      <th>mean120</th>\n",
       "      <th>mean252</th>\n",
       "      <th>std2</th>\n",
       "      <th>std7</th>\n",
       "      <th>std30</th>\n",
       "      <th>std60</th>\n",
       "      <th>...</th>\n",
       "      <th>skew30</th>\n",
       "      <th>skew60</th>\n",
       "      <th>skew120</th>\n",
       "      <th>skew252</th>\n",
       "      <th>kurt2</th>\n",
       "      <th>kurt7</th>\n",
       "      <th>kurt30</th>\n",
       "      <th>kurt60</th>\n",
       "      <th>kurt120</th>\n",
       "      <th>kurt252</th>\n",
       "    </tr>\n",
       "  </thead>\n",
       "  <tbody>\n",
       "    <tr>\n",
       "      <th>2018-03-21</th>\n",
       "      <td>93.010</td>\n",
       "      <td>94.261429</td>\n",
       "      <td>92.642667</td>\n",
       "      <td>90.988500</td>\n",
       "      <td>85.923496</td>\n",
       "      <td>77.358864</td>\n",
       "      <td>0.169706</td>\n",
       "      <td>1.275832</td>\n",
       "      <td>2.497495</td>\n",
       "      <td>3.216538</td>\n",
       "      <td>...</td>\n",
       "      <td>-1.132983</td>\n",
       "      <td>-0.356039</td>\n",
       "      <td>-0.287449</td>\n",
       "      <td>0.412976</td>\n",
       "      <td>NaN</td>\n",
       "      <td>2.494047</td>\n",
       "      <td>2.105830</td>\n",
       "      <td>-0.960705</td>\n",
       "      <td>-0.816861</td>\n",
       "      <td>-1.133319</td>\n",
       "    </tr>\n",
       "    <tr>\n",
       "      <th>2018-03-22</th>\n",
       "      <td>92.805</td>\n",
       "      <td>93.648571</td>\n",
       "      <td>92.681000</td>\n",
       "      <td>91.104833</td>\n",
       "      <td>86.086737</td>\n",
       "      <td>77.472270</td>\n",
       "      <td>0.459619</td>\n",
       "      <td>0.818320</td>\n",
       "      <td>2.485449</td>\n",
       "      <td>3.139982</td>\n",
       "      <td>...</td>\n",
       "      <td>-1.193683</td>\n",
       "      <td>-0.402237</td>\n",
       "      <td>-0.289892</td>\n",
       "      <td>0.402984</td>\n",
       "      <td>NaN</td>\n",
       "      <td>-1.752289</td>\n",
       "      <td>2.291619</td>\n",
       "      <td>-0.857901</td>\n",
       "      <td>-0.822501</td>\n",
       "      <td>-1.151439</td>\n",
       "    </tr>\n",
       "    <tr>\n",
       "      <th>2018-03-23</th>\n",
       "      <td>91.135</td>\n",
       "      <td>92.988571</td>\n",
       "      <td>92.687000</td>\n",
       "      <td>91.176167</td>\n",
       "      <td>86.222670</td>\n",
       "      <td>77.577813</td>\n",
       "      <td>1.902117</td>\n",
       "      <td>1.595697</td>\n",
       "      <td>2.477986</td>\n",
       "      <td>3.058279</td>\n",
       "      <td>...</td>\n",
       "      <td>-1.200628</td>\n",
       "      <td>-0.401787</td>\n",
       "      <td>-0.294434</td>\n",
       "      <td>0.393050</td>\n",
       "      <td>NaN</td>\n",
       "      <td>2.808938</td>\n",
       "      <td>2.351568</td>\n",
       "      <td>-0.775017</td>\n",
       "      <td>-0.807490</td>\n",
       "      <td>-1.169875</td>\n",
       "    </tr>\n",
       "    <tr>\n",
       "      <th>2018-03-26</th>\n",
       "      <td>88.485</td>\n",
       "      <td>92.035714</td>\n",
       "      <td>92.763333</td>\n",
       "      <td>91.205833</td>\n",
       "      <td>86.336687</td>\n",
       "      <td>77.669797</td>\n",
       "      <td>1.845549</td>\n",
       "      <td>2.643211</td>\n",
       "      <td>2.254735</td>\n",
       "      <td>3.009543</td>\n",
       "      <td>...</td>\n",
       "      <td>-0.713123</td>\n",
       "      <td>-0.369305</td>\n",
       "      <td>-0.286647</td>\n",
       "      <td>0.382020</td>\n",
       "      <td>NaN</td>\n",
       "      <td>0.792698</td>\n",
       "      <td>0.508059</td>\n",
       "      <td>-0.798161</td>\n",
       "      <td>-0.793047</td>\n",
       "      <td>-1.182563</td>\n",
       "    </tr>\n",
       "    <tr>\n",
       "      <th>2018-03-27</th>\n",
       "      <td>90.480</td>\n",
       "      <td>91.978571</td>\n",
       "      <td>92.952667</td>\n",
       "      <td>91.340333</td>\n",
       "      <td>86.500563</td>\n",
       "      <td>77.788596</td>\n",
       "      <td>4.666905</td>\n",
       "      <td>2.592974</td>\n",
       "      <td>2.081467</td>\n",
       "      <td>2.939273</td>\n",
       "      <td>...</td>\n",
       "      <td>-0.779877</td>\n",
       "      <td>-0.412148</td>\n",
       "      <td>-0.288054</td>\n",
       "      <td>0.374272</td>\n",
       "      <td>NaN</td>\n",
       "      <td>0.932427</td>\n",
       "      <td>1.155710</td>\n",
       "      <td>-0.715684</td>\n",
       "      <td>-0.797423</td>\n",
       "      <td>-1.197794</td>\n",
       "    </tr>\n",
       "  </tbody>\n",
       "</table>\n",
       "<p>5 rows × 24 columns</p>\n",
       "</div>"
      ],
      "text/plain": [
       "             mean2      mean7     mean30     mean60    mean120    mean252  \\\n",
       "2018-03-21  93.010  94.261429  92.642667  90.988500  85.923496  77.358864   \n",
       "2018-03-22  92.805  93.648571  92.681000  91.104833  86.086737  77.472270   \n",
       "2018-03-23  91.135  92.988571  92.687000  91.176167  86.222670  77.577813   \n",
       "2018-03-26  88.485  92.035714  92.763333  91.205833  86.336687  77.669797   \n",
       "2018-03-27  90.480  91.978571  92.952667  91.340333  86.500563  77.788596   \n",
       "\n",
       "                std2      std7     std30     std60    ...       skew30  \\\n",
       "2018-03-21  0.169706  1.275832  2.497495  3.216538    ...    -1.132983   \n",
       "2018-03-22  0.459619  0.818320  2.485449  3.139982    ...    -1.193683   \n",
       "2018-03-23  1.902117  1.595697  2.477986  3.058279    ...    -1.200628   \n",
       "2018-03-26  1.845549  2.643211  2.254735  3.009543    ...    -0.713123   \n",
       "2018-03-27  4.666905  2.592974  2.081467  2.939273    ...    -0.779877   \n",
       "\n",
       "              skew60   skew120   skew252  kurt2     kurt7    kurt30    kurt60  \\\n",
       "2018-03-21 -0.356039 -0.287449  0.412976    NaN  2.494047  2.105830 -0.960705   \n",
       "2018-03-22 -0.402237 -0.289892  0.402984    NaN -1.752289  2.291619 -0.857901   \n",
       "2018-03-23 -0.401787 -0.294434  0.393050    NaN  2.808938  2.351568 -0.775017   \n",
       "2018-03-26 -0.369305 -0.286647  0.382020    NaN  0.792698  0.508059 -0.798161   \n",
       "2018-03-27 -0.412148 -0.288054  0.374272    NaN  0.932427  1.155710 -0.715684   \n",
       "\n",
       "             kurt120   kurt252  \n",
       "2018-03-21 -0.816861 -1.133319  \n",
       "2018-03-22 -0.822501 -1.151439  \n",
       "2018-03-23 -0.807490 -1.169875  \n",
       "2018-03-26 -0.793047 -1.182563  \n",
       "2018-03-27 -0.797423 -1.197794  \n",
       "\n",
       "[5 rows x 24 columns]"
      ]
     },
     "execution_count": 3,
     "metadata": {},
     "output_type": "execute_result"
    }
   ],
   "source": [
    "func = ['mean','std','skew','kurt']\n",
    "time = [2,7,30,60,120,252]\n",
    "k = df.shape[0]-252\n",
    "Z = pd.DataFrame()\n",
    "for f in func:\n",
    "    for t in time:\n",
    "        aux = pd.DataFrame()\n",
    "        for i in range(252):\n",
    "            aux[df.index[i+k]] = list(df.iloc[i+k-t:i+k]['Adj. Close'])\n",
    "        Z[f+str(t)] = aux.apply(f,axis=0)\n",
    "Z.tail()"
   ]
  },
  {
   "cell_type": "code",
   "execution_count": 4,
   "metadata": {},
   "outputs": [
    {
     "data": {
      "text/plain": [
       "(252, 24)"
      ]
     },
     "execution_count": 4,
     "metadata": {},
     "output_type": "execute_result"
    }
   ],
   "source": [
    "Z.shape"
   ]
  },
  {
   "cell_type": "code",
   "execution_count": 5,
   "metadata": {
    "collapsed": true
   },
   "outputs": [],
   "source": [
    "df[['Adj. Close']].shift(-1)\n",
    "W = pd.merge(Z, df[['Adj. Close']].shift(-1),left_index=True,right_index=True)\n",
    "W = W[:-1]"
   ]
  },
  {
   "cell_type": "code",
   "execution_count": 6,
   "metadata": {},
   "outputs": [
    {
     "data": {
      "text/html": [
       "<div>\n",
       "<style>\n",
       "    .dataframe thead tr:only-child th {\n",
       "        text-align: right;\n",
       "    }\n",
       "\n",
       "    .dataframe thead th {\n",
       "        text-align: left;\n",
       "    }\n",
       "\n",
       "    .dataframe tbody tr th {\n",
       "        vertical-align: top;\n",
       "    }\n",
       "</style>\n",
       "<table border=\"1\" class=\"dataframe\">\n",
       "  <thead>\n",
       "    <tr style=\"text-align: right;\">\n",
       "      <th></th>\n",
       "      <th>mean2</th>\n",
       "      <th>mean7</th>\n",
       "      <th>mean30</th>\n",
       "      <th>mean60</th>\n",
       "      <th>mean120</th>\n",
       "      <th>mean252</th>\n",
       "      <th>std2</th>\n",
       "      <th>std7</th>\n",
       "      <th>std30</th>\n",
       "      <th>std60</th>\n",
       "      <th>...</th>\n",
       "      <th>skew60</th>\n",
       "      <th>skew120</th>\n",
       "      <th>skew252</th>\n",
       "      <th>kurt2</th>\n",
       "      <th>kurt7</th>\n",
       "      <th>kurt30</th>\n",
       "      <th>kurt60</th>\n",
       "      <th>kurt120</th>\n",
       "      <th>kurt252</th>\n",
       "      <th>Adj. Close</th>\n",
       "    </tr>\n",
       "  </thead>\n",
       "  <tbody>\n",
       "    <tr>\n",
       "      <th>2017-03-27</th>\n",
       "      <td>63.896764</td>\n",
       "      <td>63.763902</td>\n",
       "      <td>63.524659</td>\n",
       "      <td>62.687714</td>\n",
       "      <td>60.603842</td>\n",
       "      <td>56.280720</td>\n",
       "      <td>0.076550</td>\n",
       "      <td>0.279809</td>\n",
       "      <td>0.336093</td>\n",
       "      <td>1.060381</td>\n",
       "      <td>...</td>\n",
       "      <td>-0.351811</td>\n",
       "      <td>-0.486165</td>\n",
       "      <td>-0.093777</td>\n",
       "      <td>NaN</td>\n",
       "      <td>3.081831</td>\n",
       "      <td>0.403997</td>\n",
       "      <td>-1.382042</td>\n",
       "      <td>-0.971660</td>\n",
       "      <td>-1.155918</td>\n",
       "      <td>64.255984</td>\n",
       "    </tr>\n",
       "    <tr>\n",
       "      <th>2017-03-28</th>\n",
       "      <td>64.009943</td>\n",
       "      <td>63.828576</td>\n",
       "      <td>63.573350</td>\n",
       "      <td>62.728526</td>\n",
       "      <td>60.672736</td>\n",
       "      <td>56.331228</td>\n",
       "      <td>0.083509</td>\n",
       "      <td>0.292053</td>\n",
       "      <td>0.302928</td>\n",
       "      <td>1.065710</td>\n",
       "      <td>...</td>\n",
       "      <td>-0.409672</td>\n",
       "      <td>-0.504710</td>\n",
       "      <td>-0.104637</td>\n",
       "      <td>NaN</td>\n",
       "      <td>5.347478</td>\n",
       "      <td>-0.804916</td>\n",
       "      <td>-1.325835</td>\n",
       "      <td>-0.933185</td>\n",
       "      <td>-1.153629</td>\n",
       "      <td>64.433133</td>\n",
       "    </tr>\n",
       "    <tr>\n",
       "      <th>2017-03-29</th>\n",
       "      <td>64.162488</td>\n",
       "      <td>63.887626</td>\n",
       "      <td>63.604796</td>\n",
       "      <td>62.773923</td>\n",
       "      <td>60.744646</td>\n",
       "      <td>56.378025</td>\n",
       "      <td>0.132223</td>\n",
       "      <td>0.334126</td>\n",
       "      <td>0.323213</td>\n",
       "      <td>1.071880</td>\n",
       "      <td>...</td>\n",
       "      <td>-0.459038</td>\n",
       "      <td>-0.517070</td>\n",
       "      <td>-0.114165</td>\n",
       "      <td>NaN</td>\n",
       "      <td>4.049286</td>\n",
       "      <td>-0.568833</td>\n",
       "      <td>-1.248117</td>\n",
       "      <td>-0.900830</td>\n",
       "      <td>-1.154206</td>\n",
       "      <td>64.669332</td>\n",
       "    </tr>\n",
       "    <tr>\n",
       "      <th>2017-03-30</th>\n",
       "      <td>64.344558</td>\n",
       "      <td>63.963547</td>\n",
       "      <td>63.634321</td>\n",
       "      <td>62.834663</td>\n",
       "      <td>60.814793</td>\n",
       "      <td>56.424232</td>\n",
       "      <td>0.125263</td>\n",
       "      <td>0.393038</td>\n",
       "      <td>0.356527</td>\n",
       "      <td>1.060678</td>\n",
       "      <td>...</td>\n",
       "      <td>-0.469581</td>\n",
       "      <td>-0.532123</td>\n",
       "      <td>-0.122820</td>\n",
       "      <td>NaN</td>\n",
       "      <td>2.591308</td>\n",
       "      <td>-0.319863</td>\n",
       "      <td>-1.190701</td>\n",
       "      <td>-0.856444</td>\n",
       "      <td>-1.155077</td>\n",
       "      <td>64.816957</td>\n",
       "    </tr>\n",
       "    <tr>\n",
       "      <th>2017-03-31</th>\n",
       "      <td>64.551233</td>\n",
       "      <td>64.174439</td>\n",
       "      <td>63.673031</td>\n",
       "      <td>62.892167</td>\n",
       "      <td>60.886099</td>\n",
       "      <td>56.470691</td>\n",
       "      <td>0.167018</td>\n",
       "      <td>0.294412</td>\n",
       "      <td>0.402431</td>\n",
       "      <td>1.065125</td>\n",
       "      <td>...</td>\n",
       "      <td>-0.480649</td>\n",
       "      <td>-0.544022</td>\n",
       "      <td>-0.130517</td>\n",
       "      <td>NaN</td>\n",
       "      <td>-0.420144</td>\n",
       "      <td>0.137042</td>\n",
       "      <td>-1.065778</td>\n",
       "      <td>-0.808319</td>\n",
       "      <td>-1.155463</td>\n",
       "      <td>64.511866</td>\n",
       "    </tr>\n",
       "  </tbody>\n",
       "</table>\n",
       "<p>5 rows × 25 columns</p>\n",
       "</div>"
      ],
      "text/plain": [
       "                mean2      mean7     mean30     mean60    mean120    mean252  \\\n",
       "2017-03-27  63.896764  63.763902  63.524659  62.687714  60.603842  56.280720   \n",
       "2017-03-28  64.009943  63.828576  63.573350  62.728526  60.672736  56.331228   \n",
       "2017-03-29  64.162488  63.887626  63.604796  62.773923  60.744646  56.378025   \n",
       "2017-03-30  64.344558  63.963547  63.634321  62.834663  60.814793  56.424232   \n",
       "2017-03-31  64.551233  64.174439  63.673031  62.892167  60.886099  56.470691   \n",
       "\n",
       "                std2      std7     std30     std60     ...        skew60  \\\n",
       "2017-03-27  0.076550  0.279809  0.336093  1.060381     ...     -0.351811   \n",
       "2017-03-28  0.083509  0.292053  0.302928  1.065710     ...     -0.409672   \n",
       "2017-03-29  0.132223  0.334126  0.323213  1.071880     ...     -0.459038   \n",
       "2017-03-30  0.125263  0.393038  0.356527  1.060678     ...     -0.469581   \n",
       "2017-03-31  0.167018  0.294412  0.402431  1.065125     ...     -0.480649   \n",
       "\n",
       "             skew120   skew252  kurt2     kurt7    kurt30    kurt60   kurt120  \\\n",
       "2017-03-27 -0.486165 -0.093777    NaN  3.081831  0.403997 -1.382042 -0.971660   \n",
       "2017-03-28 -0.504710 -0.104637    NaN  5.347478 -0.804916 -1.325835 -0.933185   \n",
       "2017-03-29 -0.517070 -0.114165    NaN  4.049286 -0.568833 -1.248117 -0.900830   \n",
       "2017-03-30 -0.532123 -0.122820    NaN  2.591308 -0.319863 -1.190701 -0.856444   \n",
       "2017-03-31 -0.544022 -0.130517    NaN -0.420144  0.137042 -1.065778 -0.808319   \n",
       "\n",
       "             kurt252  Adj. Close  \n",
       "2017-03-27 -1.155918   64.255984  \n",
       "2017-03-28 -1.153629   64.433133  \n",
       "2017-03-29 -1.154206   64.669332  \n",
       "2017-03-30 -1.155077   64.816957  \n",
       "2017-03-31 -1.155463   64.511866  \n",
       "\n",
       "[5 rows x 25 columns]"
      ]
     },
     "execution_count": 6,
     "metadata": {},
     "output_type": "execute_result"
    }
   ],
   "source": [
    "W.head()"
   ]
  },
  {
   "cell_type": "code",
   "execution_count": 7,
   "metadata": {
    "collapsed": true
   },
   "outputs": [],
   "source": [
    "X = W.drop(['Adj. Close'],1).fillna(0)\n",
    "y = W[['Adj. Close']]"
   ]
  },
  {
   "cell_type": "code",
   "execution_count": 8,
   "metadata": {
    "collapsed": true
   },
   "outputs": [],
   "source": [
    "mm = MinMaxScaler()\n",
    "mm.fit(X)\n",
    "Xs = pd.DataFrame(mm.transform(X))"
   ]
  },
  {
   "cell_type": "code",
   "execution_count": 9,
   "metadata": {},
   "outputs": [
    {
     "name": "stdout",
     "output_type": "stream",
     "text": [
      "(175, 24)\n"
     ]
    }
   ],
   "source": [
    "Xt, Xv, yt, yv = cross_validation.train_test_split(Xs, y, test_size = 0.3)\n",
    "print Xt.shape"
   ]
  },
  {
   "cell_type": "code",
   "execution_count": 10,
   "metadata": {
    "collapsed": true
   },
   "outputs": [],
   "source": [
    "model = MLPRegressor()"
   ]
  },
  {
   "cell_type": "code",
   "execution_count": 11,
   "metadata": {},
   "outputs": [],
   "source": [
    "param_grid = dict(\n",
    "activation = ['identity', 'logistic', 'tanh', 'relu'],\n",
    "solver = ['lbfgs', 'sgd', 'adam'],\n",
    "learning_rate = ['constant', 'invscaling', 'adaptive'],\n",
    "alpha = np.arange(0.001,0.003,0.001)\n",
    ")"
   ]
  },
  {
   "cell_type": "code",
   "execution_count": 12,
   "metadata": {
    "collapsed": true
   },
   "outputs": [],
   "source": [
    "grid = GridSearchCV(cv = 3, \n",
    "                    estimator = model,\n",
    "                    n_jobs = -1,\n",
    "                    param_grid=param_grid,\n",
    "                    verbose = True\n",
    ")"
   ]
  },
  {
   "cell_type": "code",
   "execution_count": 13,
   "metadata": {},
   "outputs": [
    {
     "name": "stdout",
     "output_type": "stream",
     "text": [
      "Fitting 3 folds for each of 72 candidates, totalling 216 fits\n"
     ]
    },
    {
     "name": "stderr",
     "output_type": "stream",
     "text": [
      "/home/aleespa/anaconda2/lib/python2.7/site-packages/sklearn/neural_network/multilayer_perceptron.py:1306: DataConversionWarning: A column-vector y was passed when a 1d array was expected. Please change the shape of y to (n_samples, ), for example using ravel().\n",
      "  y = column_or_1d(y, warn=True)\n",
      "/home/aleespa/anaconda2/lib/python2.7/site-packages/sklearn/neural_network/multilayer_perceptron.py:1306: DataConversionWarning: A column-vector y was passed when a 1d array was expected. Please change the shape of y to (n_samples, ), for example using ravel().\n",
      "  y = column_or_1d(y, warn=True)\n",
      "/home/aleespa/anaconda2/lib/python2.7/site-packages/sklearn/neural_network/multilayer_perceptron.py:564: ConvergenceWarning: Stochastic Optimizer: Maximum iterations (200) reached and the optimization hasn't converged yet.\n",
      "  % self.max_iter, ConvergenceWarning)\n",
      "/home/aleespa/anaconda2/lib/python2.7/site-packages/sklearn/neural_network/multilayer_perceptron.py:564: ConvergenceWarning: Stochastic Optimizer: Maximum iterations (200) reached and the optimization hasn't converged yet.\n",
      "  % self.max_iter, ConvergenceWarning)\n",
      "[Parallel(n_jobs=-1)]: Done  46 tasks      | elapsed:   31.2s\n",
      "[Parallel(n_jobs=-1)]: Done 196 tasks      | elapsed:  2.6min\n",
      "[Parallel(n_jobs=-1)]: Done 216 out of 216 | elapsed:  2.8min finished\n",
      "/home/aleespa/anaconda2/lib/python2.7/site-packages/sklearn/neural_network/multilayer_perceptron.py:1306: DataConversionWarning: A column-vector y was passed when a 1d array was expected. Please change the shape of y to (n_samples, ), for example using ravel().\n",
      "  y = column_or_1d(y, warn=True)\n"
     ]
    },
    {
     "data": {
      "text/plain": [
       "GridSearchCV(cv=3, error_score='raise',\n",
       "       estimator=MLPRegressor(activation='relu', alpha=0.0001, batch_size='auto', beta_1=0.9,\n",
       "       beta_2=0.999, early_stopping=False, epsilon=1e-08,\n",
       "       hidden_layer_sizes=(100,), learning_rate='constant',\n",
       "       learning_rate_init=0.001, max_iter=200, momentum=0.9,\n",
       "       nesterovs_momentum=True, power_t=0.5, random_state=None,\n",
       "       shuffle=True, solver='adam', tol=0.0001, validation_fraction=0.1,\n",
       "       verbose=False, warm_start=False),\n",
       "       fit_params=None, iid=True, n_jobs=-1,\n",
       "       param_grid={'alpha': array([ 0.001,  0.002]), 'learning_rate': ['constant', 'invscaling', 'adaptive'], 'activation': ['identity', 'logistic', 'tanh', 'relu'], 'solver': ['lbfgs', 'sgd', 'adam']},\n",
       "       pre_dispatch='2*n_jobs', refit=True, return_train_score='warn',\n",
       "       scoring=None, verbose=True)"
      ]
     },
     "execution_count": 13,
     "metadata": {},
     "output_type": "execute_result"
    }
   ],
   "source": [
    "grid.fit(Xs,y)"
   ]
  },
  {
   "cell_type": "code",
   "execution_count": 17,
   "metadata": {},
   "outputs": [
    {
     "data": {
      "text/plain": [
       "MLPRegressor(activation='identity', alpha=0.002, batch_size='auto',\n",
       "       beta_1=0.9, beta_2=0.999, early_stopping=False, epsilon=1e-08,\n",
       "       hidden_layer_sizes=(100,), learning_rate='invscaling',\n",
       "       learning_rate_init=0.001, max_iter=200, momentum=0.9,\n",
       "       nesterovs_momentum=True, power_t=0.5, random_state=None,\n",
       "       shuffle=True, solver='lbfgs', tol=0.0001, validation_fraction=0.1,\n",
       "       verbose=False, warm_start=False)"
      ]
     },
     "execution_count": 17,
     "metadata": {},
     "output_type": "execute_result"
    }
   ],
   "source": [
    "model = grid.best_estimator_\n",
    "model.fit(Xt,yt)"
   ]
  },
  {
   "cell_type": "code",
   "execution_count": 18,
   "metadata": {},
   "outputs": [
    {
     "name": "stdout",
     "output_type": "stream",
     "text": [
      "0.979597394577\n",
      "0.985778720632\n"
     ]
    }
   ],
   "source": [
    "print model.score(Xv,yv)\n",
    "print model.score(Xt,yt)"
   ]
  },
  {
   "cell_type": "code",
   "execution_count": 25,
   "metadata": {},
   "outputs": [
    {
     "data": {
      "text/plain": [
       "MLPRegressor(activation='identity', alpha=0.002, batch_size='auto',\n",
       "       beta_1=0.9, beta_2=0.999, early_stopping=False, epsilon=1e-08,\n",
       "       hidden_layer_sizes=(100,), learning_rate='invscaling',\n",
       "       learning_rate_init=0.001, max_iter=200, momentum=0.9,\n",
       "       nesterovs_momentum=True, power_t=0.5, random_state=None,\n",
       "       shuffle=True, solver='lbfgs', tol=0.0001, validation_fraction=0.1,\n",
       "       verbose=False, warm_start=False)"
      ]
     },
     "execution_count": 25,
     "metadata": {},
     "output_type": "execute_result"
    }
   ],
   "source": [
    "model.fit(Xs,y)"
   ]
  },
  {
   "cell_type": "code",
   "execution_count": null,
   "metadata": {},
   "outputs": [],
   "source": [
    "pred = model.predict(mm.transform(X[-150:]))\n",
    "plt.plot(list(y['Adj. Close'][-151:]))\n",
    "plt.plot(pred)\n",
    "plt.show()"
   ]
  }
 ],
 "metadata": {
  "kernelspec": {
   "display_name": "Python 2",
   "language": "python",
   "name": "python2"
  },
  "language_info": {
   "codemirror_mode": {
    "name": "ipython",
    "version": 2
   },
   "file_extension": ".py",
   "mimetype": "text/x-python",
   "name": "python",
   "nbconvert_exporter": "python",
   "pygments_lexer": "ipython2",
   "version": "2.7.14"
  }
 },
 "nbformat": 4,
 "nbformat_minor": 2
}
