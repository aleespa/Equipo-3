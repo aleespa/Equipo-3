{
 "cells": [
  {
   "cell_type": "code",
   "execution_count": 1,
   "metadata": {},
   "outputs": [
    {
     "name": "stderr",
     "output_type": "stream",
     "text": [
      "/home/aleespa/anaconda2/lib/python2.7/site-packages/sklearn/cross_validation.py:41: DeprecationWarning: This module was deprecated in version 0.18 in favor of the model_selection module into which all the refactored classes and functions are moved. Also note that the interface of the new CV iterators are different from that of this module. This module will be removed in 0.20.\n",
      "  \"This module will be removed in 0.20.\", DeprecationWarning)\n"
     ]
    }
   ],
   "source": [
    "import quandl\n",
    "import pandas as pd\n",
    "import numpy as np\n",
    "import datetime\n",
    "import pytrends as pt\n",
    "from sklearn.neural_network import MLPRegressor\n",
    "from sklearn import preprocessing, cross_validation, svm\n",
    "from sklearn.metrics import r2_score\n",
    "from sklearn.pipeline import make_pipeline\n",
    "from sklearn.preprocessing import MinMaxScaler,StandardScaler\n",
    "from sklearn.decomposition import PCA\n",
    "from sklearn.model_selection import GridSearchCV\n",
    "\n",
    "%matplotlib inline"
   ]
  },
  {
   "cell_type": "code",
   "execution_count": 2,
   "metadata": {},
   "outputs": [],
   "source": [
    "df = quandl.get(\"WIKI/MSFT\")"
   ]
  },
  {
   "cell_type": "code",
   "execution_count": 3,
   "metadata": {},
   "outputs": [
    {
     "data": {
      "text/plain": [
       "8076"
      ]
     },
     "execution_count": 3,
     "metadata": {},
     "output_type": "execute_result"
    }
   ],
   "source": [
    "df.shape[0]"
   ]
  },
  {
   "cell_type": "code",
   "execution_count": 5,
   "metadata": {},
   "outputs": [
    {
     "data": {
      "text/html": [
       "<div>\n",
       "<style>\n",
       "    .dataframe thead tr:only-child th {\n",
       "        text-align: right;\n",
       "    }\n",
       "\n",
       "    .dataframe thead th {\n",
       "        text-align: left;\n",
       "    }\n",
       "\n",
       "    .dataframe tbody tr th {\n",
       "        vertical-align: top;\n",
       "    }\n",
       "</style>\n",
       "<table border=\"1\" class=\"dataframe\">\n",
       "  <thead>\n",
       "    <tr style=\"text-align: right;\">\n",
       "      <th></th>\n",
       "      <th>M252</th>\n",
       "      <th>S252</th>\n",
       "      <th>Sk252</th>\n",
       "      <th>K252</th>\n",
       "      <th>M5</th>\n",
       "      <th>S5</th>\n",
       "      <th>Sk5</th>\n",
       "      <th>K5</th>\n",
       "    </tr>\n",
       "  </thead>\n",
       "  <tbody>\n",
       "    <tr>\n",
       "      <th>2018-03-21</th>\n",
       "      <td>77.358864</td>\n",
       "      <td>9.553977</td>\n",
       "      <td>0.412976</td>\n",
       "      <td>-1.133319</td>\n",
       "      <td>93.730</td>\n",
       "      <td>0.714038</td>\n",
       "      <td>-0.065636</td>\n",
       "      <td>-2.029636</td>\n",
       "    </tr>\n",
       "    <tr>\n",
       "      <th>2018-03-22</th>\n",
       "      <td>77.472270</td>\n",
       "      <td>9.563211</td>\n",
       "      <td>0.402984</td>\n",
       "      <td>-1.151439</td>\n",
       "      <td>93.456</td>\n",
       "      <td>0.896119</td>\n",
       "      <td>0.423270</td>\n",
       "      <td>-2.167557</td>\n",
       "    </tr>\n",
       "    <tr>\n",
       "      <th>2018-03-23</th>\n",
       "      <td>77.577813</td>\n",
       "      <td>9.551753</td>\n",
       "      <td>0.393050</td>\n",
       "      <td>-1.169875</td>\n",
       "      <td>92.578</td>\n",
       "      <td>1.751648</td>\n",
       "      <td>-1.023844</td>\n",
       "      <td>2.255267</td>\n",
       "    </tr>\n",
       "    <tr>\n",
       "      <th>2018-03-26</th>\n",
       "      <td>77.669797</td>\n",
       "      <td>9.532069</td>\n",
       "      <td>0.382020</td>\n",
       "      <td>-1.182563</td>\n",
       "      <td>91.094</td>\n",
       "      <td>2.564748</td>\n",
       "      <td>-1.118355</td>\n",
       "      <td>-0.233106</td>\n",
       "    </tr>\n",
       "    <tr>\n",
       "      <th>2018-03-27</th>\n",
       "      <td>77.788596</td>\n",
       "      <td>9.545600</td>\n",
       "      <td>0.374272</td>\n",
       "      <td>-1.197794</td>\n",
       "      <td>91.272</td>\n",
       "      <td>2.745099</td>\n",
       "      <td>-0.963235</td>\n",
       "      <td>-0.541741</td>\n",
       "    </tr>\n",
       "  </tbody>\n",
       "</table>\n",
       "</div>"
      ],
      "text/plain": [
       "                 M252      S252     Sk252      K252      M5        S5  \\\n",
       "2018-03-21  77.358864  9.553977  0.412976 -1.133319  93.730  0.714038   \n",
       "2018-03-22  77.472270  9.563211  0.402984 -1.151439  93.456  0.896119   \n",
       "2018-03-23  77.577813  9.551753  0.393050 -1.169875  92.578  1.751648   \n",
       "2018-03-26  77.669797  9.532069  0.382020 -1.182563  91.094  2.564748   \n",
       "2018-03-27  77.788596  9.545600  0.374272 -1.197794  91.272  2.745099   \n",
       "\n",
       "                 Sk5        K5  \n",
       "2018-03-21 -0.065636 -2.029636  \n",
       "2018-03-22  0.423270 -2.167557  \n",
       "2018-03-23 -1.023844  2.255267  \n",
       "2018-03-26 -1.118355 -0.233106  \n",
       "2018-03-27 -0.963235 -0.541741  "
      ]
     },
     "execution_count": 5,
     "metadata": {},
     "output_type": "execute_result"
    }
   ],
   "source": [
    "Y1 = pd.DataFrame()\n",
    "for i in range(252):\n",
    "    k = df.shape[0]-252\n",
    "    Y1[df.index[i+k]] = list(df.iloc[i+k-252:i+k]['Adj. Close'])\n",
    "Y2 = pd.DataFrame()\n",
    "for i in range(252):\n",
    "    k = df.shape[0]-252\n",
    "    Y2[df.index[i+k]] = list(df.iloc[i+k-5:i+k]['Adj. Close'])\n",
    "Z = pd.DataFrame(columns=Y1.columns)\n",
    "Z = Z.T\n",
    "Z['M252'] = Y1.mean()\n",
    "Z['S252'] = Y1.std()\n",
    "Z['Sk252'] = Y1.skew()\n",
    "Z['K252'] = Y1.kurt()\n",
    "Z['M5'] = Y2.mean()\n",
    "Z['S5'] = Y2.std()\n",
    "Z['Sk5'] = Y2.skew()\n",
    "Z['K5'] = Y2.kurt()\n",
    "Z= Z.fillna(Z.mean())\n",
    "Z.tail()"
   ]
  },
  {
   "cell_type": "code",
   "execution_count": 7,
   "metadata": {},
   "outputs": [],
   "source": [
    "df[['Adj. Close']].shift(-1)\n",
    "W = pd.merge(Z, df[['Adj. Close']].shift(-1),left_index=True,right_index=True)\n",
    "W = W[:-1]"
   ]
  },
  {
   "cell_type": "code",
   "execution_count": 8,
   "metadata": {},
   "outputs": [
    {
     "data": {
      "text/html": [
       "<div>\n",
       "<style>\n",
       "    .dataframe thead tr:only-child th {\n",
       "        text-align: right;\n",
       "    }\n",
       "\n",
       "    .dataframe thead th {\n",
       "        text-align: left;\n",
       "    }\n",
       "\n",
       "    .dataframe tbody tr th {\n",
       "        vertical-align: top;\n",
       "    }\n",
       "</style>\n",
       "<table border=\"1\" class=\"dataframe\">\n",
       "  <thead>\n",
       "    <tr style=\"text-align: right;\">\n",
       "      <th></th>\n",
       "      <th>M252</th>\n",
       "      <th>S252</th>\n",
       "      <th>Sk252</th>\n",
       "      <th>K252</th>\n",
       "      <th>M5</th>\n",
       "      <th>S5</th>\n",
       "      <th>Sk5</th>\n",
       "      <th>K5</th>\n",
       "      <th>Adj. Close</th>\n",
       "    </tr>\n",
       "  </thead>\n",
       "  <tbody>\n",
       "    <tr>\n",
       "      <th>2017-03-27</th>\n",
       "      <td>56.280720</td>\n",
       "      <td>5.014545</td>\n",
       "      <td>-0.093777</td>\n",
       "      <td>-1.155918</td>\n",
       "      <td>63.777681</td>\n",
       "      <td>0.331971</td>\n",
       "      <td>-2.066011</td>\n",
       "      <td>4.391245</td>\n",
       "      <td>64.255984</td>\n",
       "    </tr>\n",
       "    <tr>\n",
       "      <th>2017-03-28</th>\n",
       "      <td>56.331228</td>\n",
       "      <td>5.028673</td>\n",
       "      <td>-0.104637</td>\n",
       "      <td>-1.153629</td>\n",
       "      <td>63.811142</td>\n",
       "      <td>0.355213</td>\n",
       "      <td>-1.947067</td>\n",
       "      <td>3.933907</td>\n",
       "      <td>64.433133</td>\n",
       "    </tr>\n",
       "    <tr>\n",
       "      <th>2017-03-29</th>\n",
       "      <td>56.378025</td>\n",
       "      <td>5.047370</td>\n",
       "      <td>-0.114165</td>\n",
       "      <td>-1.154206</td>\n",
       "      <td>64.023721</td>\n",
       "      <td>0.153826</td>\n",
       "      <td>0.719431</td>\n",
       "      <td>0.970531</td>\n",
       "      <td>64.669332</td>\n",
       "    </tr>\n",
       "    <tr>\n",
       "      <th>2017-03-30</th>\n",
       "      <td>56.424232</td>\n",
       "      <td>5.067641</td>\n",
       "      <td>-0.122820</td>\n",
       "      <td>-1.155077</td>\n",
       "      <td>64.110328</td>\n",
       "      <td>0.236752</td>\n",
       "      <td>0.421419</td>\n",
       "      <td>-1.199486</td>\n",
       "      <td>64.816957</td>\n",
       "    </tr>\n",
       "    <tr>\n",
       "      <th>2017-03-31</th>\n",
       "      <td>56.470691</td>\n",
       "      <td>5.089391</td>\n",
       "      <td>-0.130517</td>\n",
       "      <td>-1.155463</td>\n",
       "      <td>64.275667</td>\n",
       "      <td>0.286508</td>\n",
       "      <td>0.386567</td>\n",
       "      <td>-1.028334</td>\n",
       "      <td>64.511866</td>\n",
       "    </tr>\n",
       "  </tbody>\n",
       "</table>\n",
       "</div>"
      ],
      "text/plain": [
       "                 M252      S252     Sk252      K252         M5        S5  \\\n",
       "2017-03-27  56.280720  5.014545 -0.093777 -1.155918  63.777681  0.331971   \n",
       "2017-03-28  56.331228  5.028673 -0.104637 -1.153629  63.811142  0.355213   \n",
       "2017-03-29  56.378025  5.047370 -0.114165 -1.154206  64.023721  0.153826   \n",
       "2017-03-30  56.424232  5.067641 -0.122820 -1.155077  64.110328  0.236752   \n",
       "2017-03-31  56.470691  5.089391 -0.130517 -1.155463  64.275667  0.286508   \n",
       "\n",
       "                 Sk5        K5  Adj. Close  \n",
       "2017-03-27 -2.066011  4.391245   64.255984  \n",
       "2017-03-28 -1.947067  3.933907   64.433133  \n",
       "2017-03-29  0.719431  0.970531   64.669332  \n",
       "2017-03-30  0.421419 -1.199486   64.816957  \n",
       "2017-03-31  0.386567 -1.028334   64.511866  "
      ]
     },
     "execution_count": 8,
     "metadata": {},
     "output_type": "execute_result"
    }
   ],
   "source": [
    "W.head()"
   ]
  },
  {
   "cell_type": "code",
   "execution_count": 9,
   "metadata": {},
   "outputs": [],
   "source": [
    "X = W.drop(['Adj. Close'],1).fillna(0)\n",
    "y = W[['Adj. Close']]"
   ]
  },
  {
   "cell_type": "code",
   "execution_count": 10,
   "metadata": {},
   "outputs": [],
   "source": [
    "mm = MinMaxScaler()\n",
    "mm.fit(X)\n",
    "Xs = pd.DataFrame(mm.transform(X))"
   ]
  },
  {
   "cell_type": "code",
   "execution_count": 11,
   "metadata": {},
   "outputs": [
    {
     "name": "stdout",
     "output_type": "stream",
     "text": [
      "(175, 8)\n"
     ]
    }
   ],
   "source": [
    "Xt, Xv, yt, yv = cross_validation.train_test_split(Xs, y, test_size = 0.3)\n",
    "print Xt.shape"
   ]
  },
  {
   "cell_type": "code",
   "execution_count": 12,
   "metadata": {
    "collapsed": true
   },
   "outputs": [],
   "source": [
    "model = MLPRegressor()"
   ]
  },
  {
   "cell_type": "code",
   "execution_count": 13,
   "metadata": {},
   "outputs": [],
   "source": [
    "param_grid = dict(\n",
    "activation = ['identity', 'logistic', 'tanh', 'relu'],\n",
    "solver = ['lbfgs', 'sgd', 'adam'],\n",
    "learning_rate = ['constant', 'invscaling', 'adaptive']\n",
    ")"
   ]
  },
  {
   "cell_type": "code",
   "execution_count": 14,
   "metadata": {},
   "outputs": [],
   "source": [
    "grid = GridSearchCV(cv = 3, \n",
    "                    estimator = model,\n",
    "                    n_jobs = -1,\n",
    "                    param_grid=param_grid,\n",
    ")"
   ]
  },
  {
   "cell_type": "code",
   "execution_count": 15,
   "metadata": {},
   "outputs": [
    {
     "name": "stderr",
     "output_type": "stream",
     "text": [
      "/home/aleespa/anaconda2/lib/python2.7/site-packages/sklearn/neural_network/multilayer_perceptron.py:1306: DataConversionWarning: A column-vector y was passed when a 1d array was expected. Please change the shape of y to (n_samples, ), for example using ravel().\n",
      "  y = column_or_1d(y, warn=True)\n",
      "/home/aleespa/anaconda2/lib/python2.7/site-packages/sklearn/neural_network/multilayer_perceptron.py:1306: DataConversionWarning: A column-vector y was passed when a 1d array was expected. Please change the shape of y to (n_samples, ), for example using ravel().\n",
      "  y = column_or_1d(y, warn=True)\n",
      "/home/aleespa/anaconda2/lib/python2.7/site-packages/sklearn/neural_network/multilayer_perceptron.py:564: ConvergenceWarning: Stochastic Optimizer: Maximum iterations (200) reached and the optimization hasn't converged yet.\n",
      "  % self.max_iter, ConvergenceWarning)\n",
      "/home/aleespa/anaconda2/lib/python2.7/site-packages/sklearn/neural_network/multilayer_perceptron.py:564: ConvergenceWarning: Stochastic Optimizer: Maximum iterations (200) reached and the optimization hasn't converged yet.\n",
      "  % self.max_iter, ConvergenceWarning)\n",
      "/home/aleespa/anaconda2/lib/python2.7/site-packages/sklearn/neural_network/multilayer_perceptron.py:1306: DataConversionWarning: A column-vector y was passed when a 1d array was expected. Please change the shape of y to (n_samples, ), for example using ravel().\n",
      "  y = column_or_1d(y, warn=True)\n"
     ]
    },
    {
     "data": {
      "text/plain": [
       "GridSearchCV(cv=3, error_score='raise',\n",
       "       estimator=MLPRegressor(activation='relu', alpha=0.0001, batch_size='auto', beta_1=0.9,\n",
       "       beta_2=0.999, early_stopping=False, epsilon=1e-08,\n",
       "       hidden_layer_sizes=(100,), learning_rate='constant',\n",
       "       learning_rate_init=0.001, max_iter=200, momentum=0.9,\n",
       "       nesterovs_momentum=True, power_t=0.5, random_state=None,\n",
       "       shuffle=True, solver='adam', tol=0.0001, validation_fraction=0.1,\n",
       "       verbose=False, warm_start=False),\n",
       "       fit_params=None, iid=True, n_jobs=-1,\n",
       "       param_grid={'learning_rate': ['constant', 'invscaling', 'adaptive'], 'activation': ['identity', 'logistic', 'tanh', 'relu'], 'solver': ['lbfgs', 'sgd', 'adam']},\n",
       "       pre_dispatch='2*n_jobs', refit=True, return_train_score='warn',\n",
       "       scoring=None, verbose=0)"
      ]
     },
     "execution_count": 15,
     "metadata": {},
     "output_type": "execute_result"
    }
   ],
   "source": [
    "grid.fit(Xs,y)"
   ]
  },
  {
   "cell_type": "code",
   "execution_count": 16,
   "metadata": {},
   "outputs": [
    {
     "data": {
      "text/plain": [
       "MLPRegressor(activation='logistic', alpha=0.0001, batch_size='auto',\n",
       "       beta_1=0.9, beta_2=0.999, early_stopping=False, epsilon=1e-08,\n",
       "       hidden_layer_sizes=(100,), learning_rate='invscaling',\n",
       "       learning_rate_init=0.001, max_iter=200, momentum=0.9,\n",
       "       nesterovs_momentum=True, power_t=0.5, random_state=None,\n",
       "       shuffle=True, solver='lbfgs', tol=0.0001, validation_fraction=0.1,\n",
       "       verbose=False, warm_start=False)"
      ]
     },
     "execution_count": 16,
     "metadata": {},
     "output_type": "execute_result"
    }
   ],
   "source": [
    "model = grid.best_estimator_\n",
    "model.fit(Xt,yt)"
   ]
  },
  {
   "cell_type": "code",
   "execution_count": 17,
   "metadata": {},
   "outputs": [
    {
     "data": {
      "text/plain": [
       "0.9776601721195477"
      ]
     },
     "execution_count": 17,
     "metadata": {},
     "output_type": "execute_result"
    }
   ],
   "source": [
    "model.score(Xv,yv)"
   ]
  },
  {
   "cell_type": "code",
   "execution_count": 18,
   "metadata": {},
   "outputs": [
    {
     "name": "stdout",
     "output_type": "stream",
     "text": [
      "[ 89.88504829]\n"
     ]
    }
   ],
   "source": [
    "forecast_prediction = model.predict(mm.transform(X[-1:]))\n",
    "print(forecast_prediction)"
   ]
  }
 ],
 "metadata": {
  "kernelspec": {
   "display_name": "Python 2",
   "language": "python",
   "name": "python2"
  },
  "language_info": {
   "codemirror_mode": {
    "name": "ipython",
    "version": 2
   },
   "file_extension": ".py",
   "mimetype": "text/x-python",
   "name": "python",
   "nbconvert_exporter": "python",
   "pygments_lexer": "ipython2",
   "version": "2.7.14"
  }
 },
 "nbformat": 4,
 "nbformat_minor": 2
}
