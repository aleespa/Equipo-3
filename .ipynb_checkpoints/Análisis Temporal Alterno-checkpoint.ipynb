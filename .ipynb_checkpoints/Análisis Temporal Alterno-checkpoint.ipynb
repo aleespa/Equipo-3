{
 "cells": [
  {
   "cell_type": "code",
   "execution_count": 1,
   "metadata": {
    "collapsed": true
   },
   "outputs": [],
   "source": [
    "import pandas as pd\n",
    "from __future__ import division\n",
    "import matplotlib.pyplot as plt\n",
    "import seaborn as sns\n",
    "import numpy as np\n",
    "%matplotlib inline\n",
    "import  pickle\n",
    "\n",
    "from sklearn.preprocessing import StandardScaler, MinMaxScaler\n",
    "from sklearn.decomposition import PCA\n",
    "from sklearn.manifold import MDS\n",
    "\n",
    "from sklearn.cluster import AgglomerativeClustering, KMeans\n",
    "from sklearn.mixture import GaussianMixture\n",
    "\n",
    "from pylab import plot, show, grid, axis, xlabel, ylabel, title"
   ]
  },
  {
   "cell_type": "code",
   "execution_count": 2,
   "metadata": {
    "collapsed": true
   },
   "outputs": [],
   "source": [
    "sc = pickle.load(open('pipe_sc.m','rb'))\n",
    "mm = pickle.load(open('pipe_mm.m','rb'))\n",
    "pca =pickle.load(open('pipe_pca.m','rb'))\n",
    "mds = pickle.load(open('pipe_mds.m','rb'))\n",
    "cl = pickle.load(open('cluster.m','rb'))"
   ]
  },
  {
   "cell_type": "code",
   "execution_count": 3,
   "metadata": {
    "collapsed": true
   },
   "outputs": [],
   "source": [
    "X = pd.read_csv('AAPAMGOG.csv')\n",
    "X = X.drop(['Date'],axis=1)\n",
    "mm1 = MinMaxScaler()\n",
    "mm1.fit(X)\n",
    "dfm = pd.DataFrame(mm1.transform(X),columns=X.columns)"
   ]
  },
  {
   "cell_type": "code",
   "execution_count": 80,
   "metadata": {},
   "outputs": [
    {
     "data": {
      "text/html": [
       "<div>\n",
       "<style>\n",
       "    .dataframe thead tr:only-child th {\n",
       "        text-align: right;\n",
       "    }\n",
       "\n",
       "    .dataframe thead th {\n",
       "        text-align: left;\n",
       "    }\n",
       "\n",
       "    .dataframe tbody tr th {\n",
       "        vertical-align: top;\n",
       "    }\n",
       "</style>\n",
       "<table border=\"1\" class=\"dataframe\">\n",
       "  <thead>\n",
       "    <tr style=\"text-align: right;\">\n",
       "      <th></th>\n",
       "      <th>GOOGL0</th>\n",
       "      <th>GOOGL1</th>\n",
       "      <th>GOOGL2</th>\n",
       "      <th>GOOGL3</th>\n",
       "      <th>GOOGL4</th>\n",
       "      <th>GOOGL5</th>\n",
       "      <th>GOOGL6</th>\n",
       "      <th>GOOGL7</th>\n",
       "      <th>GOOGL8</th>\n",
       "      <th>GOOGL9</th>\n",
       "      <th>...</th>\n",
       "      <th>GOOGL248</th>\n",
       "      <th>GOOGL249</th>\n",
       "      <th>GOOGL250</th>\n",
       "      <th>GOOGL251</th>\n",
       "      <th>GOOGL252</th>\n",
       "      <th>GOOGL253</th>\n",
       "      <th>GOOGL254</th>\n",
       "      <th>GOOGL255</th>\n",
       "      <th>GOOGL256</th>\n",
       "      <th>GOOGL257</th>\n",
       "    </tr>\n",
       "  </thead>\n",
       "  <tbody>\n",
       "    <tr>\n",
       "      <th>0</th>\n",
       "      <td>0.441599</td>\n",
       "      <td>0.453387</td>\n",
       "      <td>0.440979</td>\n",
       "      <td>0.337601</td>\n",
       "      <td>0.280695</td>\n",
       "      <td>0.292877</td>\n",
       "      <td>0.362078</td>\n",
       "      <td>0.213180</td>\n",
       "      <td>0.273932</td>\n",
       "      <td>0.158846</td>\n",
       "      <td>...</td>\n",
       "      <td>0.044241</td>\n",
       "      <td>0.030675</td>\n",
       "      <td>0.026398</td>\n",
       "      <td>0.000000</td>\n",
       "      <td>0.000632</td>\n",
       "      <td>0.000000</td>\n",
       "      <td>0.000000</td>\n",
       "      <td>0.026778</td>\n",
       "      <td>0.032069</td>\n",
       "      <td>0.028927</td>\n",
       "    </tr>\n",
       "    <tr>\n",
       "      <th>1</th>\n",
       "      <td>0.453387</td>\n",
       "      <td>0.440979</td>\n",
       "      <td>0.337601</td>\n",
       "      <td>0.280695</td>\n",
       "      <td>0.292877</td>\n",
       "      <td>0.362078</td>\n",
       "      <td>0.216739</td>\n",
       "      <td>0.278749</td>\n",
       "      <td>0.159998</td>\n",
       "      <td>0.205336</td>\n",
       "      <td>...</td>\n",
       "      <td>0.030675</td>\n",
       "      <td>0.026398</td>\n",
       "      <td>0.000000</td>\n",
       "      <td>0.039381</td>\n",
       "      <td>0.000000</td>\n",
       "      <td>0.013823</td>\n",
       "      <td>0.032547</td>\n",
       "      <td>0.032069</td>\n",
       "      <td>0.028927</td>\n",
       "      <td>0.039267</td>\n",
       "    </tr>\n",
       "    <tr>\n",
       "      <th>2</th>\n",
       "      <td>0.440979</td>\n",
       "      <td>0.337601</td>\n",
       "      <td>0.280695</td>\n",
       "      <td>0.292877</td>\n",
       "      <td>0.362078</td>\n",
       "      <td>0.216739</td>\n",
       "      <td>0.283402</td>\n",
       "      <td>0.162811</td>\n",
       "      <td>0.206825</td>\n",
       "      <td>0.202522</td>\n",
       "      <td>...</td>\n",
       "      <td>0.026398</td>\n",
       "      <td>0.000000</td>\n",
       "      <td>0.039381</td>\n",
       "      <td>0.038774</td>\n",
       "      <td>0.013823</td>\n",
       "      <td>0.045920</td>\n",
       "      <td>0.037806</td>\n",
       "      <td>0.028927</td>\n",
       "      <td>0.039267</td>\n",
       "      <td>0.038381</td>\n",
       "    </tr>\n",
       "    <tr>\n",
       "      <th>3</th>\n",
       "      <td>0.337601</td>\n",
       "      <td>0.280695</td>\n",
       "      <td>0.292877</td>\n",
       "      <td>0.362078</td>\n",
       "      <td>0.216739</td>\n",
       "      <td>0.283402</td>\n",
       "      <td>0.165529</td>\n",
       "      <td>0.210462</td>\n",
       "      <td>0.203990</td>\n",
       "      <td>0.246414</td>\n",
       "      <td>...</td>\n",
       "      <td>0.000000</td>\n",
       "      <td>0.039381</td>\n",
       "      <td>0.038774</td>\n",
       "      <td>0.052061</td>\n",
       "      <td>0.045920</td>\n",
       "      <td>0.051107</td>\n",
       "      <td>0.034683</td>\n",
       "      <td>0.039267</td>\n",
       "      <td>0.038381</td>\n",
       "      <td>0.042168</td>\n",
       "    </tr>\n",
       "    <tr>\n",
       "      <th>4</th>\n",
       "      <td>0.280695</td>\n",
       "      <td>0.292877</td>\n",
       "      <td>0.362078</td>\n",
       "      <td>0.216739</td>\n",
       "      <td>0.283402</td>\n",
       "      <td>0.165529</td>\n",
       "      <td>0.213976</td>\n",
       "      <td>0.207577</td>\n",
       "      <td>0.248201</td>\n",
       "      <td>0.348109</td>\n",
       "      <td>...</td>\n",
       "      <td>0.039381</td>\n",
       "      <td>0.038774</td>\n",
       "      <td>0.052061</td>\n",
       "      <td>0.082914</td>\n",
       "      <td>0.051107</td>\n",
       "      <td>0.048027</td>\n",
       "      <td>0.044962</td>\n",
       "      <td>0.038381</td>\n",
       "      <td>0.042168</td>\n",
       "      <td>0.032821</td>\n",
       "    </tr>\n",
       "  </tbody>\n",
       "</table>\n",
       "<p>5 rows × 258 columns</p>\n",
       "</div>"
      ],
      "text/plain": [
       "     GOOGL0    GOOGL1    GOOGL2    GOOGL3    GOOGL4    GOOGL5    GOOGL6  \\\n",
       "0  0.441599  0.453387  0.440979  0.337601  0.280695  0.292877  0.362078   \n",
       "1  0.453387  0.440979  0.337601  0.280695  0.292877  0.362078  0.216739   \n",
       "2  0.440979  0.337601  0.280695  0.292877  0.362078  0.216739  0.283402   \n",
       "3  0.337601  0.280695  0.292877  0.362078  0.216739  0.283402  0.165529   \n",
       "4  0.280695  0.292877  0.362078  0.216739  0.283402  0.165529  0.213976   \n",
       "\n",
       "     GOOGL7    GOOGL8    GOOGL9    ...     GOOGL248  GOOGL249  GOOGL250  \\\n",
       "0  0.213180  0.273932  0.158846    ...     0.044241  0.030675  0.026398   \n",
       "1  0.278749  0.159998  0.205336    ...     0.030675  0.026398  0.000000   \n",
       "2  0.162811  0.206825  0.202522    ...     0.026398  0.000000  0.039381   \n",
       "3  0.210462  0.203990  0.246414    ...     0.000000  0.039381  0.038774   \n",
       "4  0.207577  0.248201  0.348109    ...     0.039381  0.038774  0.052061   \n",
       "\n",
       "   GOOGL251  GOOGL252  GOOGL253  GOOGL254  GOOGL255  GOOGL256  GOOGL257  \n",
       "0  0.000000  0.000632  0.000000  0.000000  0.026778  0.032069  0.028927  \n",
       "1  0.039381  0.000000  0.013823  0.032547  0.032069  0.028927  0.039267  \n",
       "2  0.038774  0.013823  0.045920  0.037806  0.028927  0.039267  0.038381  \n",
       "3  0.052061  0.045920  0.051107  0.034683  0.039267  0.038381  0.042168  \n",
       "4  0.082914  0.051107  0.048027  0.044962  0.038381  0.042168  0.032821  \n",
       "\n",
       "[5 rows x 258 columns]"
      ]
     },
     "execution_count": 80,
     "metadata": {},
     "output_type": "execute_result"
    }
   ],
   "source": [
    "AAPL = pd.DataFrame()\n",
    "AMZN = pd.DataFrame()\n",
    "GOOGL = pd.DataFrame()\n",
    "for i in range(258):\n",
    "    AAPL['AAPL{}'.format(i)] = list(X.iloc[i:292+i]['AAPL'])\n",
    "    AMZN['AMZN{}'.format(i)] = list(X.iloc[i:292+i]['AMZN'])\n",
    "    GOOGL['GOOGL{}'.format(i)] = list(X.iloc[i:292+i]['GOOGL'])\n",
    "mm1 = MinMaxScaler()\n",
    "mm2 = MinMaxScaler()\n",
    "mm3 = MinMaxScaler()\n",
    "mm1.fit(AAPL)\n",
    "mm2.fit(AMZN)\n",
    "mm3.fit(GOOGL)\n",
    "AAPLm = pd.DataFrame(mm1.transform(AAPL),columns=AAPL.columns)\n",
    "AMZNm = pd.DataFrame(mm2.transform(AMZN),columns=AMZN.columns)\n",
    "GOOGLm = pd.DataFrame(mm3.transform(GOOGL),columns=GOOGL.columns)\n",
    "GOOGLm.head()"
   ]
  },
  {
   "cell_type": "code",
   "execution_count": 79,
   "metadata": {},
   "outputs": [
    {
     "name": "stdout",
     "output_type": "stream",
     "text": [
      "CPU times: user 0 ns, sys: 0 ns, total: 0 ns\n",
      "Wall time: 33.1 µs\n"
     ]
    }
   ],
   "source": [
    "%%time\n",
    "def dias(H):\n",
    "    y = 0\n",
    "    for i in range(1,len(H)):\n",
    "        if (H[i-1]< H[i]):\n",
    "            y = y + 1     \n",
    "    return y\n",
    "def ren(Data):\n",
    "    y = []\n",
    "    for i in range(1,len(Data)):\n",
    "        y.append((Data[i]-Data[i-1])/Data[i-1])   \n",
    "    return np.mean(y)"
   ]
  },
  {
   "cell_type": "code",
   "execution_count": 84,
   "metadata": {},
   "outputs": [
    {
     "name": "stdout",
     "output_type": "stream",
     "text": [
      "CPU times: user 1min, sys: 160 ms, total: 1min 1s\n",
      "Wall time: 1min 2s\n"
     ]
    }
   ],
   "source": [
    "%%time\n",
    "AAPLz, AMZNz, GOOGLz = pd.DataFrame(columns=AAPL.columns),pd.DataFrame(columns=AMZN.columns),pd.DataFrame(columns=GOOGL.columns)\n",
    "AAPLz, AMZNz, GOOGLz = AAPLz.T, AMZNz.T, GOOGLz.T\n",
    "AAPLz['Media'],AMZNz['Media'],GOOGLz['Media'] = AAPLm.mean(),AMZNm.mean(),GOOGLm.mean()\n",
    "AAPLz['Std'],AMZNz['Std'],GOOGLz['Std'] = AAPLm.std(),AMZNm.std(),GOOGLm.std()\n",
    "d = []\n",
    "r = []\n",
    "for col in AAPL.columns:\n",
    "    d.append(dias(AAPLm[col]))\n",
    "    r.append(ren(AAPL[col]))\n",
    "AAPLz['Dias'] = d\n",
    "AAPLz['r'] = r\n",
    "d = []\n",
    "r = []\n",
    "for col in AMZN.columns:\n",
    "    d.append(dias(AMZNm[col]))\n",
    "    r.append(ren(AMZN[col]))\n",
    "AMZNz['Dias'] = d\n",
    "AMZNz['r'] = r\n",
    "d = []\n",
    "r = []\n",
    "for col in GOOGL.columns:\n",
    "    d.append(dias(GOOGLm[col]))\n",
    "    r.append(ren(GOOGL[col]))\n",
    "GOOGLz['Dias'] = d\n",
    "GOOGLz['r'] = r"
   ]
  },
  {
   "cell_type": "code",
   "execution_count": 87,
   "metadata": {},
   "outputs": [],
   "source": [
    "AAPLz= AAPLz.fillna(AAPLz.mean())\n",
    "AMZN= AMZN.fillna(AMZN.mean())\n",
    "GOOGL =GOOGL.fillna(GOOGL.mean())"
   ]
  },
  {
   "cell_type": "code",
   "execution_count": 89,
   "metadata": {},
   "outputs": [],
   "source": [
    "AAPLmm = pd.DataFrame(mm.transform(AAPLz),columns= AAPLz.columns)\n",
    "AAPLs = pd.DataFrame(sc.transform(AAPLz),columns=AAPLz.columns)\n",
    "AAPLp = pd.DataFrame(pca.transform(AAPLs),columns=['p1','p2'])"
   ]
  },
  {
   "cell_type": "code",
   "execution_count": 90,
   "metadata": {
    "collapsed": true
   },
   "outputs": [],
   "source": [
    "AMZNmm = pd.DataFrame(mm.transform(AMZNz),columns= AMZNz.columns)\n",
    "AMZNs = pd.DataFrame(sc.transform(AMZNz),columns=AMZNz.columns)\n",
    "AMZNp = pd.DataFrame(pca.transform(AMZNs),columns=['p1','p2'])"
   ]
  },
  {
   "cell_type": "code",
   "execution_count": 91,
   "metadata": {
    "collapsed": true
   },
   "outputs": [],
   "source": [
    "GOOGLmm = pd.DataFrame(mm.transform(GOOGLz),columns= GOOGLz.columns)\n",
    "GOOGLs = pd.DataFrame(sc.transform(GOOGLz),columns=GOOGLz.columns)\n",
    "GOOGLp = pd.DataFrame(pca.transform(GOOGLs),columns=['p1','p2'])"
   ]
  },
  {
   "cell_type": "code",
   "execution_count": 92,
   "metadata": {
    "collapsed": true
   },
   "outputs": [],
   "source": [
    "AAPLp['cl']=AAPLmm['cl'] =AAPLp['cl'] =AAPLz['cl']= cl.predict(AAPLmm)"
   ]
  },
  {
   "cell_type": "code",
   "execution_count": 93,
   "metadata": {
    "collapsed": true
   },
   "outputs": [],
   "source": [
    "AMZNp['cl']=AMZNmm['cl'] =AMZNp['cl'] =AMZNz['cl']= cl.predict(AMZNmm)"
   ]
  },
  {
   "cell_type": "code",
   "execution_count": 94,
   "metadata": {
    "collapsed": true
   },
   "outputs": [],
   "source": [
    "GOOGLp['cl']=GOOGLmm['cl'] =GOOGLp['cl'] =GOOGLz['cl']= cl.predict(GOOGLmm)"
   ]
  },
  {
   "cell_type": "code",
   "execution_count": 97,
   "metadata": {},
   "outputs": [
    {
     "data": {
      "text/plain": [
       "<seaborn.axisgrid.FacetGrid at 0x7fa16f3e6290>"
      ]
     },
     "execution_count": 97,
     "metadata": {},
     "output_type": "execute_result"
    },
    {
     "data": {
      "image/png": "[encoded data removed]",
      "text/plain": [
       "<matplotlib.figure.Figure at 0x7fa16eaa6d50>"
      ]
     },
     "metadata": {},
     "output_type": "display_data"
    }
   ],
   "source": [
    "sns.lmplot(data=GOOGLp,x='p1',y='p2',fit_reg=False,hue='cl')"
   ]
  },
  {
   "cell_type": "code",
   "execution_count": 103,
   "metadata": {},
   "outputs": [
    {
     "data": {
      "image/png": "[encoded data removed]",
      "text/plain": [
       "<matplotlib.figure.Figure at 0x7fa16c82acd0>"
      ]
     },
     "metadata": {},
     "output_type": "display_data"
    }
   ],
   "source": [
    "plot(GOOGLp['p1'],GOOGLp['p2'])\n",
    "plot(AMZNp['p1'],AMZNp['p2'])\n",
    "plot(AAPLp['p1'],AAPLp['p2'])\n",
    "# Mark the start and end points.\n",
    "plot(GOOGLp['p1'][0],GOOGLp['p2'][0], 'go')\n",
    "plot(GOOGLp['p1'][249],GOOGLp['p2'][249], 'ro')\n",
    "plot(AMZNp['p1'][0],AMZNp['p2'][0], 'go')\n",
    "plot(AMZNp['p1'][249],AMZNp['p2'][249], 'ro')\n",
    "plot(AAPLp['p1'][0],AAPLp['p2'][0], 'go')\n",
    "plot(AAPLp['p1'][249],AAPLp['p2'][249], 'ro')\n",
    "# More plot decorations.\n",
    "title('Movimineto de AAPL, AMZN y GOOGL')\n",
    "xlabel('x', fontsize=16)\n",
    "ylabel('y', fontsize=16)\n",
    "axis('equal')\n",
    "grid(True)\n",
    "show()"
   ]
  }
 ],
 "metadata": {
  "kernelspec": {
   "display_name": "Python 2",
   "language": "python",
   "name": "python2"
  },
  "language_info": {
   "codemirror_mode": {
    "name": "ipython",
    "version": 2
   },
   "file_extension": ".py",
   "mimetype": "text/x-python",
   "name": "python",
   "nbconvert_exporter": "python",
   "pygments_lexer": "ipython2",
   "version": "2.7.14"
  }
 },
 "nbformat": 4,
 "nbformat_minor": 2
}
