{
 "cells": [
  {
   "cell_type": "code",
   "execution_count": 1,
   "metadata": {
    "collapsed": true
   },
   "outputs": [],
   "source": [
    "import pandas as pd\n",
    "import fix_yahoo_finance as yf\n",
    "import matplotlib.pyplot as plt\n",
    "import seaborn as sns\n",
    "%matplotlib inline"
   ]
  },
  {
   "cell_type": "code",
   "execution_count": 2,
   "metadata": {
    "collapsed": true
   },
   "outputs": [],
   "source": [
    "SP = list(pd.read_csv('Stickers.csv',header=None)[0])"
   ]
  },
  {
   "cell_type": "code",
   "execution_count": 4,
   "metadata": {},
   "outputs": [
    {
     "name": "stdout",
     "output_type": "stream",
     "text": [
      "[*********************100%***********************]  505 of 505 downloaded\n",
      "[*********************100%***********************]  505 of 505 downloaded\n",
      "[*********************100%***********************]  505 of 505 downloaded\n",
      "[*********************100%***********************]  505 of 505 downloaded\n"
     ]
    }
   ],
   "source": [
    "for i in range(4,8):\n",
    "    pnl = yf.download(SP,start='201{}-01-01'.format(i),end=\"201{}-12-31\".format(i))\n",
    "    df = pnl.to_frame().unstack(level=1)\n",
    "    df = df['Adj Close']\n",
    "    df.to_csv('S&P500_201{}.csv'.format(i))"
   ]
  }
 ],
 "metadata": {
  "kernelspec": {
   "display_name": "Python 2",
   "language": "python",
   "name": "python2"
  },
  "language_info": {
   "codemirror_mode": {
    "name": "ipython",
    "version": 2
   },
   "file_extension": ".py",
   "mimetype": "text/x-python",
   "name": "python",
   "nbconvert_exporter": "python",
   "pygments_lexer": "ipython2",
   "version": "2.7.14"
  }
 },
 "nbformat": 4,
 "nbformat_minor": 2
}
