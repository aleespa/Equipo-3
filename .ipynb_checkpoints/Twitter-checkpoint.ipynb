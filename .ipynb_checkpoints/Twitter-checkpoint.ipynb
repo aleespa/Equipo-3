{
 "cells": [
  {
   "cell_type": "code",
   "execution_count": 59,
   "metadata": {},
   "outputs": [],
   "source": [
    "import tweepy\n",
    "from textblob import TextBlob"
   ]
  },
  {
   "cell_type": "code",
   "execution_count": 60,
   "metadata": {
    "collapsed": true
   },
   "outputs": [],
   "source": [
    "consumer_key= 'qTQZILCSvDKDoZoKmiKQH1vKb'\n",
    "consumer_secret= 'hVLLgRot6L2j8pp2QdlRo2xMdqmnwgwk3Jdrw3uFTbYu26wGOu'\n",
    "\n",
    "access_token='193162128-3vT4dM7OtQTnQQaNPjTbqC0UkZw3e5itxlFjmJv2'\n",
    "access_token_secret='XRzhwZlvJQoq2XgpzCje1sJXKIQVTsS4ZVO5VbKByauiE'"
   ]
  },
  {
   "cell_type": "code",
   "execution_count": 61,
   "metadata": {
    "collapsed": true
   },
   "outputs": [],
   "source": [
    "auth = tweepy.OAuthHandler(consumer_key, consumer_secret)\n",
    "auth.set_access_token(access_token, access_token_secret)\n",
    "api = tweepy.API(auth)"
   ]
  },
  {
   "cell_type": "code",
   "execution_count": 62,
   "metadata": {},
   "outputs": [],
   "source": [
    "public_tweets = api.search('MEADE',rpp=100,pages=10)"
   ]
  },
  {
   "cell_type": "code",
   "execution_count": 63,
   "metadata": {},
   "outputs": [
    {
     "name": "stdout",
     "output_type": "stream",
     "text": [
      "RT @cesamo70: Mi opinión del #DebateINE \n",
      "\n",
      "Meade: Soy Meade (a nadie le importa)\n",
      "\n",
      "Bronco: Cortar manos (interesante)\n",
      "\n",
      "Anaya: Números sólo nú…\n",
      "0.0\n",
      "\n",
      "RT @lovrega: Total que el resultado del debate será que Meade seguirá en tercer lugar en las encuestas, el Bronco se mantendrá en el sótano…\n",
      "0.0\n",
      "\n",
      "RT @DrNetas: - ¿Quiere agregar algo, Candidato Meade?\n",
      "- Sí, que si Andrés Manuel se hubiera desmayado, en vez de volver en sí hubiera vuelt…\n",
      "0.0\n",
      "\n",
      "RT @AureDo: AMLO: Cuando fui Jefe de Gobierno...\n",
      "\n",
      "Anaya: Miren esta gráfica contra AMLO.\n",
      "\n",
      "Meade: Hola, soy Jose Antonio Meade.\n",
      "\n",
      "Bronco: Yo…\n",
      "0.0\n",
      "\n",
      "@JoseAMeadeK El sondeo que mata a Meade https://t.co/ehafvzLxP9\n",
      "0.0\n",
      "\n",
      "RT @sergioaguayo: #Debate2018 En suma. Un ataque despiadado contra AMLO quien los capoteó y habló a los suyos. Meade gris y plano. Margarit…\n",
      "0.0\n",
      "\n",
      "RT @warkentin: Completamente borrados del debate: José Antonio Meade y Margarita Zavala.\n",
      "\n",
      "El Bronco en plan de echar bronca.\n",
      "\n",
      "Anaya con alg…\n",
      "0.0\n",
      "\n",
      "RT @ABarrancoCh: El Bronco fascista; Margarita Insulsa; Anaya, cínico; Meade sin crédito; López Obrador, cuatro contra uno, firme.\n",
      "0.0\n",
      "\n",
      "RT @ABarrancoCh: El Bronco fascista; Margarita Insulsa; Anaya, cínico; Meade sin crédito; López Obrador, cuatro contra uno, firme.\n",
      "0.0\n",
      "\n",
      "RT @AureDo: AMLO: Cuando fui Jefe de Gobierno...\n",
      "\n",
      "Anaya: Miren esta gráfica contra AMLO.\n",
      "\n",
      "Meade: Hola, soy Jose Antonio Meade.\n",
      "\n",
      "Bronco: Yo…\n",
      "0.0\n",
      "\n",
      "RT @lapetitemachine: EN VEZ DE VOLVER EN SÍ HABRÍA VUELTO EN NO\n",
      "\n",
      "estoy harto de que ricardo arjona le escriba todo a pepe meade\n",
      "0.0\n",
      "\n",
      "RT @OvejaElectrica_: \"Soy Antonio Meade, intelectualmente formidable y no me cambio por nada\" 😂\n",
      "\"Soy Margarita Zavala y le vengo a ofrecer…\n",
      "0.0\n",
      "\n",
      "RT @brozoxmiswebs: Margarita felipea, El Bronco echa lámina, Anaya y Meade sobre Andrés y López Obrador recuerda orgulloso sus años en el D…\n",
      "0.0\n",
      "\n",
      "RT @cesamo70: Mi opinión del #DebateINE \n",
      "\n",
      "Meade: Soy Meade (a nadie le importa)\n",
      "\n",
      "Bronco: Cortar manos (interesante)\n",
      "\n",
      "Anaya: Números sólo nú…\n",
      "0.0\n",
      "\n",
      "Hoy en la madrugada Pepe Meade se va a levantar sudando y gritando “SOY JOSÉ ANTONIO MEADE”\n",
      "0.0\n",
      "\n"
     ]
    }
   ],
   "source": [
    "for tweet in public_tweets:\n",
    "    print(tweet.text)\n",
    "    analysis = TextBlob(tweet.text)\n",
    "    print analysis.sentiment.polarity\n",
    "    print \"\""
   ]
  },
  {
   "cell_type": "code",
   "execution_count": 64,
   "metadata": {},
   "outputs": [
    {
     "data": {
      "text/plain": [
       "0.0"
      ]
     },
     "execution_count": 64,
     "metadata": {},
     "output_type": "execute_result"
    }
   ],
   "source": [
    "analysis.sentiment.polarity"
   ]
  }
 ],
 "metadata": {
  "kernelspec": {
   "display_name": "Python 2",
   "language": "python",
   "name": "python2"
  },
  "language_info": {
   "codemirror_mode": {
    "name": "ipython",
    "version": 2
   },
   "file_extension": ".py",
   "mimetype": "text/x-python",
   "name": "python",
   "nbconvert_exporter": "python",
   "pygments_lexer": "ipython2",
   "version": "2.7.14"
  }
 },
 "nbformat": 4,
 "nbformat_minor": 2
}
