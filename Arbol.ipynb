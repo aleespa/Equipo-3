{
 "cells": [
  {
   "cell_type": "code",
   "execution_count": 1,
   "metadata": {
    "scrolled": false
   },
   "outputs": [
    {
     "name": "stderr",
     "output_type": "stream",
     "text": [
      "/home/carla/anaconda2/lib/python2.7/site-packages/sklearn/cross_validation.py:41: DeprecationWarning: This module was deprecated in version 0.18 in favor of the model_selection module into which all the refactored classes and functions are moved. Also note that the interface of the new CV iterators are different from that of this module. This module will be removed in 0.20.\n",
      "  \"This module will be removed in 0.20.\", DeprecationWarning)\n"
     ]
    }
   ],
   "source": [
    "import quandl\n",
    "import pandas as pd\n",
    "import numpy as np\n",
    "from sklearn.neural_network import MLPRegressor\n",
    "from sklearn.tree import DecisionTreeRegressor\n",
    "from sklearn.neighbors import KNeighborsClassifier\n",
    "from sklearn.linear_model import SGDClassifier\n",
    "from sklearn import preprocessing, cross_validation\n",
    "from sklearn.preprocessing import MinMaxScaler\n",
    "from sklearn.model_selection import GridSearchCV\n",
    "quandl.ApiConfig.api_key = 'DEN8cmx6MYrtzyeUdDeh'"
   ]
  },
  {
   "cell_type": "code",
   "execution_count": 4,
   "metadata": {
    "scrolled": false
   },
   "outputs": [
    {
     "name": "stdout",
     "output_type": "stream",
     "text": [
      "FB\n",
      "ACC Validate 95.72%\n",
      "ACC Train    99.10%\n",
      "GOOGL\n",
      "ACC Validate 93.63%\n",
      "ACC Train    99.96%\n",
      "AAPl\n",
      "ACC Validate 93.01%\n",
      "ACC Train    98.16%\n",
      "AMZN\n",
      "ACC Validate 98.86%\n",
      "ACC Train    99.95%\n",
      "TSLA\n",
      "ACC Validate 81.01%\n",
      "ACC Train    84.47%\n",
      "MSFT\n",
      "ACC Validate 97.96%\n",
      "ACC Train    99.76%\n",
      "AMD\n",
      "ACC Validate 60.65%\n",
      "ACC Train    71.95%\n",
      "INTC\n",
      "ACC Validate 95.77%\n",
      "ACC Train    99.02%\n",
      "T\n",
      "ACC Validate 77.66%\n",
      "ACC Train    78.88%\n",
      "NFLX\n",
      "ACC Validate 97.69%\n",
      "ACC Train    98.87%\n",
      "Promedio Validate  89.19%\n",
      "Promedio Train     93.01%\n",
      "CPU times: user 27min 45s, sys: 1min 14s, total: 28min 59s\n",
      "Wall time: 38min 34s\n"
     ]
    }
   ],
   "source": [
    "%%time\n",
    "tickers = ['FB','GOOGL','AAPl','AMZN','TSLA','MSFT','AMD','INTC','T','NFLX']\n",
    "Validate = []\n",
    "Train = []\n",
    "for ticker in tickers:\n",
    "    df = quandl.get(\"WIKI/\"+ticker)\n",
    "    df = df.iloc[-500:]\n",
    "    func = ['mean','std','skew','kurt']\n",
    "    time = [2,4,7,30,60,120,250]\n",
    "    Z = pd.DataFrame()\n",
    "    for f in func:\n",
    "        for t in time:\n",
    "            aux = pd.DataFrame()\n",
    "            for i in range(249):\n",
    "                aux[df.index[i+251]] = list(df.iloc[i-t+251:i+251]['Adj. Close'])\n",
    "            Z[f+str(t)] = aux.apply(f,axis=0)  \n",
    "    Z.drop(['skew2','kurt2'],axis=1, inplace =True)\n",
    "    W = pd.merge(Z, df[['Adj. Close']],left_index=True,right_index=True)\n",
    "    X = W.drop(['Adj. Close'],1).fillna(0)\n",
    "    y = W[['Adj. Close']]\n",
    "    mm1 = MinMaxScaler()\n",
    "    mm2 = MinMaxScaler()\n",
    "    mm1.fit(X)\n",
    "    mm2.fit(y)\n",
    "    Xm = pd.DataFrame(mm1.transform(X))\n",
    "    ym = pd.DataFrame(mm2.transform(y))\n",
    "    Xt, Xv, yt, yv = cross_validation.train_test_split(Xm, ym, test_size = 0.3)\n",
    "    model =  DecisionTreeRegressor()\n",
    "    param_grid = dict(criterion = ['mse','mae'],\n",
    "                      splitter = ['best','random'],          \n",
    "                      max_features = range(2,15),\n",
    "                      min_samples_split=range(2,10),\n",
    "                      max_depth = range(3,15)) \n",
    "    grid = GridSearchCV(cv = 3, \n",
    "                        estimator = model,\n",
    "                        n_jobs = -1,\n",
    "                        param_grid=param_grid)\n",
    "    grid.fit(Xm,ym)\n",
    "    model = grid.best_estimator_\n",
    "    model.fit(Xt,yt)\n",
    "    print ticker\n",
    "    print 'ACC Validate {:.2%}'.format(model.score(Xv,yv))\n",
    "    print 'ACC Train    {:.2%}'.format(model.score(Xt,yt))\n",
    "    Validate.append(model.score(Xv,yv))\n",
    "    Train.append(model.score(Xt,yt))\n",
    "print 'Promedio Validate  {:.2%}'.format(np.array(Validate).mean())\n",
    "print 'Promedio Train     {:.2%}'.format(np.array(Train).mean())"
   ]
  },
  {
   "cell_type": "code",
   "execution_count": null,
   "metadata": {
    "collapsed": true
   },
   "outputs": [],
   "source": []
  }
 ],
 "metadata": {
  "kernelspec": {
   "display_name": "Python 2",
   "language": "python",
   "name": "python2"
  },
  "language_info": {
   "codemirror_mode": {
    "name": "ipython",
    "version": 2
   },
   "file_extension": ".py",
   "mimetype": "text/x-python",
   "name": "python",
   "nbconvert_exporter": "python",
   "pygments_lexer": "ipython2",
   "version": "2.7.13"
  }
 },
 "nbformat": 4,
 "nbformat_minor": 2
}
