{
 "cells": [
  {
   "cell_type": "code",
   "execution_count": 148,
   "metadata": {
    "collapsed": true
   },
   "outputs": [],
   "source": [
    "import pandas as pd\n",
    "from __future__ import division\n",
    "import matplotlib.pyplot as plt\n",
    "import seaborn as sns\n",
    "import numpy as np\n",
    "%matplotlib inline\n",
    "import  pickle\n",
    "\n",
    "from sklearn.preprocessing import StandardScaler, MinMaxScaler\n",
    "from sklearn.decomposition import PCA\n",
    "from sklearn.manifold import MDS\n",
    "\n",
    "from sklearn.cluster import AgglomerativeClustering, KMeans\n",
    "from sklearn.mixture import GaussianMixture"
   ]
  },
  {
   "cell_type": "code",
   "execution_count": 149,
   "metadata": {},
   "outputs": [],
   "source": [
    "sc = pickle.load(open('pipe_sc.m','rb'))\n",
    "mm = pickle.load(open('pipe_mm.m','rb'))\n",
    "pca =pickle.load(open('pipe_pca.m','rb'))\n",
    "mds = pickle.load(open('pipe_mds.m','rb'))\n",
    "cl = pickle.load(open('cluster.m','rb'))"
   ]
  },
  {
   "cell_type": "code",
   "execution_count": 150,
   "metadata": {},
   "outputs": [],
   "source": [
    "X = pd.read_csv('AAPAMGOG.csv')\n",
    "X = X.drop(['Date'],axis=1)\n",
    "mm1 = MinMaxScaler()\n",
    "mm1.fit(X)\n",
    "dfm = pd.DataFrame(mm1.transform(X),columns=X.columns)"
   ]
  },
  {
   "cell_type": "code",
   "execution_count": 179,
   "metadata": {},
   "outputs": [
    {
     "data": {
      "text/html": [
       "<div>\n",
       "<style>\n",
       "    .dataframe thead tr:only-child th {\n",
       "        text-align: right;\n",
       "    }\n",
       "\n",
       "    .dataframe thead th {\n",
       "        text-align: left;\n",
       "    }\n",
       "\n",
       "    .dataframe tbody tr th {\n",
       "        vertical-align: top;\n",
       "    }\n",
       "</style>\n",
       "<table border=\"1\" class=\"dataframe\">\n",
       "  <thead>\n",
       "    <tr style=\"text-align: right;\">\n",
       "      <th></th>\n",
       "      <th>AMZN0</th>\n",
       "      <th>AMZN1</th>\n",
       "      <th>AMZN2</th>\n",
       "      <th>AMZN3</th>\n",
       "      <th>AMZN4</th>\n",
       "      <th>AMZN5</th>\n",
       "      <th>AMZN6</th>\n",
       "      <th>AMZN7</th>\n",
       "      <th>AMZN8</th>\n",
       "    </tr>\n",
       "  </thead>\n",
       "  <tbody>\n",
       "    <tr>\n",
       "      <th>0</th>\n",
       "      <td>0.413815</td>\n",
       "      <td>0.023681</td>\n",
       "      <td>0.018417</td>\n",
       "      <td>0.083036</td>\n",
       "      <td>0.021027</td>\n",
       "      <td>0.142301</td>\n",
       "      <td>0.146372</td>\n",
       "      <td>0.139148</td>\n",
       "      <td>0.027032</td>\n",
       "    </tr>\n",
       "    <tr>\n",
       "      <th>1</th>\n",
       "      <td>0.405267</td>\n",
       "      <td>0.000000</td>\n",
       "      <td>0.030351</td>\n",
       "      <td>0.058004</td>\n",
       "      <td>0.000000</td>\n",
       "      <td>0.147544</td>\n",
       "      <td>0.169160</td>\n",
       "      <td>0.097512</td>\n",
       "      <td>0.015877</td>\n",
       "    </tr>\n",
       "    <tr>\n",
       "      <th>2</th>\n",
       "      <td>0.402222</td>\n",
       "      <td>0.025763</td>\n",
       "      <td>0.017312</td>\n",
       "      <td>0.060316</td>\n",
       "      <td>0.045900</td>\n",
       "      <td>0.148293</td>\n",
       "      <td>0.204969</td>\n",
       "      <td>0.100596</td>\n",
       "      <td>0.011269</td>\n",
       "    </tr>\n",
       "    <tr>\n",
       "      <th>3</th>\n",
       "      <td>0.336218</td>\n",
       "      <td>0.089778</td>\n",
       "      <td>0.000000</td>\n",
       "      <td>0.012220</td>\n",
       "      <td>0.067065</td>\n",
       "      <td>0.156324</td>\n",
       "      <td>0.207483</td>\n",
       "      <td>0.075468</td>\n",
       "      <td>0.023009</td>\n",
       "    </tr>\n",
       "    <tr>\n",
       "      <th>4</th>\n",
       "      <td>0.333841</td>\n",
       "      <td>0.072707</td>\n",
       "      <td>0.039142</td>\n",
       "      <td>0.019033</td>\n",
       "      <td>0.067120</td>\n",
       "      <td>0.160279</td>\n",
       "      <td>0.191708</td>\n",
       "      <td>0.138141</td>\n",
       "      <td>0.030456</td>\n",
       "    </tr>\n",
       "  </tbody>\n",
       "</table>\n",
       "</div>"
      ],
      "text/plain": [
       "      AMZN0     AMZN1     AMZN2     AMZN3     AMZN4     AMZN5     AMZN6  \\\n",
       "0  0.413815  0.023681  0.018417  0.083036  0.021027  0.142301  0.146372   \n",
       "1  0.405267  0.000000  0.030351  0.058004  0.000000  0.147544  0.169160   \n",
       "2  0.402222  0.025763  0.017312  0.060316  0.045900  0.148293  0.204969   \n",
       "3  0.336218  0.089778  0.000000  0.012220  0.067065  0.156324  0.207483   \n",
       "4  0.333841  0.072707  0.039142  0.019033  0.067120  0.160279  0.191708   \n",
       "\n",
       "      AMZN7     AMZN8  \n",
       "0  0.139148  0.027032  \n",
       "1  0.097512  0.015877  \n",
       "2  0.100596  0.011269  \n",
       "3  0.075468  0.023009  \n",
       "4  0.138141  0.030456  "
      ]
     },
     "execution_count": 179,
     "metadata": {},
     "output_type": "execute_result"
    }
   ],
   "source": [
    "W = pd.DataFrame()\n",
    "for i in range(9):\n",
    "    #W['AAPL{}'.format(i)] = list(X.iloc[i*30:292+i*30]['AAPL'])\n",
    "    W['AMZN{}'.format(i)] = list(X.iloc[i*30:292+i*30]['AMZN'])\n",
    "    #W['GOOGL{}'.format(i)] = list(X.iloc[i*30:292+i*30]['GOOGL'])\n",
    "mm1 = MinMaxScaler()\n",
    "mm1.fit(W)\n",
    "Wm = pd.DataFrame(mm1.transform(W),columns=W.columns)\n",
    "Wm.head()"
   ]
  },
  {
   "cell_type": "code",
   "execution_count": 180,
   "metadata": {},
   "outputs": [
    {
     "name": "stdout",
     "output_type": "stream",
     "text": [
      "CPU times: user 0 ns, sys: 0 ns, total: 0 ns\n",
      "Wall time: 31 µs\n"
     ]
    }
   ],
   "source": [
    "%%time\n",
    "def dias(H):\n",
    "    y = 0\n",
    "    for i in range(1,len(H)):\n",
    "        if (H[i-1]< H[i]):\n",
    "            y = y + 1     \n",
    "    return y\n",
    "def ren(Data):\n",
    "    y = []\n",
    "    for i in range(1,len(Data)):\n",
    "        y.append((Data[i]-Data[i-1])/Data[i-1])   \n",
    "    return np.mean(y)"
   ]
  },
  {
   "cell_type": "code",
   "execution_count": 181,
   "metadata": {},
   "outputs": [
    {
     "name": "stdout",
     "output_type": "stream",
     "text": [
      "CPU times: user 740 ms, sys: 16 ms, total: 756 ms\n",
      "Wall time: 828 ms\n"
     ]
    }
   ],
   "source": [
    "%%time\n",
    "Z = pd.DataFrame(columns=W.columns)\n",
    "Z = Z.T\n",
    "Z['Media'] = Wm.mean()\n",
    "Z['Std'] = Wm.std()  \n",
    "d = []\n",
    "r = []\n",
    "for col in W.columns:\n",
    "    d.append(dias(Wm[col]))\n",
    "    r.append(ren(W[col]))\n",
    "Z['Dias'] = d\n",
    "Z['r'] = r"
   ]
  },
  {
   "cell_type": "code",
   "execution_count": 182,
   "metadata": {},
   "outputs": [
    {
     "data": {
      "text/html": [
       "<div>\n",
       "<style>\n",
       "    .dataframe thead tr:only-child th {\n",
       "        text-align: right;\n",
       "    }\n",
       "\n",
       "    .dataframe thead th {\n",
       "        text-align: left;\n",
       "    }\n",
       "\n",
       "    .dataframe tbody tr th {\n",
       "        vertical-align: top;\n",
       "    }\n",
       "</style>\n",
       "<table border=\"1\" class=\"dataframe\">\n",
       "  <thead>\n",
       "    <tr style=\"text-align: right;\">\n",
       "      <th></th>\n",
       "      <th>Media</th>\n",
       "      <th>Std</th>\n",
       "      <th>Dias</th>\n",
       "      <th>r</th>\n",
       "    </tr>\n",
       "  </thead>\n",
       "  <tbody>\n",
       "    <tr>\n",
       "      <th>AMZN0</th>\n",
       "      <td>0.625688</td>\n",
       "      <td>0.256486</td>\n",
       "      <td>164</td>\n",
       "      <td>0.001157</td>\n",
       "    </tr>\n",
       "    <tr>\n",
       "      <th>AMZN1</th>\n",
       "      <td>0.577078</td>\n",
       "      <td>0.236321</td>\n",
       "      <td>166</td>\n",
       "      <td>0.001875</td>\n",
       "    </tr>\n",
       "    <tr>\n",
       "      <th>AMZN2</th>\n",
       "      <td>0.488652</td>\n",
       "      <td>0.207437</td>\n",
       "      <td>169</td>\n",
       "      <td>0.001856</td>\n",
       "    </tr>\n",
       "    <tr>\n",
       "      <th>AMZN3</th>\n",
       "      <td>0.407682</td>\n",
       "      <td>0.270353</td>\n",
       "      <td>167</td>\n",
       "      <td>0.001194</td>\n",
       "    </tr>\n",
       "    <tr>\n",
       "      <th>AMZN4</th>\n",
       "      <td>0.441962</td>\n",
       "      <td>0.258602</td>\n",
       "      <td>164</td>\n",
       "      <td>0.001136</td>\n",
       "    </tr>\n",
       "  </tbody>\n",
       "</table>\n",
       "</div>"
      ],
      "text/plain": [
       "          Media       Std  Dias         r\n",
       "AMZN0  0.625688  0.256486   164  0.001157\n",
       "AMZN1  0.577078  0.236321   166  0.001875\n",
       "AMZN2  0.488652  0.207437   169  0.001856\n",
       "AMZN3  0.407682  0.270353   167  0.001194\n",
       "AMZN4  0.441962  0.258602   164  0.001136"
      ]
     },
     "execution_count": 182,
     "metadata": {},
     "output_type": "execute_result"
    }
   ],
   "source": [
    "Z= Z.fillna(Z.mean())\n",
    "Z.head()"
   ]
  },
  {
   "cell_type": "code",
   "execution_count": 183,
   "metadata": {},
   "outputs": [],
   "source": [
    "Zmm = pd.DataFrame(mm.transform(Z),columns= Z.columns)\n",
    "Zs = pd.DataFrame(sc.transform(Z),columns=Z.columns)\n",
    "Zp = pd.DataFrame(pca.transform(Zs),columns=['p1','p2'])"
   ]
  },
  {
   "cell_type": "code",
   "execution_count": 184,
   "metadata": {},
   "outputs": [],
   "source": [
    "Zp['cl']=Zmm['cl'] =Zp['cl'] =Z['cl']= cl.predict(Zmm)"
   ]
  },
  {
   "cell_type": "code",
   "execution_count": 186,
   "metadata": {},
   "outputs": [],
   "source": [
    "Zp['n']= Z.index"
   ]
  },
  {
   "cell_type": "code",
   "execution_count": 187,
   "metadata": {},
   "outputs": [
    {
     "data": {
      "text/plain": [
       "<seaborn.axisgrid.FacetGrid at 0x7f6caa3c38d0>"
      ]
     },
     "execution_count": 187,
     "metadata": {},
     "output_type": "execute_result"
    },
    {
     "data": {
      "image/png": "[encoded data removed]",
      "text/plain": [
       "<matplotlib.figure.Figure at 0x7f6caa3c3c90>"
      ]
     },
     "metadata": {},
     "output_type": "display_data"
    }
   ],
   "source": [
    "sns.lmplot(data=Zp,x='p1',y='p2',fit_reg=False,hue='n')"
   ]
  }
 ],
 "metadata": {
  "kernelspec": {
   "display_name": "Python 2",
   "language": "python",
   "name": "python2"
  },
  "language_info": {
   "codemirror_mode": {
    "name": "ipython",
    "version": 2
   },
   "file_extension": ".py",
   "mimetype": "text/x-python",
   "name": "python",
   "nbconvert_exporter": "python",
   "pygments_lexer": "ipython2",
   "version": "2.7.14"
  }
 },
 "nbformat": 4,
 "nbformat_minor": 2
}
