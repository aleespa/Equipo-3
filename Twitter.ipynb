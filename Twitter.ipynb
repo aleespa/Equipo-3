{
 "cells": [
  {
   "cell_type": "code",
   "execution_count": 59,
   "metadata": {},
   "outputs": [],
   "source": [
    "import tweepy\n",
    "from textblob import TextBlob"
   ]
  },
  {
   "cell_type": "code",
   "execution_count": 60,
   "metadata": {
    "collapsed": true
   },
   "outputs": [],
   "source": [
    "consumer_key= 'qTQZILCSvDKDoZoKmiKQH1vKb'\n",
    "consumer_secret= 'hVLLgRot6L2j8pp2QdlRo2xMdqmnwgwk3Jdrw3uFTbYu26wGOu'\n",
    "\n",
    "access_token='193162128-3vT4dM7OtQTnQQaNPjTbqC0UkZw3e5itxlFjmJv2'\n",
    "access_token_secret='XRzhwZlvJQoq2XgpzCje1sJXKIQVTsS4ZVO5VbKByauiE'"
   ]
  },
  {
   "cell_type": "code",
   "execution_count": 61,
   "metadata": {
    "collapsed": true
   },
   "outputs": [],
   "source": [
    "auth = tweepy.OAuthHandler(consumer_key, consumer_secret)\n",
    "auth.set_access_token(access_token, access_token_secret)\n",
    "api = tweepy.API(auth)"
   ]
  },
  {
   "cell_type": "code",
   "execution_count": 65,
   "metadata": {},
   "outputs": [],
   "source": [
    "public_tweets = api.search('Microsoft',rpp=100,pages=10)"
   ]
  },
  {
   "cell_type": "code",
   "execution_count": 68,
   "metadata": {},
   "outputs": [
    {
     "name": "stdout",
     "output_type": "stream",
     "text": [
      "How to Restart #Windows10 in Safe Mode (5 Ways) #MIcrosoft #Computers #Technology https://t.co/WhKgdCjvRU\n",
      "polaridad 0.5\n",
      "\n",
      "RT @TIME: Microsoft CEO @Satyanadella \"preaches the importance of empathy and making products that work reliably,\" writes author @WalterIsa…\n",
      "polaridad 0.0\n",
      "\n",
      "RT @AzureWeekly: From the Azure blog, #Azure Availability Zones now available for the most comprehensive resiliency strategy from Tom Keane…\n",
      "polaridad 0.45\n",
      "\n",
      "RT @insidemscloud: RT @pzerger: Transparent Data Encryption with customer managed keys in Azure SQL Database generally available https://t.…\n",
      "polaridad 0.4\n",
      "\n",
      "RT @MikeQuindazzi: 10 years of earnings reports show #Microsoft and #Google are highly-focused on #artificialintelligence and #machinelearn…\n",
      "polaridad 0.0\n",
      "\n",
      "I liked a @YouTube video https://t.co/tnTxsJroh0 Unbelievably Realistic Microsoft Paint Art : Santa Claus Speed Painting Time Lapse\n",
      "polaridad 0.383333333333\n",
      "\n",
      "RT @MicrosoftAU: Majans, an Australian favourite snack food company, is laying the foundations for an intelligent, efficient, data-driven f…\n",
      "polaridad 0.4\n",
      "\n",
      "RT @Xbox: It’s official: #AWayOut is a breakout hit.\n",
      "Play it now on Xbox One: https://t.co/dgqeFA4Iyk https://t.co/vkeu9K0idR\n",
      "polaridad 0.0\n",
      "\n",
      "New remote job: Principal Software Development Engineer https://t.co/vhhpX3luQk\n",
      "polaridad 0.0181818181818\n",
      "\n",
      "Microsoft Surface Phone: still in the cards? https://t.co/zkesm2KVG9\n",
      "polaridad 0.0\n",
      "\n",
      "RT @judsonalthoff: Today is #EarthDay2018, and here at Microsoft, we’re celebrating the ways human ingenuity &amp; technology, especially #AI,…\n",
      "polaridad 0.0\n",
      "\n",
      "RT @tata_comm: Along with Asia’s largest urban, industrial and infrastructure consulting firms, our #IoT solutions will enable lifts and es…\n",
      "polaridad 0.0\n",
      "\n",
      "RT @MikeWestDesign: @lindhartsen I counted 11 different styles across some of Microsoft's core apps. 😬 (Screenshots of latest app versions…\n",
      "polaridad 0.25\n",
      "\n",
      "CORE SPREADS - Halliburton posts numbers in the US this afternoon - There is a slew of results being posted during… https://t.co/idYgTfRuB0\n",
      "polaridad 0.0\n",
      "\n",
      "RT @morningpassages: Microsoft is out there promoting EXO better than SM. They even bothered to search about them and their current schedul…\n",
      "polaridad 0.25\n",
      "\n"
     ]
    }
   ],
   "source": [
    "for tweet in public_tweets:\n",
    "    print(tweet.text)\n",
    "    analysis = TextBlob(tweet.text)\n",
    "    print \"Polaridad {}\".format(analysis.sentiment.polarity)\n",
    "    print \"\""
   ]
  }
 ],
 "metadata": {
  "kernelspec": {
   "display_name": "Python 2",
   "language": "python",
   "name": "python2"
  },
  "language_info": {
   "codemirror_mode": {
    "name": "ipython",
    "version": 2
   },
   "file_extension": ".py",
   "mimetype": "text/x-python",
   "name": "python",
   "nbconvert_exporter": "python",
   "pygments_lexer": "ipython2",
   "version": "2.7.14"
  }
 },
 "nbformat": 4,
 "nbformat_minor": 2
}
