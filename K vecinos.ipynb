{
 "cells": [
  {
   "cell_type": "code",
   "execution_count": 3,
   "metadata": {
    "collapsed": true
   },
   "outputs": [],
   "source": [
    "import quandl\n",
    "import pandas as pd\n",
    "import numpy as np\n",
    "from sklearn.neural_network import MLPRegressor\n",
    "from sklearn.tree import DecisionTreeRegressor\n",
    "from sklearn.neighbors import KNeighborsRegressor\n",
    "from sklearn.linear_model import SGDClassifier\n",
    "from sklearn import preprocessing, cross_validation\n",
    "from sklearn.preprocessing import MinMaxScaler\n",
    "from sklearn.model_selection import GridSearchCV\n",
    "quandl.ApiConfig.api_key = 'DEN8cmx6MYrtzyeUdDeh'"
   ]
  },
  {
   "cell_type": "code",
   "execution_count": 5,
   "metadata": {},
   "outputs": [
    {
     "name": "stdout",
     "output_type": "stream",
     "text": [
      "FB\n",
      "ACC Validate 88.15%\n",
      "ACC Train    100.00%\n",
      "GOOGL\n",
      "ACC Validate 87.78%\n",
      "ACC Train    100.00%\n",
      "AAPl\n",
      "ACC Validate 91.40%\n",
      "ACC Train    100.00%\n",
      "AMZN\n",
      "ACC Validate 97.82%\n",
      "ACC Train    100.00%\n",
      "TSLA\n",
      "ACC Validate 66.79%\n",
      "ACC Train    100.00%\n",
      "MSFT\n",
      "ACC Validate 95.46%\n",
      "ACC Train    100.00%\n",
      "AMD\n",
      "ACC Validate 62.19%\n",
      "ACC Train    100.00%\n",
      "INTC\n",
      "ACC Validate 95.81%\n",
      "ACC Train    100.00%\n",
      "T\n",
      "ACC Validate 38.30%\n",
      "ACC Train    41.22%\n",
      "NFLX\n",
      "ACC Validate 96.40%\n",
      "ACC Train    100.00%\n",
      "Promedio Validate  82.01%\n",
      "Promedio Train     94.12%\n",
      "CPU times: user 2min 5s, sys: 3.78 s, total: 2min 8s\n",
      "Wall time: 3min 15s\n"
     ]
    }
   ],
   "source": [
    "%%time\n",
    "tickers = ['FB','GOOGL','AAPl','AMZN','TSLA','MSFT','AMD','INTC','T','NFLX']\n",
    "Validate = []\n",
    "Train = []\n",
    "for ticker in tickers:\n",
    "    df = quandl.get(\"WIKI/\"+ticker)\n",
    "    df = df.iloc[-500:]\n",
    "    func = ['mean','std','skew','kurt']\n",
    "    time = [2,4,7,30,60,120,250]\n",
    "    Z = pd.DataFrame()\n",
    "    for f in func:\n",
    "        for t in time:\n",
    "            aux = pd.DataFrame()\n",
    "            for i in range(249):\n",
    "                aux[df.index[i+251]] = list(df.iloc[i-t+251:i+251]['Adj. Close'])\n",
    "            Z[f+str(t)] = aux.apply(f,axis=0)  \n",
    "    Z.drop(['skew2','kurt2'],axis=1, inplace =True)\n",
    "    W = pd.merge(Z, df[['Adj. Close']],left_index=True,right_index=True)\n",
    "    X = W.drop(['Adj. Close'],1).fillna(0)\n",
    "    y = W[['Adj. Close']]\n",
    "    mm1 = MinMaxScaler()\n",
    "    mm2 = MinMaxScaler()\n",
    "    mm1.fit(X)\n",
    "    mm2.fit(y)\n",
    "    Xm = pd.DataFrame(mm1.transform(X))\n",
    "    ym = pd.DataFrame(mm2.transform(y))\n",
    "    Xt, Xv, yt, yv = cross_validation.train_test_split(Xm, ym, test_size = 0.3)\n",
    "    model =  KNeighborsRegressor()\n",
    "    param_grid = dict(n_neighbors  = range(20,70),\n",
    "                      weights = ['uniform','distance'],\n",
    "                      algorithm=['auto', 'ball_tree', 'kd_tree', 'brute']) \n",
    "    grid = GridSearchCV(cv = 3, \n",
    "                        estimator = model,\n",
    "                        n_jobs = -1,\n",
    "                        param_grid=param_grid)\n",
    "    grid.fit(Xm,ym)\n",
    "    model = grid.best_estimator_\n",
    "    model.fit(Xt,yt)\n",
    "    print ticker\n",
    "    print 'ACC Validate {:.2%}'.format(model.score(Xv,yv))\n",
    "    print 'ACC Train    {:.2%}'.format(model.score(Xt,yt))\n",
    "    Validate.append(model.score(Xv,yv))\n",
    "    Train.append(model.score(Xt,yt))\n",
    "print 'Promedio Validate  {:.2%}'.format(np.array(Validate).mean())\n",
    "print 'Promedio Train     {:.2%}'.format(np.array(Train).mean())"
   ]
  },
  {
   "cell_type": "code",
   "execution_count": null,
   "metadata": {
    "collapsed": true
   },
   "outputs": [],
   "source": []
  }
 ],
 "metadata": {
  "kernelspec": {
   "display_name": "Python 2",
   "language": "python",
   "name": "python2"
  },
  "language_info": {
   "codemirror_mode": {
    "name": "ipython",
    "version": 2
   },
   "file_extension": ".py",
   "mimetype": "text/x-python",
   "name": "python",
   "nbconvert_exporter": "python",
   "pygments_lexer": "ipython2",
   "version": "2.7.13"
  }
 },
 "nbformat": 4,
 "nbformat_minor": 2
}
