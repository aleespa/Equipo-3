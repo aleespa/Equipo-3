{
 "cells": [
  {
   "cell_type": "code",
   "execution_count": 1,
   "metadata": {
    "collapsed": true
   },
   "outputs": [],
   "source": [
    "import pandas as pd\n",
    "from __future__ import division\n",
    "import matplotlib.pyplot as plt\n",
    "import seaborn as sns\n",
    "import numpy as np\n",
    "%matplotlib inline\n",
    "\n",
    "from sklearn.preprocessing import StandardScaler, MinMaxScaler\n",
    "from sklearn.decomposition import PCA\n",
    "from sklearn.manifold import MDS\n",
    "\n",
    "from sklearn.cluster import AgglomerativeClustering, KMeans\n",
    "from sklearn.mixture import GMM"
   ]
  },
  {
   "cell_type": "code",
   "execution_count": 14,
   "metadata": {},
   "outputs": [
    {
     "data": {
      "text/html": [
       "<div>\n",
       "<style>\n",
       "    .dataframe thead tr:only-child th {\n",
       "        text-align: right;\n",
       "    }\n",
       "\n",
       "    .dataframe thead th {\n",
       "        text-align: left;\n",
       "    }\n",
       "\n",
       "    .dataframe tbody tr th {\n",
       "        vertical-align: top;\n",
       "    }\n",
       "</style>\n",
       "<table border=\"1\" class=\"dataframe\">\n",
       "  <thead>\n",
       "    <tr style=\"text-align: right;\">\n",
       "      <th></th>\n",
       "      <th>A</th>\n",
       "      <th>AAL</th>\n",
       "      <th>AAP</th>\n",
       "      <th>AAPL</th>\n",
       "      <th>ABBV</th>\n",
       "      <th>ABC</th>\n",
       "      <th>ABT</th>\n",
       "      <th>ACN</th>\n",
       "      <th>ADBE</th>\n",
       "      <th>ADI</th>\n",
       "      <th>...</th>\n",
       "      <th>XL</th>\n",
       "      <th>XLNX</th>\n",
       "      <th>XOM</th>\n",
       "      <th>XRAY</th>\n",
       "      <th>XRX</th>\n",
       "      <th>XYL</th>\n",
       "      <th>YUM</th>\n",
       "      <th>ZBH</th>\n",
       "      <th>ZION</th>\n",
       "      <th>ZTS</th>\n",
       "    </tr>\n",
       "  </thead>\n",
       "  <tbody>\n",
       "    <tr>\n",
       "      <th>0</th>\n",
       "      <td>46.074703</td>\n",
       "      <td>45.816051</td>\n",
       "      <td>170.237915</td>\n",
       "      <td>113.847588</td>\n",
       "      <td>59.784031</td>\n",
       "      <td>80.855621</td>\n",
       "      <td>37.982937</td>\n",
       "      <td>114.158501</td>\n",
       "      <td>103.480003</td>\n",
       "      <td>70.577911</td>\n",
       "      <td>...</td>\n",
       "      <td>36.900692</td>\n",
       "      <td>57.513260</td>\n",
       "      <td>86.670731</td>\n",
       "      <td>58.296070</td>\n",
       "      <td>26.833357</td>\n",
       "      <td>48.875042</td>\n",
       "      <td>61.848686</td>\n",
       "      <td>102.513084</td>\n",
       "      <td>42.586197</td>\n",
       "      <td>53.118965</td>\n",
       "    </tr>\n",
       "    <tr>\n",
       "      <th>1</th>\n",
       "      <td>46.679256</td>\n",
       "      <td>46.211868</td>\n",
       "      <td>171.634933</td>\n",
       "      <td>113.720161</td>\n",
       "      <td>60.626999</td>\n",
       "      <td>82.862099</td>\n",
       "      <td>38.284462</td>\n",
       "      <td>114.432961</td>\n",
       "      <td>104.139999</td>\n",
       "      <td>70.431908</td>\n",
       "      <td>...</td>\n",
       "      <td>37.027840</td>\n",
       "      <td>57.094593</td>\n",
       "      <td>85.717155</td>\n",
       "      <td>58.773418</td>\n",
       "      <td>27.845938</td>\n",
       "      <td>49.603493</td>\n",
       "      <td>62.073734</td>\n",
       "      <td>103.455551</td>\n",
       "      <td>43.197666</td>\n",
       "      <td>53.634392</td>\n",
       "    </tr>\n",
       "    <tr>\n",
       "      <th>2</th>\n",
       "      <td>46.124260</td>\n",
       "      <td>45.410336</td>\n",
       "      <td>171.515182</td>\n",
       "      <td>114.298462</td>\n",
       "      <td>61.086800</td>\n",
       "      <td>81.902901</td>\n",
       "      <td>38.615170</td>\n",
       "      <td>112.717552</td>\n",
       "      <td>105.910004</td>\n",
       "      <td>69.419624</td>\n",
       "      <td>...</td>\n",
       "      <td>36.607288</td>\n",
       "      <td>56.403305</td>\n",
       "      <td>84.439362</td>\n",
       "      <td>58.007671</td>\n",
       "      <td>27.729099</td>\n",
       "      <td>49.150673</td>\n",
       "      <td>62.279217</td>\n",
       "      <td>104.120262</td>\n",
       "      <td>42.497429</td>\n",
       "      <td>53.455975</td>\n",
       "    </tr>\n",
       "    <tr>\n",
       "      <th>3</th>\n",
       "      <td>47.561314</td>\n",
       "      <td>45.726990</td>\n",
       "      <td>169.269974</td>\n",
       "      <td>115.572708</td>\n",
       "      <td>61.105961</td>\n",
       "      <td>82.999107</td>\n",
       "      <td>39.665661</td>\n",
       "      <td>114.001671</td>\n",
       "      <td>108.300003</td>\n",
       "      <td>69.692154</td>\n",
       "      <td>...</td>\n",
       "      <td>36.568165</td>\n",
       "      <td>57.493786</td>\n",
       "      <td>84.391678</td>\n",
       "      <td>57.967899</td>\n",
       "      <td>27.300703</td>\n",
       "      <td>48.806133</td>\n",
       "      <td>63.032623</td>\n",
       "      <td>104.130180</td>\n",
       "      <td>42.773582</td>\n",
       "      <td>53.624477</td>\n",
       "    </tr>\n",
       "    <tr>\n",
       "      <th>4</th>\n",
       "      <td>47.709969</td>\n",
       "      <td>46.587898</td>\n",
       "      <td>169.170197</td>\n",
       "      <td>116.631294</td>\n",
       "      <td>61.508286</td>\n",
       "      <td>83.664680</td>\n",
       "      <td>39.626755</td>\n",
       "      <td>112.727356</td>\n",
       "      <td>108.570000</td>\n",
       "      <td>70.023094</td>\n",
       "      <td>...</td>\n",
       "      <td>35.952015</td>\n",
       "      <td>57.503525</td>\n",
       "      <td>82.999451</td>\n",
       "      <td>58.146900</td>\n",
       "      <td>27.144920</td>\n",
       "      <td>48.599411</td>\n",
       "      <td>63.208748</td>\n",
       "      <td>106.154053</td>\n",
       "      <td>42.310051</td>\n",
       "      <td>53.475800</td>\n",
       "    </tr>\n",
       "  </tbody>\n",
       "</table>\n",
       "<p>5 rows × 503 columns</p>\n",
       "</div>"
      ],
      "text/plain": [
       "           A        AAL         AAP        AAPL       ABBV        ABC  \\\n",
       "0  46.074703  45.816051  170.237915  113.847588  59.784031  80.855621   \n",
       "1  46.679256  46.211868  171.634933  113.720161  60.626999  82.862099   \n",
       "2  46.124260  45.410336  171.515182  114.298462  61.086800  81.902901   \n",
       "3  47.561314  45.726990  169.269974  115.572708  61.105961  82.999107   \n",
       "4  47.709969  46.587898  169.170197  116.631294  61.508286  83.664680   \n",
       "\n",
       "         ABT         ACN        ADBE        ADI    ...             XL  \\\n",
       "0  37.982937  114.158501  103.480003  70.577911    ...      36.900692   \n",
       "1  38.284462  114.432961  104.139999  70.431908    ...      37.027840   \n",
       "2  38.615170  112.717552  105.910004  69.419624    ...      36.607288   \n",
       "3  39.665661  114.001671  108.300003  69.692154    ...      36.568165   \n",
       "4  39.626755  112.727356  108.570000  70.023094    ...      35.952015   \n",
       "\n",
       "        XLNX        XOM       XRAY        XRX        XYL        YUM  \\\n",
       "0  57.513260  86.670731  58.296070  26.833357  48.875042  61.848686   \n",
       "1  57.094593  85.717155  58.773418  27.845938  49.603493  62.073734   \n",
       "2  56.403305  84.439362  58.007671  27.729099  49.150673  62.279217   \n",
       "3  57.493786  84.391678  57.967899  27.300703  48.806133  63.032623   \n",
       "4  57.503525  82.999451  58.146900  27.144920  48.599411  63.208748   \n",
       "\n",
       "          ZBH       ZION        ZTS  \n",
       "0  102.513084  42.586197  53.118965  \n",
       "1  103.455551  43.197666  53.634392  \n",
       "2  104.120262  42.497429  53.455975  \n",
       "3  104.130180  42.773582  53.624477  \n",
       "4  106.154053  42.310051  53.475800  \n",
       "\n",
       "[5 rows x 503 columns]"
      ]
     },
     "execution_count": 14,
     "metadata": {},
     "output_type": "execute_result"
    }
   ],
   "source": [
    "df = pd.read_csv('S&P500_2017.csv')\n",
    "df = df.drop(['Date'],axis=1)\n",
    "df.head()"
   ]
  },
  {
   "cell_type": "code",
   "execution_count": 15,
   "metadata": {},
   "outputs": [],
   "source": [
    "df= df.drop(df.select_dtypes(['object']).columns,axis=1)"
   ]
  },
  {
   "cell_type": "code",
   "execution_count": 16,
   "metadata": {},
   "outputs": [],
   "source": [
    "df=df.fillna(df.mean())"
   ]
  },
  {
   "cell_type": "code",
   "execution_count": 17,
   "metadata": {},
   "outputs": [],
   "source": [
    "mm1 = MinMaxScaler()\n",
    "mm1.fit(df)\n",
    "dfm = pd.DataFrame(mm1.transform(df),columns=df.columns)"
   ]
  },
  {
   "cell_type": "code",
   "execution_count": 18,
   "metadata": {},
   "outputs": [
    {
     "data": {
      "text/html": [
       "<div>\n",
       "<style>\n",
       "    .dataframe thead tr:only-child th {\n",
       "        text-align: right;\n",
       "    }\n",
       "\n",
       "    .dataframe thead th {\n",
       "        text-align: left;\n",
       "    }\n",
       "\n",
       "    .dataframe tbody tr th {\n",
       "        vertical-align: top;\n",
       "    }\n",
       "</style>\n",
       "<table border=\"1\" class=\"dataframe\">\n",
       "  <thead>\n",
       "    <tr style=\"text-align: right;\">\n",
       "      <th></th>\n",
       "      <th>A</th>\n",
       "      <th>AAL</th>\n",
       "      <th>AAP</th>\n",
       "      <th>AAPL</th>\n",
       "      <th>ABBV</th>\n",
       "      <th>ABC</th>\n",
       "      <th>ABT</th>\n",
       "      <th>ACN</th>\n",
       "      <th>ADBE</th>\n",
       "      <th>ADI</th>\n",
       "      <th>...</th>\n",
       "      <th>XL</th>\n",
       "      <th>XLNX</th>\n",
       "      <th>XOM</th>\n",
       "      <th>XRAY</th>\n",
       "      <th>XRX</th>\n",
       "      <th>XYL</th>\n",
       "      <th>YUM</th>\n",
       "      <th>ZBH</th>\n",
       "      <th>ZION</th>\n",
       "      <th>ZTS</th>\n",
       "    </tr>\n",
       "  </thead>\n",
       "  <tbody>\n",
       "    <tr>\n",
       "      <th>0</th>\n",
       "      <td>0.000000</td>\n",
       "      <td>0.418056</td>\n",
       "      <td>0.956029</td>\n",
       "      <td>0.002056</td>\n",
       "      <td>0.043814</td>\n",
       "      <td>0.366684</td>\n",
       "      <td>0.000000</td>\n",
       "      <td>0.073698</td>\n",
       "      <td>0.000000</td>\n",
       "      <td>0.051066</td>\n",
       "      <td>...</td>\n",
       "      <td>0.166359</td>\n",
       "      <td>0.179791</td>\n",
       "      <td>1.000000</td>\n",
       "      <td>0.356753</td>\n",
       "      <td>0.000000</td>\n",
       "      <td>0.114046</td>\n",
       "      <td>0.000000</td>\n",
       "      <td>0.000000</td>\n",
       "      <td>0.308037</td>\n",
       "      <td>0.047134</td>\n",
       "    </tr>\n",
       "    <tr>\n",
       "      <th>1</th>\n",
       "      <td>0.024818</td>\n",
       "      <td>0.446591</td>\n",
       "      <td>0.970721</td>\n",
       "      <td>0.000000</td>\n",
       "      <td>0.065179</td>\n",
       "      <td>0.455802</td>\n",
       "      <td>0.015693</td>\n",
       "      <td>0.080048</td>\n",
       "      <td>0.008057</td>\n",
       "      <td>0.044629</td>\n",
       "      <td>...</td>\n",
       "      <td>0.177850</td>\n",
       "      <td>0.158644</td>\n",
       "      <td>0.920745</td>\n",
       "      <td>0.386877</td>\n",
       "      <td>0.150246</td>\n",
       "      <td>0.145893</td>\n",
       "      <td>0.010597</td>\n",
       "      <td>0.031885</td>\n",
       "      <td>0.355288</td>\n",
       "      <td>0.072241</td>\n",
       "    </tr>\n",
       "    <tr>\n",
       "      <th>2</th>\n",
       "      <td>0.002034</td>\n",
       "      <td>0.388808</td>\n",
       "      <td>0.969462</td>\n",
       "      <td>0.009330</td>\n",
       "      <td>0.076833</td>\n",
       "      <td>0.413199</td>\n",
       "      <td>0.032906</td>\n",
       "      <td>0.040364</td>\n",
       "      <td>0.029663</td>\n",
       "      <td>0.000000</td>\n",
       "      <td>...</td>\n",
       "      <td>0.139841</td>\n",
       "      <td>0.123728</td>\n",
       "      <td>0.814544</td>\n",
       "      <td>0.338553</td>\n",
       "      <td>0.132909</td>\n",
       "      <td>0.126097</td>\n",
       "      <td>0.020273</td>\n",
       "      <td>0.054372</td>\n",
       "      <td>0.301178</td>\n",
       "      <td>0.063550</td>\n",
       "    </tr>\n",
       "    <tr>\n",
       "      <th>3</th>\n",
       "      <td>0.061028</td>\n",
       "      <td>0.411636</td>\n",
       "      <td>0.945849</td>\n",
       "      <td>0.029888</td>\n",
       "      <td>0.077318</td>\n",
       "      <td>0.461887</td>\n",
       "      <td>0.087580</td>\n",
       "      <td>0.070070</td>\n",
       "      <td>0.058838</td>\n",
       "      <td>0.012015</td>\n",
       "      <td>...</td>\n",
       "      <td>0.136305</td>\n",
       "      <td>0.178807</td>\n",
       "      <td>0.810581</td>\n",
       "      <td>0.336043</td>\n",
       "      <td>0.069344</td>\n",
       "      <td>0.111034</td>\n",
       "      <td>0.055750</td>\n",
       "      <td>0.054708</td>\n",
       "      <td>0.322517</td>\n",
       "      <td>0.071758</td>\n",
       "    </tr>\n",
       "    <tr>\n",
       "      <th>4</th>\n",
       "      <td>0.067131</td>\n",
       "      <td>0.473700</td>\n",
       "      <td>0.944800</td>\n",
       "      <td>0.046966</td>\n",
       "      <td>0.087515</td>\n",
       "      <td>0.491448</td>\n",
       "      <td>0.085555</td>\n",
       "      <td>0.040591</td>\n",
       "      <td>0.062134</td>\n",
       "      <td>0.026605</td>\n",
       "      <td>...</td>\n",
       "      <td>0.080619</td>\n",
       "      <td>0.179299</td>\n",
       "      <td>0.694869</td>\n",
       "      <td>0.347339</td>\n",
       "      <td>0.046229</td>\n",
       "      <td>0.101996</td>\n",
       "      <td>0.064044</td>\n",
       "      <td>0.123178</td>\n",
       "      <td>0.286698</td>\n",
       "      <td>0.064516</td>\n",
       "    </tr>\n",
       "  </tbody>\n",
       "</table>\n",
       "<p>5 rows × 503 columns</p>\n",
       "</div>"
      ],
      "text/plain": [
       "          A       AAL       AAP      AAPL      ABBV       ABC       ABT  \\\n",
       "0  0.000000  0.418056  0.956029  0.002056  0.043814  0.366684  0.000000   \n",
       "1  0.024818  0.446591  0.970721  0.000000  0.065179  0.455802  0.015693   \n",
       "2  0.002034  0.388808  0.969462  0.009330  0.076833  0.413199  0.032906   \n",
       "3  0.061028  0.411636  0.945849  0.029888  0.077318  0.461887  0.087580   \n",
       "4  0.067131  0.473700  0.944800  0.046966  0.087515  0.491448  0.085555   \n",
       "\n",
       "        ACN      ADBE       ADI    ...           XL      XLNX       XOM  \\\n",
       "0  0.073698  0.000000  0.051066    ...     0.166359  0.179791  1.000000   \n",
       "1  0.080048  0.008057  0.044629    ...     0.177850  0.158644  0.920745   \n",
       "2  0.040364  0.029663  0.000000    ...     0.139841  0.123728  0.814544   \n",
       "3  0.070070  0.058838  0.012015    ...     0.136305  0.178807  0.810581   \n",
       "4  0.040591  0.062134  0.026605    ...     0.080619  0.179299  0.694869   \n",
       "\n",
       "       XRAY       XRX       XYL       YUM       ZBH      ZION       ZTS  \n",
       "0  0.356753  0.000000  0.114046  0.000000  0.000000  0.308037  0.047134  \n",
       "1  0.386877  0.150246  0.145893  0.010597  0.031885  0.355288  0.072241  \n",
       "2  0.338553  0.132909  0.126097  0.020273  0.054372  0.301178  0.063550  \n",
       "3  0.336043  0.069344  0.111034  0.055750  0.054708  0.322517  0.071758  \n",
       "4  0.347339  0.046229  0.101996  0.064044  0.123178  0.286698  0.064516  \n",
       "\n",
       "[5 rows x 503 columns]"
      ]
     },
     "execution_count": 18,
     "metadata": {},
     "output_type": "execute_result"
    }
   ],
   "source": [
    "dfm.head()"
   ]
  },
  {
   "cell_type": "code",
   "execution_count": 19,
   "metadata": {},
   "outputs": [
    {
     "data": {
      "text/plain": [
       "[<matplotlib.lines.Line2D at 0x7fdf67764250>]"
      ]
     },
     "execution_count": 19,
     "metadata": {},
     "output_type": "execute_result"
    },
    {
     "data": {
      "image/png": "[encoded data removed]",
      "text/plain": [
       "<matplotlib.figure.Figure at 0x7fdf6ea1e290>"
      ]
     },
     "metadata": {},
     "output_type": "display_data"
    }
   ],
   "source": [
    "plt.plot(dfm.AAPL)"
   ]
  },
  {
   "cell_type": "code",
   "execution_count": 20,
   "metadata": {
    "collapsed": true
   },
   "outputs": [],
   "source": [
    "def dias(X):\n",
    "    y = 0\n",
    "    for i in range(1,len(X)):\n",
    "        if (X[i-1]< X[i]):\n",
    "            y = y + 1     \n",
    "    return y\n",
    "def ren(X):\n",
    "    y = []\n",
    "    for i in range(1,len(X)):\n",
    "        y.append((X[i]-X[i-1])/X[i-1])   \n",
    "    return np.mean(y)"
   ]
  },
  {
   "cell_type": "code",
   "execution_count": 21,
   "metadata": {},
   "outputs": [],
   "source": [
    "d = []\n",
    "r = []\n",
    "for col in dfm.columns:\n",
    "    d.append(dias(dfm[col]))\n",
    "    r.append(ren(df[col]))"
   ]
  },
  {
   "cell_type": "code",
   "execution_count": 22,
   "metadata": {},
   "outputs": [],
   "source": [
    "X = pd.DataFrame(columns=df.columns)\n",
    "X = X.T\n",
    "X['Media'] = dfm.mean()\n",
    "X['Std'] = dfm.std()\n",
    "X['dias'] = d\n",
    "X['r'] = r"
   ]
  },
  {
   "cell_type": "code",
   "execution_count": 23,
   "metadata": {},
   "outputs": [
    {
     "data": {
      "text/html": [
       "<div>\n",
       "<style>\n",
       "    .dataframe thead tr:only-child th {\n",
       "        text-align: right;\n",
       "    }\n",
       "\n",
       "    .dataframe thead th {\n",
       "        text-align: left;\n",
       "    }\n",
       "\n",
       "    .dataframe tbody tr th {\n",
       "        vertical-align: top;\n",
       "    }\n",
       "</style>\n",
       "<table border=\"1\" class=\"dataframe\">\n",
       "  <thead>\n",
       "    <tr style=\"text-align: right;\">\n",
       "      <th></th>\n",
       "      <th>Media</th>\n",
       "      <th>Std</th>\n",
       "      <th>dias</th>\n",
       "      <th>r</th>\n",
       "    </tr>\n",
       "  </thead>\n",
       "  <tbody>\n",
       "    <tr>\n",
       "      <th>A</th>\n",
       "      <td>0.531590</td>\n",
       "      <td>0.277873</td>\n",
       "      <td>141</td>\n",
       "      <td>0.001551</td>\n",
       "    </tr>\n",
       "    <tr>\n",
       "      <th>AAL</th>\n",
       "      <td>0.518438</td>\n",
       "      <td>0.230840</td>\n",
       "      <td>128</td>\n",
       "      <td>0.000664</td>\n",
       "    </tr>\n",
       "    <tr>\n",
       "      <th>AAP</th>\n",
       "      <td>0.452856</td>\n",
       "      <td>0.302158</td>\n",
       "      <td>114</td>\n",
       "      <td>-0.001821</td>\n",
       "    </tr>\n",
       "    <tr>\n",
       "      <th>AAPL</th>\n",
       "      <td>0.567622</td>\n",
       "      <td>0.243796</td>\n",
       "      <td>137</td>\n",
       "      <td>0.001632</td>\n",
       "    </tr>\n",
       "    <tr>\n",
       "      <th>ABBV</th>\n",
       "      <td>0.398465</td>\n",
       "      <td>0.333128</td>\n",
       "      <td>143</td>\n",
       "      <td>0.001958</td>\n",
       "    </tr>\n",
       "  </tbody>\n",
       "</table>\n",
       "</div>"
      ],
      "text/plain": [
       "         Media       Std  dias         r\n",
       "A     0.531590  0.277873   141  0.001551\n",
       "AAL   0.518438  0.230840   128  0.000664\n",
       "AAP   0.452856  0.302158   114 -0.001821\n",
       "AAPL  0.567622  0.243796   137  0.001632\n",
       "ABBV  0.398465  0.333128   143  0.001958"
      ]
     },
     "execution_count": 23,
     "metadata": {},
     "output_type": "execute_result"
    }
   ],
   "source": [
    "X.head()"
   ]
  },
  {
   "cell_type": "code",
   "execution_count": 24,
   "metadata": {
    "collapsed": true
   },
   "outputs": [],
   "source": [
    "X= X.fillna(X.mean())"
   ]
  },
  {
   "cell_type": "code",
   "execution_count": 25,
   "metadata": {},
   "outputs": [
    {
     "data": {
      "text/html": [
       "<div>\n",
       "<style>\n",
       "    .dataframe thead tr:only-child th {\n",
       "        text-align: right;\n",
       "    }\n",
       "\n",
       "    .dataframe thead th {\n",
       "        text-align: left;\n",
       "    }\n",
       "\n",
       "    .dataframe tbody tr th {\n",
       "        vertical-align: top;\n",
       "    }\n",
       "</style>\n",
       "<table border=\"1\" class=\"dataframe\">\n",
       "  <thead>\n",
       "    <tr style=\"text-align: right;\">\n",
       "      <th></th>\n",
       "      <th>Media</th>\n",
       "      <th>Std</th>\n",
       "      <th>dias</th>\n",
       "      <th>r</th>\n",
       "    </tr>\n",
       "  </thead>\n",
       "  <tbody>\n",
       "    <tr>\n",
       "      <th>count</th>\n",
       "      <td>503.000000</td>\n",
       "      <td>503.000000</td>\n",
       "      <td>503.000000</td>\n",
       "      <td>503.000000</td>\n",
       "    </tr>\n",
       "    <tr>\n",
       "      <th>mean</th>\n",
       "      <td>0.480162</td>\n",
       "      <td>0.250972</td>\n",
       "      <td>132.304175</td>\n",
       "      <td>0.000747</td>\n",
       "    </tr>\n",
       "    <tr>\n",
       "      <th>std</th>\n",
       "      <td>0.085494</td>\n",
       "      <td>0.030697</td>\n",
       "      <td>11.202808</td>\n",
       "      <td>0.001093</td>\n",
       "    </tr>\n",
       "    <tr>\n",
       "      <th>min</th>\n",
       "      <td>0.151546</td>\n",
       "      <td>0.096946</td>\n",
       "      <td>39.000000</td>\n",
       "      <td>-0.002363</td>\n",
       "    </tr>\n",
       "    <tr>\n",
       "      <th>25%</th>\n",
       "      <td>0.419322</td>\n",
       "      <td>0.232464</td>\n",
       "      <td>126.000000</td>\n",
       "      <td>0.000216</td>\n",
       "    </tr>\n",
       "    <tr>\n",
       "      <th>50%</th>\n",
       "      <td>0.482554</td>\n",
       "      <td>0.251447</td>\n",
       "      <td>133.000000</td>\n",
       "      <td>0.000759</td>\n",
       "    </tr>\n",
       "    <tr>\n",
       "      <th>75%</th>\n",
       "      <td>0.539894</td>\n",
       "      <td>0.270599</td>\n",
       "      <td>139.000000</td>\n",
       "      <td>0.001243</td>\n",
       "    </tr>\n",
       "    <tr>\n",
       "      <th>max</th>\n",
       "      <td>0.781866</td>\n",
       "      <td>0.351502</td>\n",
       "      <td>157.000000</td>\n",
       "      <td>0.013025</td>\n",
       "    </tr>\n",
       "  </tbody>\n",
       "</table>\n",
       "</div>"
      ],
      "text/plain": [
       "            Media         Std        dias           r\n",
       "count  503.000000  503.000000  503.000000  503.000000\n",
       "mean     0.480162    0.250972  132.304175    0.000747\n",
       "std      0.085494    0.030697   11.202808    0.001093\n",
       "min      0.151546    0.096946   39.000000   -0.002363\n",
       "25%      0.419322    0.232464  126.000000    0.000216\n",
       "50%      0.482554    0.251447  133.000000    0.000759\n",
       "75%      0.539894    0.270599  139.000000    0.001243\n",
       "max      0.781866    0.351502  157.000000    0.013025"
      ]
     },
     "execution_count": 25,
     "metadata": {},
     "output_type": "execute_result"
    }
   ],
   "source": [
    "X.describe()"
   ]
  },
  {
   "cell_type": "code",
   "execution_count": 26,
   "metadata": {},
   "outputs": [
    {
     "data": {
      "text/plain": [
       "<matplotlib.axes._subplots.AxesSubplot at 0x7fdf6765a590>"
      ]
     },
     "execution_count": 26,
     "metadata": {},
     "output_type": "execute_result"
    },
    {
     "data": {
      "image/png": "[encoded data removed]",
      "text/plain": [
       "<matplotlib.figure.Figure at 0x7fdf6e928110>"
      ]
     },
     "metadata": {},
     "output_type": "display_data"
    }
   ],
   "source": [
    "sns.heatmap(X.corr())"
   ]
  },
  {
   "cell_type": "code",
   "execution_count": 27,
   "metadata": {
    "collapsed": true
   },
   "outputs": [],
   "source": [
    "sc = StandardScaler()\n",
    "mm = MinMaxScaler()\n",
    "sc.fit(X)\n",
    "mm.fit(X)\n",
    "Xs = pd.DataFrame(sc.transform(X),columns=X.columns)\n",
    "Xmm = pd.DataFrame(mm.transform(X),columns=X.columns)"
   ]
  },
  {
   "cell_type": "code",
   "execution_count": 28,
   "metadata": {
    "collapsed": true
   },
   "outputs": [],
   "source": [
    "pca = PCA(n_components=2)\n",
    "pca.fit(Xs)\n",
    "Xp = pd.DataFrame(pca.transform(Xs),columns=['p1','p2'])"
   ]
  },
  {
   "cell_type": "code",
   "execution_count": 29,
   "metadata": {
    "collapsed": true
   },
   "outputs": [],
   "source": [
    "mds = MDS(n_components=2)\n",
    "Xm = pd.DataFrame(mds.fit_transform(Xmm),columns=['d1','d2'])"
   ]
  },
  {
   "cell_type": "code",
   "execution_count": 30,
   "metadata": {},
   "outputs": [
    {
     "data": {
      "text/plain": [
       "<seaborn.axisgrid.FacetGrid at 0x7fdf6e89a6d0>"
      ]
     },
     "execution_count": 30,
     "metadata": {},
     "output_type": "execute_result"
    },
    {
     "data": {
      "image/png": "[encoded data removed]",
      "text/plain": [
       "<matplotlib.figure.Figure at 0x7fdf675b6810>"
      ]
     },
     "metadata": {},
     "output_type": "display_data"
    }
   ],
   "source": [
    "sns.lmplot(data=Xp,x='p1',y='p2',fit_reg=False)"
   ]
  },
  {
   "cell_type": "code",
   "execution_count": 31,
   "metadata": {},
   "outputs": [
    {
     "data": {
      "text/plain": [
       "<seaborn.axisgrid.FacetGrid at 0x7fdf6712cf50>"
      ]
     },
     "execution_count": 31,
     "metadata": {},
     "output_type": "execute_result"
    },
    {
     "data": {
      "image/png": "[encoded data removed]",
      "text/plain": [
       "<matplotlib.figure.Figure at 0x7fdf6712cb10>"
      ]
     },
     "metadata": {},
     "output_type": "display_data"
    }
   ],
   "source": [
    "sns.lmplot(data=Xm,x='d1',y='d2',fit_reg=False)"
   ]
  },
  {
   "cell_type": "code",
   "execution_count": 32,
   "metadata": {
    "collapsed": true
   },
   "outputs": [],
   "source": [
    "lst_inertia = []\n",
    "for k in range(2,11):\n",
    "    cl = KMeans(n_clusters=k)\n",
    "    cl.fit(Xmm)\n",
    "    lst_inertia.append(cl.inertia_)"
   ]
  },
  {
   "cell_type": "code",
   "execution_count": 33,
   "metadata": {},
   "outputs": [
    {
     "data": {
      "text/plain": [
       "[<matplotlib.lines.Line2D at 0x7fdf6701e190>]"
      ]
     },
     "execution_count": 33,
     "metadata": {},
     "output_type": "execute_result"
    },
    {
     "data": {
      "image/png": "[encoded data removed]",
      "text/plain": [
       "<matplotlib.figure.Figure at 0x7fdf670c9b10>"
      ]
     },
     "metadata": {},
     "output_type": "display_data"
    }
   ],
   "source": [
    "plt.plot(range(2,11),lst_inertia,marker='o')"
   ]
  },
  {
   "cell_type": "code",
   "execution_count": 34,
   "metadata": {
    "collapsed": true
   },
   "outputs": [],
   "source": [
    "cl = AgglomerativeClustering(n_clusters=4)"
   ]
  },
  {
   "cell_type": "code",
   "execution_count": 35,
   "metadata": {
    "collapsed": true
   },
   "outputs": [],
   "source": [
    "Xp['cl']=Xmm['cl'] = Xm['cl']=Xp['cl'] =X['cl']= cl.fit_predict(Xmm)"
   ]
  },
  {
   "cell_type": "code",
   "execution_count": 36,
   "metadata": {
    "collapsed": true
   },
   "outputs": [],
   "source": [
    "from sklearn.feature_selection import SelectKBest"
   ]
  },
  {
   "cell_type": "code",
   "execution_count": 37,
   "metadata": {},
   "outputs": [
    {
     "data": {
      "text/plain": [
       "SelectKBest(k=4, score_func=<function f_classif at 0x7fdf71d709b0>)"
      ]
     },
     "execution_count": 37,
     "metadata": {},
     "output_type": "execute_result"
    }
   ],
   "source": [
    "sk = SelectKBest(k=4)\n",
    "sk.fit(Xmm[['Media','Std','dias','r']],Xmm['cl'])"
   ]
  },
  {
   "cell_type": "code",
   "execution_count": 38,
   "metadata": {},
   "outputs": [
    {
     "data": {
      "text/plain": [
       "['Media', 'Std', 'dias', 'r']"
      ]
     },
     "execution_count": 38,
     "metadata": {},
     "output_type": "execute_result"
    }
   ],
   "source": [
    "var_best= [x for x,y in zip(['Media','Std','dias','r'],sk.get_support()) if y]\n",
    "var_best"
   ]
  },
  {
   "cell_type": "code",
   "execution_count": 39,
   "metadata": {},
   "outputs": [
    {
     "data": {
      "text/plain": [
       "<matplotlib.axes._subplots.AxesSubplot at 0x7fdf66fd3490>"
      ]
     },
     "execution_count": 39,
     "metadata": {},
     "output_type": "execute_result"
    },
    {
     "data": {
      "image/png": "[encoded data removed]",
      "text/plain": [
       "<matplotlib.figure.Figure at 0x7fdf670ed490>"
      ]
     },
     "metadata": {},
     "output_type": "display_data"
    }
   ],
   "source": [
    "sns.heatmap(Xmm[['cl']+var_best].groupby('cl').mean(),annot=True,cmap='RdYlGn')"
   ]
  },
  {
   "cell_type": "code",
   "execution_count": 40,
   "metadata": {},
   "outputs": [
    {
     "data": {
      "text/plain": [
       "<seaborn.axisgrid.FacetGrid at 0x7fdf66f46dd0>"
      ]
     },
     "execution_count": 40,
     "metadata": {},
     "output_type": "execute_result"
    },
    {
     "data": {
      "image/png": "[encoded data removed]",
      "text/plain": [
       "<matplotlib.figure.Figure at 0x7fdf66f46290>"
      ]
     },
     "metadata": {},
     "output_type": "display_data"
    }
   ],
   "source": [
    "sns.lmplot(data=Xp,x='p1',y='p2',hue='cl',fit_reg=False)"
   ]
  },
  {
   "cell_type": "code",
   "execution_count": 41,
   "metadata": {},
   "outputs": [
    {
     "data": {
      "text/plain": [
       "<seaborn.axisgrid.FacetGrid at 0x7fdf66ee4290>"
      ]
     },
     "execution_count": 41,
     "metadata": {},
     "output_type": "execute_result"
    },
    {
     "data": {
      "image/png": "[encoded data removed]",
      "text/plain": [
       "<matplotlib.figure.Figure at 0x7fdf67070450>"
      ]
     },
     "metadata": {},
     "output_type": "display_data"
    }
   ],
   "source": [
    "sns.lmplot(data=Xm,x='d1',y='d2',hue='cl',fit_reg=False)"
   ]
  },
  {
   "cell_type": "code",
   "execution_count": 43,
   "metadata": {},
   "outputs": [
    {
     "data": {
      "text/html": [
       "<div>\n",
       "<style>\n",
       "    .dataframe thead tr:only-child th {\n",
       "        text-align: right;\n",
       "    }\n",
       "\n",
       "    .dataframe thead th {\n",
       "        text-align: left;\n",
       "    }\n",
       "\n",
       "    .dataframe tbody tr th {\n",
       "        vertical-align: top;\n",
       "    }\n",
       "</style>\n",
       "<table border=\"1\" class=\"dataframe\">\n",
       "  <thead>\n",
       "    <tr style=\"text-align: right;\">\n",
       "      <th></th>\n",
       "      <th>Media</th>\n",
       "      <th>Std</th>\n",
       "      <th>dias</th>\n",
       "      <th>r</th>\n",
       "      <th>cl</th>\n",
       "    </tr>\n",
       "  </thead>\n",
       "  <tbody>\n",
       "    <tr>\n",
       "      <th>BHF</th>\n",
       "      <td>0.781866</td>\n",
       "      <td>0.131433</td>\n",
       "      <td>61</td>\n",
       "      <td>0.013025</td>\n",
       "      <td>3</td>\n",
       "    </tr>\n",
       "    <tr>\n",
       "      <th>BKNG</th>\n",
       "      <td>0.489464</td>\n",
       "      <td>0.136761</td>\n",
       "      <td>46</td>\n",
       "      <td>0.000558</td>\n",
       "      <td>3</td>\n",
       "    </tr>\n",
       "    <tr>\n",
       "      <th>WELL</th>\n",
       "      <td>0.151546</td>\n",
       "      <td>0.096946</td>\n",
       "      <td>39</td>\n",
       "      <td>0.008883</td>\n",
       "      <td>3</td>\n",
       "    </tr>\n",
       "  </tbody>\n",
       "</table>\n",
       "</div>"
      ],
      "text/plain": [
       "         Media       Std  dias         r  cl\n",
       "BHF   0.781866  0.131433    61  0.013025   3\n",
       "BKNG  0.489464  0.136761    46  0.000558   3\n",
       "WELL  0.151546  0.096946    39  0.008883   3"
      ]
     },
     "execution_count": 43,
     "metadata": {},
     "output_type": "execute_result"
    }
   ],
   "source": [
    "X.loc[X['cl']==3]"
   ]
  }
 ],
 "metadata": {
  "kernelspec": {
   "display_name": "Python 2",
   "language": "python",
   "name": "python2"
  },
  "language_info": {
   "codemirror_mode": {
    "name": "ipython",
    "version": 2
   },
   "file_extension": ".py",
   "mimetype": "text/x-python",
   "name": "python",
   "nbconvert_exporter": "python",
   "pygments_lexer": "ipython2",
   "version": "2.7.14"
  }
 },
 "nbformat": 4,
 "nbformat_minor": 2
}
