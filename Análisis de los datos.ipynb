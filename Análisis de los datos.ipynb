{
 "cells": [
  {
   "cell_type": "code",
   "execution_count": 122,
   "metadata": {
    "collapsed": true
   },
   "outputs": [],
   "source": [
    "import pandas as pd\n",
    "from __future__ import division\n",
    "import matplotlib.pyplot as plt\n",
    "import seaborn as sns\n",
    "%matplotlib inline"
   ]
  },
  {
   "cell_type": "code",
   "execution_count": 104,
   "metadata": {},
   "outputs": [
    {
     "data": {
      "text/html": [
       "<div>\n",
       "<style>\n",
       "    .dataframe thead tr:only-child th {\n",
       "        text-align: right;\n",
       "    }\n",
       "\n",
       "    .dataframe thead th {\n",
       "        text-align: left;\n",
       "    }\n",
       "\n",
       "    .dataframe tbody tr th {\n",
       "        vertical-align: top;\n",
       "    }\n",
       "</style>\n",
       "<table border=\"1\" class=\"dataframe\">\n",
       "  <thead>\n",
       "    <tr style=\"text-align: right;\">\n",
       "      <th></th>\n",
       "      <th>Date</th>\n",
       "      <th>A</th>\n",
       "      <th>AAL</th>\n",
       "      <th>AAP</th>\n",
       "      <th>AAPL</th>\n",
       "      <th>ABBV</th>\n",
       "      <th>ABC</th>\n",
       "      <th>ABT</th>\n",
       "      <th>ACN</th>\n",
       "      <th>ADBE</th>\n",
       "      <th>...</th>\n",
       "      <th>XL</th>\n",
       "      <th>XLNX</th>\n",
       "      <th>XOM</th>\n",
       "      <th>XRAY</th>\n",
       "      <th>XRX</th>\n",
       "      <th>XYL</th>\n",
       "      <th>YUM</th>\n",
       "      <th>ZBH</th>\n",
       "      <th>ZION</th>\n",
       "      <th>ZTS</th>\n",
       "    </tr>\n",
       "  </thead>\n",
       "  <tbody>\n",
       "    <tr>\n",
       "      <th>0</th>\n",
       "      <td>2017-01-03</td>\n",
       "      <td>46.074703</td>\n",
       "      <td>45.816051</td>\n",
       "      <td>170.237915</td>\n",
       "      <td>113.847588</td>\n",
       "      <td>59.784031</td>\n",
       "      <td>80.855621</td>\n",
       "      <td>37.982937</td>\n",
       "      <td>114.158501</td>\n",
       "      <td>103.480003</td>\n",
       "      <td>...</td>\n",
       "      <td>36.900692</td>\n",
       "      <td>57.513260</td>\n",
       "      <td>86.670731</td>\n",
       "      <td>58.294228</td>\n",
       "      <td>26.833357</td>\n",
       "      <td>48.875042</td>\n",
       "      <td>61.848686</td>\n",
       "      <td>102.513084</td>\n",
       "      <td>42.586197</td>\n",
       "      <td>53.118965</td>\n",
       "    </tr>\n",
       "    <tr>\n",
       "      <th>1</th>\n",
       "      <td>2017-01-04</td>\n",
       "      <td>46.679256</td>\n",
       "      <td>46.211868</td>\n",
       "      <td>171.634933</td>\n",
       "      <td>113.720161</td>\n",
       "      <td>60.626999</td>\n",
       "      <td>82.862099</td>\n",
       "      <td>38.284462</td>\n",
       "      <td>114.432961</td>\n",
       "      <td>104.139999</td>\n",
       "      <td>...</td>\n",
       "      <td>37.027840</td>\n",
       "      <td>57.094593</td>\n",
       "      <td>85.717155</td>\n",
       "      <td>58.771557</td>\n",
       "      <td>27.845938</td>\n",
       "      <td>49.603493</td>\n",
       "      <td>62.073734</td>\n",
       "      <td>103.455551</td>\n",
       "      <td>43.197666</td>\n",
       "      <td>53.634392</td>\n",
       "    </tr>\n",
       "    <tr>\n",
       "      <th>2</th>\n",
       "      <td>2017-01-05</td>\n",
       "      <td>46.124260</td>\n",
       "      <td>45.410336</td>\n",
       "      <td>171.515182</td>\n",
       "      <td>114.298462</td>\n",
       "      <td>61.086800</td>\n",
       "      <td>81.902901</td>\n",
       "      <td>38.615170</td>\n",
       "      <td>112.717552</td>\n",
       "      <td>105.910004</td>\n",
       "      <td>...</td>\n",
       "      <td>36.607288</td>\n",
       "      <td>56.403305</td>\n",
       "      <td>84.439362</td>\n",
       "      <td>58.005840</td>\n",
       "      <td>27.729099</td>\n",
       "      <td>49.150673</td>\n",
       "      <td>62.279217</td>\n",
       "      <td>104.120262</td>\n",
       "      <td>42.497429</td>\n",
       "      <td>53.455975</td>\n",
       "    </tr>\n",
       "    <tr>\n",
       "      <th>3</th>\n",
       "      <td>2017-01-06</td>\n",
       "      <td>47.561314</td>\n",
       "      <td>45.726990</td>\n",
       "      <td>169.269974</td>\n",
       "      <td>115.572708</td>\n",
       "      <td>61.105961</td>\n",
       "      <td>82.999107</td>\n",
       "      <td>39.665661</td>\n",
       "      <td>114.001671</td>\n",
       "      <td>108.300003</td>\n",
       "      <td>...</td>\n",
       "      <td>36.568165</td>\n",
       "      <td>57.493786</td>\n",
       "      <td>84.391678</td>\n",
       "      <td>57.966064</td>\n",
       "      <td>27.300703</td>\n",
       "      <td>48.806133</td>\n",
       "      <td>63.032623</td>\n",
       "      <td>104.130180</td>\n",
       "      <td>42.773582</td>\n",
       "      <td>53.624477</td>\n",
       "    </tr>\n",
       "    <tr>\n",
       "      <th>4</th>\n",
       "      <td>2017-01-09</td>\n",
       "      <td>47.709969</td>\n",
       "      <td>46.587898</td>\n",
       "      <td>169.170197</td>\n",
       "      <td>116.631294</td>\n",
       "      <td>61.508286</td>\n",
       "      <td>83.664680</td>\n",
       "      <td>39.626755</td>\n",
       "      <td>112.727356</td>\n",
       "      <td>108.570000</td>\n",
       "      <td>...</td>\n",
       "      <td>35.952015</td>\n",
       "      <td>57.503525</td>\n",
       "      <td>82.999451</td>\n",
       "      <td>58.145061</td>\n",
       "      <td>27.144920</td>\n",
       "      <td>48.599411</td>\n",
       "      <td>63.208748</td>\n",
       "      <td>106.154053</td>\n",
       "      <td>42.310051</td>\n",
       "      <td>53.475800</td>\n",
       "    </tr>\n",
       "  </tbody>\n",
       "</table>\n",
       "<p>5 rows × 478 columns</p>\n",
       "</div>"
      ],
      "text/plain": [
       "         Date          A        AAL         AAP        AAPL       ABBV  \\\n",
       "0  2017-01-03  46.074703  45.816051  170.237915  113.847588  59.784031   \n",
       "1  2017-01-04  46.679256  46.211868  171.634933  113.720161  60.626999   \n",
       "2  2017-01-05  46.124260  45.410336  171.515182  114.298462  61.086800   \n",
       "3  2017-01-06  47.561314  45.726990  169.269974  115.572708  61.105961   \n",
       "4  2017-01-09  47.709969  46.587898  169.170197  116.631294  61.508286   \n",
       "\n",
       "         ABC        ABT         ACN        ADBE    ...             XL  \\\n",
       "0  80.855621  37.982937  114.158501  103.480003    ...      36.900692   \n",
       "1  82.862099  38.284462  114.432961  104.139999    ...      37.027840   \n",
       "2  81.902901  38.615170  112.717552  105.910004    ...      36.607288   \n",
       "3  82.999107  39.665661  114.001671  108.300003    ...      36.568165   \n",
       "4  83.664680  39.626755  112.727356  108.570000    ...      35.952015   \n",
       "\n",
       "        XLNX        XOM       XRAY        XRX        XYL        YUM  \\\n",
       "0  57.513260  86.670731  58.294228  26.833357  48.875042  61.848686   \n",
       "1  57.094593  85.717155  58.771557  27.845938  49.603493  62.073734   \n",
       "2  56.403305  84.439362  58.005840  27.729099  49.150673  62.279217   \n",
       "3  57.493786  84.391678  57.966064  27.300703  48.806133  63.032623   \n",
       "4  57.503525  82.999451  58.145061  27.144920  48.599411  63.208748   \n",
       "\n",
       "          ZBH       ZION        ZTS  \n",
       "0  102.513084  42.586197  53.118965  \n",
       "1  103.455551  43.197666  53.634392  \n",
       "2  104.120262  42.497429  53.455975  \n",
       "3  104.130180  42.773582  53.624477  \n",
       "4  106.154053  42.310051  53.475800  \n",
       "\n",
       "[5 rows x 478 columns]"
      ]
     },
     "execution_count": 104,
     "metadata": {},
     "output_type": "execute_result"
    }
   ],
   "source": [
    "df = pd.read_csv('S&P500_Data.csv')\n",
    "df.head()"
   ]
  },
  {
   "cell_type": "code",
   "execution_count": 105,
   "metadata": {},
   "outputs": [],
   "source": [
    "df = df.drop(['Date'],axis=1)"
   ]
  },
  {
   "cell_type": "code",
   "execution_count": 106,
   "metadata": {},
   "outputs": [],
   "source": [
    "X = pd.DataFrame(columns=df.columns)\n",
    "X = X.append(df.mean(),ignore_index=True)\n",
    "X = X.append(df.std(),ignore_index=True)\n",
    "X = X.append(df.max(),ignore_index=True)\n",
    "X = X.append(df.min(),ignore_index=True)\n",
    "X = X.append((df.loc[1]-df.loc[294])/(df.loc[1]+0.0002),ignore_index=True)"
   ]
  },
  {
   "cell_type": "code",
   "execution_count": 107,
   "metadata": {},
   "outputs": [
    {
     "data": {
      "text/html": [
       "<div>\n",
       "<style>\n",
       "    .dataframe thead tr:only-child th {\n",
       "        text-align: right;\n",
       "    }\n",
       "\n",
       "    .dataframe thead th {\n",
       "        text-align: left;\n",
       "    }\n",
       "\n",
       "    .dataframe tbody tr th {\n",
       "        vertical-align: top;\n",
       "    }\n",
       "</style>\n",
       "<table border=\"1\" class=\"dataframe\">\n",
       "  <thead>\n",
       "    <tr style=\"text-align: right;\">\n",
       "      <th></th>\n",
       "      <th>A</th>\n",
       "      <th>AAL</th>\n",
       "      <th>AAP</th>\n",
       "      <th>AAPL</th>\n",
       "      <th>ABBV</th>\n",
       "      <th>ABC</th>\n",
       "      <th>ABT</th>\n",
       "      <th>ACN</th>\n",
       "      <th>ADBE</th>\n",
       "      <th>ADI</th>\n",
       "      <th>...</th>\n",
       "      <th>XL</th>\n",
       "      <th>XLNX</th>\n",
       "      <th>XOM</th>\n",
       "      <th>XRAY</th>\n",
       "      <th>XRX</th>\n",
       "      <th>XYL</th>\n",
       "      <th>YUM</th>\n",
       "      <th>ZBH</th>\n",
       "      <th>ZION</th>\n",
       "      <th>ZTS</th>\n",
       "    </tr>\n",
       "  </thead>\n",
       "  <tbody>\n",
       "    <tr>\n",
       "      <th>0</th>\n",
       "      <td>60.739550</td>\n",
       "      <td>48.129606</td>\n",
       "      <td>121.079575</td>\n",
       "      <td>152.203204</td>\n",
       "      <td>79.214971</td>\n",
       "      <td>86.832232</td>\n",
       "      <td>49.676066</td>\n",
       "      <td>132.490910</td>\n",
       "      <td>151.872848</td>\n",
       "      <td>82.316920</td>\n",
       "      <td>...</td>\n",
       "      <td>40.078936</td>\n",
       "      <td>64.692990</td>\n",
       "      <td>79.889458</td>\n",
       "      <td>61.276894</td>\n",
       "      <td>29.477630</td>\n",
       "      <td>58.703414</td>\n",
       "      <td>72.965291</td>\n",
       "      <td>118.534563</td>\n",
       "      <td>45.267900</td>\n",
       "      <td>63.282997</td>\n",
       "    </tr>\n",
       "    <tr>\n",
       "      <th>1</th>\n",
       "      <td>7.523666</td>\n",
       "      <td>3.812878</td>\n",
       "      <td>26.739201</td>\n",
       "      <td>16.213838</td>\n",
       "      <td>18.010996</td>\n",
       "      <td>6.853118</td>\n",
       "      <td>6.407851</td>\n",
       "      <td>15.414089</td>\n",
       "      <td>27.337365</td>\n",
       "      <td>6.129472</td>\n",
       "      <td>...</td>\n",
       "      <td>3.076620</td>\n",
       "      <td>5.704682</td>\n",
       "      <td>2.799934</td>\n",
       "      <td>3.553700</td>\n",
       "      <td>1.900677</td>\n",
       "      <td>8.879065</td>\n",
       "      <td>6.783989</td>\n",
       "      <td>5.240749</td>\n",
       "      <td>4.405313</td>\n",
       "      <td>8.128276</td>\n",
       "    </tr>\n",
       "    <tr>\n",
       "      <th>2</th>\n",
       "      <td>74.820000</td>\n",
       "      <td>58.357773</td>\n",
       "      <td>174.419006</td>\n",
       "      <td>178.970001</td>\n",
       "      <td>123.209999</td>\n",
       "      <td>105.069321</td>\n",
       "      <td>63.419998</td>\n",
       "      <td>164.740005</td>\n",
       "      <td>212.149994</td>\n",
       "      <td>97.239998</td>\n",
       "      <td>...</td>\n",
       "      <td>55.919998</td>\n",
       "      <td>75.901245</td>\n",
       "      <td>88.168411</td>\n",
       "      <td>68.488602</td>\n",
       "      <td>34.130001</td>\n",
       "      <td>76.260002</td>\n",
       "      <td>86.081223</td>\n",
       "      <td>132.071793</td>\n",
       "      <td>56.540001</td>\n",
       "      <td>83.300003</td>\n",
       "    </tr>\n",
       "    <tr>\n",
       "      <th>3</th>\n",
       "      <td>46.074703</td>\n",
       "      <td>40.017048</td>\n",
       "      <td>79.331688</td>\n",
       "      <td>113.720161</td>\n",
       "      <td>58.055347</td>\n",
       "      <td>72.599739</td>\n",
       "      <td>37.982937</td>\n",
       "      <td>110.972725</td>\n",
       "      <td>103.480003</td>\n",
       "      <td>69.780792</td>\n",
       "      <td>...</td>\n",
       "      <td>34.020000</td>\n",
       "      <td>53.953701</td>\n",
       "      <td>74.638931</td>\n",
       "      <td>52.642029</td>\n",
       "      <td>26.833357</td>\n",
       "      <td>46.266403</td>\n",
       "      <td>61.848686</td>\n",
       "      <td>102.513084</td>\n",
       "      <td>38.599903</td>\n",
       "      <td>52.151344</td>\n",
       "    </tr>\n",
       "    <tr>\n",
       "      <th>4</th>\n",
       "      <td>-0.459104</td>\n",
       "      <td>-0.159225</td>\n",
       "      <td>0.309056</td>\n",
       "      <td>-0.553549</td>\n",
       "      <td>-0.889584</td>\n",
       "      <td>-0.142862</td>\n",
       "      <td>-0.590198</td>\n",
       "      <td>-0.380983</td>\n",
       "      <td>-1.035815</td>\n",
       "      <td>-0.298476</td>\n",
       "      <td>...</td>\n",
       "      <td>-0.509942</td>\n",
       "      <td>-0.295743</td>\n",
       "      <td>0.111263</td>\n",
       "      <td>0.040862</td>\n",
       "      <td>-0.078792</td>\n",
       "      <td>-0.517633</td>\n",
       "      <td>-0.311020</td>\n",
       "      <td>-0.141456</td>\n",
       "      <td>-0.308866</td>\n",
       "      <td>-0.519732</td>\n",
       "    </tr>\n",
       "  </tbody>\n",
       "</table>\n",
       "<p>5 rows × 477 columns</p>\n",
       "</div>"
      ],
      "text/plain": [
       "           A        AAL         AAP        AAPL        ABBV         ABC  \\\n",
       "0  60.739550  48.129606  121.079575  152.203204   79.214971   86.832232   \n",
       "1   7.523666   3.812878   26.739201   16.213838   18.010996    6.853118   \n",
       "2  74.820000  58.357773  174.419006  178.970001  123.209999  105.069321   \n",
       "3  46.074703  40.017048   79.331688  113.720161   58.055347   72.599739   \n",
       "4  -0.459104  -0.159225    0.309056   -0.553549   -0.889584   -0.142862   \n",
       "\n",
       "         ABT         ACN        ADBE        ADI    ...             XL  \\\n",
       "0  49.676066  132.490910  151.872848  82.316920    ...      40.078936   \n",
       "1   6.407851   15.414089   27.337365   6.129472    ...       3.076620   \n",
       "2  63.419998  164.740005  212.149994  97.239998    ...      55.919998   \n",
       "3  37.982937  110.972725  103.480003  69.780792    ...      34.020000   \n",
       "4  -0.590198   -0.380983   -1.035815  -0.298476    ...      -0.509942   \n",
       "\n",
       "        XLNX        XOM       XRAY        XRX        XYL        YUM  \\\n",
       "0  64.692990  79.889458  61.276894  29.477630  58.703414  72.965291   \n",
       "1   5.704682   2.799934   3.553700   1.900677   8.879065   6.783989   \n",
       "2  75.901245  88.168411  68.488602  34.130001  76.260002  86.081223   \n",
       "3  53.953701  74.638931  52.642029  26.833357  46.266403  61.848686   \n",
       "4  -0.295743   0.111263   0.040862  -0.078792  -0.517633  -0.311020   \n",
       "\n",
       "          ZBH       ZION        ZTS  \n",
       "0  118.534563  45.267900  63.282997  \n",
       "1    5.240749   4.405313   8.128276  \n",
       "2  132.071793  56.540001  83.300003  \n",
       "3  102.513084  38.599903  52.151344  \n",
       "4   -0.141456  -0.308866  -0.519732  \n",
       "\n",
       "[5 rows x 477 columns]"
      ]
     },
     "execution_count": 107,
     "metadata": {},
     "output_type": "execute_result"
    }
   ],
   "source": [
    "X.head()"
   ]
  },
  {
   "cell_type": "code",
   "execution_count": 108,
   "metadata": {},
   "outputs": [],
   "source": [
    "X= X.fillna(X.mean())"
   ]
  },
  {
   "cell_type": "code",
   "execution_count": 109,
   "metadata": {},
   "outputs": [],
   "source": [
    "X = X.T"
   ]
  },
  {
   "cell_type": "code",
   "execution_count": 110,
   "metadata": {},
   "outputs": [
    {
     "data": {
      "text/html": [
       "<div>\n",
       "<style>\n",
       "    .dataframe thead tr:only-child th {\n",
       "        text-align: right;\n",
       "    }\n",
       "\n",
       "    .dataframe thead th {\n",
       "        text-align: left;\n",
       "    }\n",
       "\n",
       "    .dataframe tbody tr th {\n",
       "        vertical-align: top;\n",
       "    }\n",
       "</style>\n",
       "<table border=\"1\" class=\"dataframe\">\n",
       "  <thead>\n",
       "    <tr style=\"text-align: right;\">\n",
       "      <th></th>\n",
       "      <th>0</th>\n",
       "      <th>1</th>\n",
       "      <th>2</th>\n",
       "      <th>3</th>\n",
       "      <th>4</th>\n",
       "    </tr>\n",
       "  </thead>\n",
       "  <tbody>\n",
       "    <tr>\n",
       "      <th>count</th>\n",
       "      <td>477.000000</td>\n",
       "      <td>477.000000</td>\n",
       "      <td>477.000000</td>\n",
       "      <td>477.000000</td>\n",
       "      <td>477.000000</td>\n",
       "    </tr>\n",
       "    <tr>\n",
       "      <th>mean</th>\n",
       "      <td>99.430960</td>\n",
       "      <td>10.459279</td>\n",
       "      <td>122.272144</td>\n",
       "      <td>80.463277</td>\n",
       "      <td>-0.887761</td>\n",
       "    </tr>\n",
       "    <tr>\n",
       "      <th>std</th>\n",
       "      <td>125.035979</td>\n",
       "      <td>15.258248</td>\n",
       "      <td>159.426357</td>\n",
       "      <td>102.490151</td>\n",
       "      <td>16.708460</td>\n",
       "    </tr>\n",
       "    <tr>\n",
       "      <th>min</th>\n",
       "      <td>1.274597</td>\n",
       "      <td>0.299088</td>\n",
       "      <td>7.180000</td>\n",
       "      <td>0.110000</td>\n",
       "      <td>-363.050971</td>\n",
       "    </tr>\n",
       "    <tr>\n",
       "      <th>25%</th>\n",
       "      <td>45.755490</td>\n",
       "      <td>3.812878</td>\n",
       "      <td>55.743759</td>\n",
       "      <td>37.496147</td>\n",
       "      <td>-0.376610</td>\n",
       "    </tr>\n",
       "    <tr>\n",
       "      <th>50%</th>\n",
       "      <td>72.965291</td>\n",
       "      <td>6.307900</td>\n",
       "      <td>85.788559</td>\n",
       "      <td>60.409145</td>\n",
       "      <td>-0.189337</td>\n",
       "    </tr>\n",
       "    <tr>\n",
       "      <th>75%</th>\n",
       "      <td>117.321213</td>\n",
       "      <td>11.968258</td>\n",
       "      <td>140.786255</td>\n",
       "      <td>93.259918</td>\n",
       "      <td>0.015949</td>\n",
       "    </tr>\n",
       "    <tr>\n",
       "      <th>max</th>\n",
       "      <td>1698.966046</td>\n",
       "      <td>182.355288</td>\n",
       "      <td>2085.510010</td>\n",
       "      <td>1477.569946</td>\n",
       "      <td>37.254886</td>\n",
       "    </tr>\n",
       "  </tbody>\n",
       "</table>\n",
       "</div>"
      ],
      "text/plain": [
       "                 0           1            2            3           4\n",
       "count   477.000000  477.000000   477.000000   477.000000  477.000000\n",
       "mean     99.430960   10.459279   122.272144    80.463277   -0.887761\n",
       "std     125.035979   15.258248   159.426357   102.490151   16.708460\n",
       "min       1.274597    0.299088     7.180000     0.110000 -363.050971\n",
       "25%      45.755490    3.812878    55.743759    37.496147   -0.376610\n",
       "50%      72.965291    6.307900    85.788559    60.409145   -0.189337\n",
       "75%     117.321213   11.968258   140.786255    93.259918    0.015949\n",
       "max    1698.966046  182.355288  2085.510010  1477.569946   37.254886"
      ]
     },
     "execution_count": 110,
     "metadata": {},
     "output_type": "execute_result"
    }
   ],
   "source": [
    "X.describe()"
   ]
  },
  {
   "cell_type": "code",
   "execution_count": 111,
   "metadata": {
    "collapsed": true
   },
   "outputs": [],
   "source": [
    "from sklearn.preprocessing import StandardScaler, MinMaxScaler\n",
    "from sklearn.decomposition import PCA\n",
    "from sklearn.manifold import MDS"
   ]
  },
  {
   "cell_type": "code",
   "execution_count": 112,
   "metadata": {},
   "outputs": [],
   "source": [
    "sc = StandardScaler()\n",
    "mm = MinMaxScaler()\n",
    "sc.fit(X)\n",
    "mm.fit(X)\n",
    "Xs = pd.DataFrame(sc.transform(X),columns=X.columns)\n",
    "Xmm = pd.DataFrame(mm.transform(X),columns=X.columns)"
   ]
  },
  {
   "cell_type": "code",
   "execution_count": 114,
   "metadata": {},
   "outputs": [],
   "source": [
    "pca = PCA(n_components=2)\n",
    "pca.fit(Xs)\n",
    "Xp = pd.DataFrame(pca.transform(Xs),columns=['p1','p2'])"
   ]
  },
  {
   "cell_type": "code",
   "execution_count": 115,
   "metadata": {
    "collapsed": true
   },
   "outputs": [],
   "source": [
    "mds = MDS(n_components=2)\n",
    "Xm = pd.DataFrame(mds.fit_transform(Xmm),columns=['d1','d2'])"
   ]
  },
  {
   "cell_type": "code",
   "execution_count": 117,
   "metadata": {},
   "outputs": [
    {
     "data": {
      "text/plain": [
       "<seaborn.axisgrid.FacetGrid at 0x7ffa1185b090>"
      ]
     },
     "execution_count": 117,
     "metadata": {},
     "output_type": "execute_result"
    },
    {
     "data": {
      "image/png": "[encoded data removed]",
      "text/plain": [
       "<matplotlib.figure.Figure at 0x7ffa1185ba10>"
      ]
     },
     "metadata": {},
     "output_type": "display_data"
    }
   ],
   "source": [
    "sns.lmplot(data=Xp,x='p1',y='p2',fit_reg=False)"
   ]
  },
  {
   "cell_type": "code",
   "execution_count": 118,
   "metadata": {},
   "outputs": [
    {
     "data": {
      "text/plain": [
       "<seaborn.axisgrid.FacetGrid at 0x7ffa0f9ee490>"
      ]
     },
     "execution_count": 118,
     "metadata": {},
     "output_type": "execute_result"
    },
    {
     "data": {
      "image/png": "[encoded data removed]",
      "text/plain": [
       "<matplotlib.figure.Figure at 0x7ffa0f9ee750>"
      ]
     },
     "metadata": {},
     "output_type": "display_data"
    }
   ],
   "source": [
    "sns.lmplot(data=Xm,x='d1',y='d2',fit_reg=False)"
   ]
  },
  {
   "cell_type": "code",
   "execution_count": 119,
   "metadata": {
    "collapsed": true
   },
   "outputs": [],
   "source": [
    "from sklearn.cluster import AgglomerativeClustering, KMeans\n",
    "from sklearn.mixture import GMM"
   ]
  },
  {
   "cell_type": "code",
   "execution_count": 120,
   "metadata": {
    "collapsed": true
   },
   "outputs": [],
   "source": [
    "lst_inertia = []\n",
    "for k in range(2,11):\n",
    "    cl = KMeans(n_clusters=k)\n",
    "    cl.fit(Xmm)\n",
    "    lst_inertia.append(cl.inertia_)"
   ]
  },
  {
   "cell_type": "code",
   "execution_count": 123,
   "metadata": {},
   "outputs": [
    {
     "data": {
      "text/plain": [
       "[<matplotlib.lines.Line2D at 0x7ffa0fe138d0>]"
      ]
     },
     "execution_count": 123,
     "metadata": {},
     "output_type": "execute_result"
    },
    {
     "data": {
      "image/png": "[encoded data removed]",
      "text/plain": [
       "<matplotlib.figure.Figure at 0x7ffa0fe13d50>"
      ]
     },
     "metadata": {},
     "output_type": "display_data"
    }
   ],
   "source": [
    "plt.plot(range(2,11),lst_inertia,marker='o')"
   ]
  },
  {
   "cell_type": "code",
   "execution_count": 124,
   "metadata": {
    "collapsed": true
   },
   "outputs": [],
   "source": [
    "cl = AgglomerativeClustering(n_clusters=4)"
   ]
  },
  {
   "cell_type": "code",
   "execution_count": 137,
   "metadata": {},
   "outputs": [],
   "source": [
    "Xp['cl']=Xmm['cl'] = Xm['cl']=Xp['cl'] =X['cl']= cl.fit_predict(Xmm)"
   ]
  },
  {
   "cell_type": "code",
   "execution_count": 127,
   "metadata": {
    "collapsed": true
   },
   "outputs": [],
   "source": [
    "from sklearn.feature_selection import SelectKBest"
   ]
  },
  {
   "cell_type": "code",
   "execution_count": 129,
   "metadata": {},
   "outputs": [
    {
     "data": {
      "text/plain": [
       "SelectKBest(k=5, score_func=<function f_classif at 0x7ffa11944848>)"
      ]
     },
     "execution_count": 129,
     "metadata": {},
     "output_type": "execute_result"
    }
   ],
   "source": [
    "sk = SelectKBest(k=5)\n",
    "sk.fit(Xmm[[0,1,2,3,4]],Xmm['cl'])"
   ]
  },
  {
   "cell_type": "code",
   "execution_count": 131,
   "metadata": {},
   "outputs": [
    {
     "data": {
      "text/plain": [
       "[0, 1, 2, 3, 4]"
      ]
     },
     "execution_count": 131,
     "metadata": {},
     "output_type": "execute_result"
    }
   ],
   "source": [
    "var_best= [x for x,y in zip([0,1,2,3,4],sk.get_support()) if y]\n",
    "var_best"
   ]
  },
  {
   "cell_type": "code",
   "execution_count": 132,
   "metadata": {},
   "outputs": [
    {
     "data": {
      "text/plain": [
       "<matplotlib.axes._subplots.AxesSubplot at 0x7ffa0ffc4190>"
      ]
     },
     "execution_count": 132,
     "metadata": {},
     "output_type": "execute_result"
    },
    {
     "data": {
      "image/png": "[encoded data removed]",
      "text/plain": [
       "<matplotlib.figure.Figure at 0x7ffa101c7b10>"
      ]
     },
     "metadata": {},
     "output_type": "display_data"
    }
   ],
   "source": [
    "sns.heatmap(Xmm[['cl']+var_best].groupby('cl').mean(),annot=True,cmap='RdYlGn')"
   ]
  },
  {
   "cell_type": "code",
   "execution_count": 133,
   "metadata": {},
   "outputs": [
    {
     "data": {
      "text/plain": [
       "<seaborn.axisgrid.FacetGrid at 0x7ffa100cedd0>"
      ]
     },
     "execution_count": 133,
     "metadata": {},
     "output_type": "execute_result"
    },
    {
     "data": {
      "image/png": "[encoded data removed]",
      "text/plain": [
       "<matplotlib.figure.Figure at 0x7ffa1044df50>"
      ]
     },
     "metadata": {},
     "output_type": "display_data"
    }
   ],
   "source": [
    "sns.lmplot(data=Xp,x='p1',y='p2',hue='cl',fit_reg=False)"
   ]
  },
  {
   "cell_type": "code",
   "execution_count": 134,
   "metadata": {},
   "outputs": [
    {
     "data": {
      "text/plain": [
       "<seaborn.axisgrid.FacetGrid at 0x7ffa1052c890>"
      ]
     },
     "execution_count": 134,
     "metadata": {},
     "output_type": "execute_result"
    },
    {
     "data": {
      "image/png": "[encoded data removed]",
      "text/plain": [
       "<matplotlib.figure.Figure at 0x7ffa10551e90>"
      ]
     },
     "metadata": {},
     "output_type": "display_data"
    }
   ],
   "source": [
    "sns.lmplot(data=Xm,x='d1',y='d2',hue='cl',fit_reg=False)"
   ]
  },
  {
   "cell_type": "code",
   "execution_count": 139,
   "metadata": {},
   "outputs": [
    {
     "data": {
      "text/html": [
       "<div>\n",
       "<style>\n",
       "    .dataframe thead tr:only-child th {\n",
       "        text-align: right;\n",
       "    }\n",
       "\n",
       "    .dataframe thead th {\n",
       "        text-align: left;\n",
       "    }\n",
       "\n",
       "    .dataframe tbody tr th {\n",
       "        vertical-align: top;\n",
       "    }\n",
       "</style>\n",
       "<table border=\"1\" class=\"dataframe\">\n",
       "  <thead>\n",
       "    <tr style=\"text-align: right;\">\n",
       "      <th></th>\n",
       "      <th>0</th>\n",
       "      <th>1</th>\n",
       "      <th>2</th>\n",
       "      <th>3</th>\n",
       "      <th>4</th>\n",
       "      <th>cl</th>\n",
       "    </tr>\n",
       "  </thead>\n",
       "  <tbody>\n",
       "    <tr>\n",
       "      <th>WELL</th>\n",
       "      <td>1.274597</td>\n",
       "      <td>7.626933</td>\n",
       "      <td>54.07</td>\n",
       "      <td>0.11</td>\n",
       "      <td>-363.050971</td>\n",
       "      <td>3</td>\n",
       "    </tr>\n",
       "  </tbody>\n",
       "</table>\n",
       "</div>"
      ],
      "text/plain": [
       "             0         1      2     3           4  cl\n",
       "WELL  1.274597  7.626933  54.07  0.11 -363.050971   3"
      ]
     },
     "execution_count": 139,
     "metadata": {},
     "output_type": "execute_result"
    }
   ],
   "source": [
    "X.loc[X['cl']==3]"
   ]
  }
 ],
 "metadata": {
  "kernelspec": {
   "display_name": "Python 2",
   "language": "python",
   "name": "python2"
  },
  "language_info": {
   "codemirror_mode": {
    "name": "ipython",
    "version": 2
   },
   "file_extension": ".py",
   "mimetype": "text/x-python",
   "name": "python",
   "nbconvert_exporter": "python",
   "pygments_lexer": "ipython2",
   "version": "2.7.14"
  }
 },
 "nbformat": 4,
 "nbformat_minor": 2
}
